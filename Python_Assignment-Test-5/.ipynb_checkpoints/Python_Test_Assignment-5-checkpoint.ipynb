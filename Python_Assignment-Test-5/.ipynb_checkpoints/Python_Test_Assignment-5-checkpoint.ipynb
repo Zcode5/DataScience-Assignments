{
 "cells": [
  {
   "cell_type": "code",
   "execution_count": 7,
   "id": "30bce1fe",
   "metadata": {},
   "outputs": [],
   "source": [
    "import numpy as np\n",
    "import pandas as pd"
   ]
  },
  {
   "cell_type": "markdown",
   "id": "7db4e892",
   "metadata": {},
   "source": [
    "1. Create a program that asks the user to enter their name and their age. Print out a message that tells them the year that they will turn 100 years old\n"
   ]
  },
  {
   "cell_type": "code",
   "execution_count": 5,
   "id": "e1b5576e",
   "metadata": {},
   "outputs": [
    {
     "name": "stdout",
     "output_type": "stream",
     "text": [
      "Enter your name Sri\n",
      "Enter your age 30\n",
      "Name :  Sri\n",
      "Age :  30\n"
     ]
    }
   ],
   "source": [
    "name = input(\"Enter your name \")\n",
    "age = int(input(\"Enter your age \"))\n",
    "print('Name : ',name)\n",
    "print('Age : ', age)"
   ]
  },
  {
   "cell_type": "markdown",
   "id": "a64e74f1",
   "metadata": {},
   "source": [
    " 2. What is pandas groupby? Demonstrate with your own example"
   ]
  },
  {
   "cell_type": "markdown",
   "id": "54dab213",
   "metadata": {},
   "source": [
    "###### Pandas group by will allow us for aggrations with respect to particular column catgory of values"
   ]
  },
  {
   "cell_type": "code",
   "execution_count": 22,
   "id": "d6eab0c7",
   "metadata": {},
   "outputs": [
    {
     "data": {
      "text/html": [
       "<div>\n",
       "<style scoped>\n",
       "    .dataframe tbody tr th:only-of-type {\n",
       "        vertical-align: middle;\n",
       "    }\n",
       "\n",
       "    .dataframe tbody tr th {\n",
       "        vertical-align: top;\n",
       "    }\n",
       "\n",
       "    .dataframe thead th {\n",
       "        text-align: right;\n",
       "    }\n",
       "</style>\n",
       "<table border=\"1\" class=\"dataframe\">\n",
       "  <thead>\n",
       "    <tr style=\"text-align: right;\">\n",
       "      <th></th>\n",
       "      <th>year</th>\n",
       "      <th>sub</th>\n",
       "      <th>sem1</th>\n",
       "      <th>sem2</th>\n",
       "      <th>sem3</th>\n",
       "    </tr>\n",
       "  </thead>\n",
       "  <tbody>\n",
       "    <tr>\n",
       "      <th>0</th>\n",
       "      <td>1</td>\n",
       "      <td>Maths</td>\n",
       "      <td>20</td>\n",
       "      <td>90</td>\n",
       "      <td>40</td>\n",
       "    </tr>\n",
       "    <tr>\n",
       "      <th>1</th>\n",
       "      <td>1</td>\n",
       "      <td>physics</td>\n",
       "      <td>10</td>\n",
       "      <td>20</td>\n",
       "      <td>40</td>\n",
       "    </tr>\n",
       "    <tr>\n",
       "      <th>2</th>\n",
       "      <td>2</td>\n",
       "      <td>Maths</td>\n",
       "      <td>25</td>\n",
       "      <td>43</td>\n",
       "      <td>50</td>\n",
       "    </tr>\n",
       "    <tr>\n",
       "      <th>3</th>\n",
       "      <td>2</td>\n",
       "      <td>physics</td>\n",
       "      <td>20</td>\n",
       "      <td>10</td>\n",
       "      <td>60</td>\n",
       "    </tr>\n",
       "  </tbody>\n",
       "</table>\n",
       "</div>"
      ],
      "text/plain": [
       "   year      sub  sem1  sem2  sem3\n",
       "0     1    Maths    20    90    40\n",
       "1     1  physics    10    20    40\n",
       "2     2    Maths    25    43    50\n",
       "3     2  physics    20    10    60"
      ]
     },
     "execution_count": 22,
     "metadata": {},
     "output_type": "execute_result"
    }
   ],
   "source": [
    "df = pd.DataFrame([[1,'Maths',20,90,40],[1,'physics',10,20,40],[2,'Maths',25,43,50],[2,'physics',20,10,60]],columns=['year','sub','sem1','sem2','sem3'])\n",
    "df"
   ]
  },
  {
   "cell_type": "code",
   "execution_count": 26,
   "id": "c818abf6",
   "metadata": {},
   "outputs": [
    {
     "name": "stderr",
     "output_type": "stream",
     "text": [
      "/tmp/ipykernel_35159/2581510420.py:1: FutureWarning: Indexing with multiple keys (implicitly converted to a tuple of keys) will be deprecated, use a list instead.\n",
      "  df.groupby(['sub'])['sem1','sem2','sem3'].max()\n"
     ]
    },
    {
     "data": {
      "text/html": [
       "<div>\n",
       "<style scoped>\n",
       "    .dataframe tbody tr th:only-of-type {\n",
       "        vertical-align: middle;\n",
       "    }\n",
       "\n",
       "    .dataframe tbody tr th {\n",
       "        vertical-align: top;\n",
       "    }\n",
       "\n",
       "    .dataframe thead th {\n",
       "        text-align: right;\n",
       "    }\n",
       "</style>\n",
       "<table border=\"1\" class=\"dataframe\">\n",
       "  <thead>\n",
       "    <tr style=\"text-align: right;\">\n",
       "      <th></th>\n",
       "      <th>sem1</th>\n",
       "      <th>sem2</th>\n",
       "      <th>sem3</th>\n",
       "    </tr>\n",
       "    <tr>\n",
       "      <th>sub</th>\n",
       "      <th></th>\n",
       "      <th></th>\n",
       "      <th></th>\n",
       "    </tr>\n",
       "  </thead>\n",
       "  <tbody>\n",
       "    <tr>\n",
       "      <th>Maths</th>\n",
       "      <td>25</td>\n",
       "      <td>90</td>\n",
       "      <td>50</td>\n",
       "    </tr>\n",
       "    <tr>\n",
       "      <th>physics</th>\n",
       "      <td>20</td>\n",
       "      <td>20</td>\n",
       "      <td>60</td>\n",
       "    </tr>\n",
       "  </tbody>\n",
       "</table>\n",
       "</div>"
      ],
      "text/plain": [
       "         sem1  sem2  sem3\n",
       "sub                      \n",
       "Maths      25    90    50\n",
       "physics    20    20    60"
      ]
     },
     "execution_count": 26,
     "metadata": {},
     "output_type": "execute_result"
    }
   ],
   "source": [
    "df.groupby(['sub'])['sem1','sem2','sem3'].max()"
   ]
  },
  {
   "cell_type": "markdown",
   "id": "4dffc160",
   "metadata": {},
   "source": [
    "3. How to create a dataframe from list?\n"
   ]
  },
  {
   "cell_type": "code",
   "execution_count": 33,
   "id": "44a2dee2",
   "metadata": {},
   "outputs": [
    {
     "data": {
      "text/plain": [
       "0     1\n",
       "1    hi\n",
       "2     a\n",
       "dtype: object"
      ]
     },
     "execution_count": 33,
     "metadata": {},
     "output_type": "execute_result"
    }
   ],
   "source": [
    "d1 = pd.Series([1,'hi','a'])\n",
    "d1"
   ]
  },
  {
   "cell_type": "code",
   "execution_count": 37,
   "id": "eeb50448",
   "metadata": {},
   "outputs": [
    {
     "data": {
      "text/html": [
       "<div>\n",
       "<style scoped>\n",
       "    .dataframe tbody tr th:only-of-type {\n",
       "        vertical-align: middle;\n",
       "    }\n",
       "\n",
       "    .dataframe tbody tr th {\n",
       "        vertical-align: top;\n",
       "    }\n",
       "\n",
       "    .dataframe thead th {\n",
       "        text-align: right;\n",
       "    }\n",
       "</style>\n",
       "<table border=\"1\" class=\"dataframe\">\n",
       "  <thead>\n",
       "    <tr style=\"text-align: right;\">\n",
       "      <th></th>\n",
       "      <th>v1</th>\n",
       "      <th>v2</th>\n",
       "      <th>v3</th>\n",
       "    </tr>\n",
       "  </thead>\n",
       "  <tbody>\n",
       "    <tr>\n",
       "      <th>0</th>\n",
       "      <td>1</td>\n",
       "      <td>2</td>\n",
       "      <td>3</td>\n",
       "    </tr>\n",
       "    <tr>\n",
       "      <th>1</th>\n",
       "      <td>4</td>\n",
       "      <td>5</td>\n",
       "      <td>6</td>\n",
       "    </tr>\n",
       "  </tbody>\n",
       "</table>\n",
       "</div>"
      ],
      "text/plain": [
       "   v1  v2  v3\n",
       "0   1   2   3\n",
       "1   4   5   6"
      ]
     },
     "execution_count": 37,
     "metadata": {},
     "output_type": "execute_result"
    }
   ],
   "source": [
    "d2 = pd.DataFrame([[1,2,3],[4,5,6]],columns=['v1','v2','v3'])\n",
    "d2"
   ]
  },
  {
   "cell_type": "markdown",
   "id": "37430554",
   "metadata": {},
   "source": [
    "4. What are the ways to combine the dataframe in pandas. Give an example for each"
   ]
  },
  {
   "cell_type": "code",
   "execution_count": 75,
   "id": "824335a3",
   "metadata": {},
   "outputs": [],
   "source": [
    "df1 = pd.DataFrame({'id': ['A01', 'A02', 'A03', 'A04'],\n",
    "                    'Name': ['ABC', 'PQR', 'DEF', 'GHI']})\n",
    "  \n",
    "df2 = pd.DataFrame({'City': ['MUMBAI', 'PUNE', 'MUMBAI', 'DELHI'],\n",
    "                    'Age': ['12', '13', '14', '12']})"
   ]
  },
  {
   "cell_type": "code",
   "execution_count": 78,
   "id": "9dbc8967",
   "metadata": {},
   "outputs": [
    {
     "data": {
      "text/html": [
       "<div>\n",
       "<style scoped>\n",
       "    .dataframe tbody tr th:only-of-type {\n",
       "        vertical-align: middle;\n",
       "    }\n",
       "\n",
       "    .dataframe tbody tr th {\n",
       "        vertical-align: top;\n",
       "    }\n",
       "\n",
       "    .dataframe thead th {\n",
       "        text-align: right;\n",
       "    }\n",
       "</style>\n",
       "<table border=\"1\" class=\"dataframe\">\n",
       "  <thead>\n",
       "    <tr style=\"text-align: right;\">\n",
       "      <th></th>\n",
       "      <th>id</th>\n",
       "      <th>Name</th>\n",
       "      <th>City</th>\n",
       "      <th>Age</th>\n",
       "    </tr>\n",
       "  </thead>\n",
       "  <tbody>\n",
       "    <tr>\n",
       "      <th>0</th>\n",
       "      <td>A01</td>\n",
       "      <td>ABC</td>\n",
       "      <td>MUMBAI</td>\n",
       "      <td>12</td>\n",
       "    </tr>\n",
       "    <tr>\n",
       "      <th>1</th>\n",
       "      <td>A02</td>\n",
       "      <td>PQR</td>\n",
       "      <td>PUNE</td>\n",
       "      <td>13</td>\n",
       "    </tr>\n",
       "    <tr>\n",
       "      <th>2</th>\n",
       "      <td>A03</td>\n",
       "      <td>DEF</td>\n",
       "      <td>MUMBAI</td>\n",
       "      <td>14</td>\n",
       "    </tr>\n",
       "    <tr>\n",
       "      <th>3</th>\n",
       "      <td>A04</td>\n",
       "      <td>GHI</td>\n",
       "      <td>DELHI</td>\n",
       "      <td>12</td>\n",
       "    </tr>\n",
       "  </tbody>\n",
       "</table>\n",
       "</div>"
      ],
      "text/plain": [
       "    id Name    City Age\n",
       "0  A01  ABC  MUMBAI  12\n",
       "1  A02  PQR    PUNE  13\n",
       "2  A03  DEF  MUMBAI  14\n",
       "3  A04  GHI   DELHI  12"
      ]
     },
     "execution_count": 78,
     "metadata": {},
     "output_type": "execute_result"
    }
   ],
   "source": [
    "#using Concat\n",
    "pd.concat([df1,df2],axis=1)"
   ]
  },
  {
   "cell_type": "code",
   "execution_count": 82,
   "id": "72bec245",
   "metadata": {},
   "outputs": [
    {
     "data": {
      "text/html": [
       "<div>\n",
       "<style scoped>\n",
       "    .dataframe tbody tr th:only-of-type {\n",
       "        vertical-align: middle;\n",
       "    }\n",
       "\n",
       "    .dataframe tbody tr th {\n",
       "        vertical-align: top;\n",
       "    }\n",
       "\n",
       "    .dataframe thead th {\n",
       "        text-align: right;\n",
       "    }\n",
       "</style>\n",
       "<table border=\"1\" class=\"dataframe\">\n",
       "  <thead>\n",
       "    <tr style=\"text-align: right;\">\n",
       "      <th></th>\n",
       "      <th>id</th>\n",
       "      <th>Name</th>\n",
       "    </tr>\n",
       "  </thead>\n",
       "  <tbody>\n",
       "    <tr>\n",
       "      <th>0</th>\n",
       "      <td>A01</td>\n",
       "      <td>ABC</td>\n",
       "    </tr>\n",
       "    <tr>\n",
       "      <th>1</th>\n",
       "      <td>A02</td>\n",
       "      <td>PQR</td>\n",
       "    </tr>\n",
       "    <tr>\n",
       "      <th>2</th>\n",
       "      <td>A03</td>\n",
       "      <td>DEF</td>\n",
       "    </tr>\n",
       "    <tr>\n",
       "      <th>3</th>\n",
       "      <td>A04</td>\n",
       "      <td>GHI</td>\n",
       "    </tr>\n",
       "    <tr>\n",
       "      <th>0</th>\n",
       "      <td>B05</td>\n",
       "      <td>XYZ</td>\n",
       "    </tr>\n",
       "    <tr>\n",
       "      <th>1</th>\n",
       "      <td>B06</td>\n",
       "      <td>TUV</td>\n",
       "    </tr>\n",
       "    <tr>\n",
       "      <th>2</th>\n",
       "      <td>B07</td>\n",
       "      <td>MNO</td>\n",
       "    </tr>\n",
       "    <tr>\n",
       "      <th>3</th>\n",
       "      <td>B08</td>\n",
       "      <td>JKL</td>\n",
       "    </tr>\n",
       "  </tbody>\n",
       "</table>\n",
       "</div>"
      ],
      "text/plain": [
       "    id Name\n",
       "0  A01  ABC\n",
       "1  A02  PQR\n",
       "2  A03  DEF\n",
       "3  A04  GHI\n",
       "0  B05  XYZ\n",
       "1  B06  TUV\n",
       "2  B07  MNO\n",
       "3  B08  JKL"
      ]
     },
     "execution_count": 82,
     "metadata": {},
     "output_type": "execute_result"
    }
   ],
   "source": [
    "#using append\n",
    "df1 = pd.DataFrame({'id': ['A01', 'A02', 'A03', 'A04'],\n",
    "                    'Name': ['ABC', 'PQR', 'DEF', 'GHI']})\n",
    "  \n",
    "# Second DataFrame\n",
    "df2 = pd.DataFrame({'id': ['B05', 'B06', 'B07', 'B08'],\n",
    "                    'Name': ['XYZ', 'TUV', 'MNO', 'JKL']})\n",
    "df1.append(df2)"
   ]
  },
  {
   "cell_type": "markdown",
   "id": "f38d8eda",
   "metadata": {},
   "source": [
    "5. What is the difference between list and tuples in Python?\n",
    " "
   ]
  },
  {
   "cell_type": "markdown",
   "id": "c8d495d5",
   "metadata": {},
   "source": [
    "* List is mutable where as tuple is immutable.\n",
    "* List is more flexible compare to tuple\n",
    "* List as many functions than tuple\n",
    "* Tuple is more memory efficient than list\n"
   ]
  },
  {
   "cell_type": "markdown",
   "id": "25fbbe9d",
   "metadata": {},
   "source": [
    "6. Find out the mean, median and standard deviation of this numpy array -> np.array([1,5,3,100,4,48])\n"
   ]
  },
  {
   "cell_type": "code",
   "execution_count": 40,
   "id": "68f26fe9",
   "metadata": {},
   "outputs": [],
   "source": [
    "a = np.array([1,5,3,100,4,48])"
   ]
  },
  {
   "cell_type": "code",
   "execution_count": 47,
   "id": "a69d3dd9",
   "metadata": {},
   "outputs": [
    {
     "data": {
      "text/plain": [
       "26.833333333333332"
      ]
     },
     "execution_count": 47,
     "metadata": {},
     "output_type": "execute_result"
    }
   ],
   "source": [
    "np.mean(a)"
   ]
  },
  {
   "cell_type": "code",
   "execution_count": 46,
   "id": "d7d0b8ea",
   "metadata": {},
   "outputs": [
    {
     "data": {
      "text/plain": [
       "36.59424666377065"
      ]
     },
     "execution_count": 46,
     "metadata": {},
     "output_type": "execute_result"
    }
   ],
   "source": [
    "np.std(a)"
   ]
  },
  {
   "cell_type": "code",
   "execution_count": 45,
   "id": "e59df6ee",
   "metadata": {},
   "outputs": [
    {
     "data": {
      "text/plain": [
       "4.5"
      ]
     },
     "execution_count": 45,
     "metadata": {},
     "output_type": "execute_result"
    }
   ],
   "source": [
    "np.median(a)"
   ]
  },
  {
   "cell_type": "markdown",
   "id": "f6423a95",
   "metadata": {},
   "source": [
    "7. How will you remove duplicate elements from a list?\n"
   ]
  },
  {
   "cell_type": "code",
   "execution_count": 49,
   "id": "827daaa5",
   "metadata": {},
   "outputs": [
    {
     "data": {
      "text/plain": [
       "[2, 3, 2]"
      ]
     },
     "execution_count": 49,
     "metadata": {},
     "output_type": "execute_result"
    }
   ],
   "source": [
    "a =  [2,3,2]\n",
    "a"
   ]
  },
  {
   "cell_type": "code",
   "execution_count": 51,
   "id": "2609be81",
   "metadata": {},
   "outputs": [
    {
     "data": {
      "text/plain": [
       "[2, 3]"
      ]
     },
     "execution_count": 51,
     "metadata": {},
     "output_type": "execute_result"
    }
   ],
   "source": [
    "a = list(set(a))\n",
    "a"
   ]
  },
  {
   "cell_type": "markdown",
   "id": "eab032ac",
   "metadata": {},
   "source": [
    "8. What is a map() function in Python? Give an example\n"
   ]
  },
  {
   "cell_type": "markdown",
   "id": "42409281",
   "metadata": {},
   "source": [
    "Map function is to generate new value from the existing value based on the given function logic. THis will be usedful to convert from one standard to other standard. Let's say cm to inches. "
   ]
  },
  {
   "cell_type": "code",
   "execution_count": 63,
   "id": "329b4d9b",
   "metadata": {},
   "outputs": [
    {
     "data": {
      "text/plain": [
       "[4, 9, 16]"
      ]
     },
     "execution_count": 63,
     "metadata": {},
     "output_type": "execute_result"
    }
   ],
   "source": [
    "a = map(lambda x : x*x,[2,3,4])\n",
    "list(a)"
   ]
  },
  {
   "cell_type": "markdown",
   "id": "7214e9ec",
   "metadata": {},
   "source": [
    "9. What is pass in Python?"
   ]
  },
  {
   "cell_type": "markdown",
   "id": "6083b730",
   "metadata": {},
   "source": [
    "Pass will hep in the conditional statement to pass on with out giving any logic. let's say we may not have some logic for if case that time it will help as fillter to escape from syntactical issues."
   ]
  },
  {
   "cell_type": "code",
   "execution_count": 65,
   "id": "50cdab6e",
   "metadata": {},
   "outputs": [
    {
     "name": "stdout",
     "output_type": "stream",
     "text": [
      "This is how it is used\n"
     ]
    }
   ],
   "source": [
    "if 'A' != 'A':\n",
    "    pass\n",
    "else:\n",
    "    print('This is how it is used')"
   ]
  },
  {
   "cell_type": "markdown",
   "id": "44fdeb6a",
   "metadata": {},
   "source": [
    "10. What is vstack() in numpy? Give an example"
   ]
  },
  {
   "cell_type": "code",
   "execution_count": 66,
   "id": "d87c15f8",
   "metadata": {},
   "outputs": [],
   "source": [
    "a = np.array([1, 2, 3])\n",
    "b = np.array([4, 5, 6])"
   ]
  },
  {
   "cell_type": "markdown",
   "id": "f8eb0073",
   "metadata": {},
   "source": [
    "vstack helps to compbine two arrays as added rows one to another easier manner"
   ]
  },
  {
   "cell_type": "code",
   "execution_count": 70,
   "id": "861ebdd1",
   "metadata": {},
   "outputs": [
    {
     "data": {
      "text/plain": [
       "array([[1, 2, 3],\n",
       "       [4, 5, 6]])"
      ]
     },
     "execution_count": 70,
     "metadata": {},
     "output_type": "execute_result"
    }
   ],
   "source": [
    "np.vstack([a,b])"
   ]
  },
  {
   "cell_type": "markdown",
   "id": "2f5072e4",
   "metadata": {},
   "source": [
    "#### Thanks for Reviewing"
   ]
  },
  {
   "cell_type": "code",
   "execution_count": null,
   "id": "bd33cf0b",
   "metadata": {},
   "outputs": [],
   "source": []
  }
 ],
 "metadata": {
  "kernelspec": {
   "display_name": "Python 3",
   "language": "python",
   "name": "python3"
  },
  "language_info": {
   "codemirror_mode": {
    "name": "ipython",
    "version": 3
   },
   "file_extension": ".py",
   "mimetype": "text/x-python",
   "name": "python",
   "nbconvert_exporter": "python",
   "pygments_lexer": "ipython3",
   "version": "3.9.7"
  }
 },
 "nbformat": 4,
 "nbformat_minor": 5
}
