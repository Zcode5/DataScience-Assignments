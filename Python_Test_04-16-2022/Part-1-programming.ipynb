{
 "cells": [
  {
   "cell_type": "raw",
   "id": "85e50699",
   "metadata": {},
   "source": [
    "1. Write a program (with function) which takes a sequence of numbers and check if all\n",
    "numbers are unique."
   ]
  },
  {
   "cell_type": "code",
   "execution_count": 51,
   "id": "2d4ffc5a",
   "metadata": {},
   "outputs": [],
   "source": [
    "def check_uniqueness(seq):   \n",
    "    ## business logic goes here\n",
    "    \"\"\" This function helps to check does the sequence of numbers you passed is unique or not\"\"\"\n",
    "    # set helps to remove the duplicates.\n",
    "    if len(seq) == len(set(seq)):\n",
    "        print(\"it's unique\")\n",
    "    else:\n",
    "        print(\"It is not unique\")"
   ]
  },
  {
   "cell_type": "code",
   "execution_count": 48,
   "id": "6cb2f1b3",
   "metadata": {},
   "outputs": [
    {
     "name": "stdout",
     "output_type": "stream",
     "text": [
      "It is not unique\n"
     ]
    }
   ],
   "source": [
    "check_uniqueness([10,2,10,4,5])"
   ]
  },
  {
   "cell_type": "code",
   "execution_count": 49,
   "id": "c7044f29",
   "metadata": {},
   "outputs": [
    {
     "name": "stdout",
     "output_type": "stream",
     "text": [
      "it's unique\n"
     ]
    }
   ],
   "source": [
    "check_uniqueness([10,2,4,11.0,5])"
   ]
  },
  {
   "cell_type": "raw",
   "id": "ae63f709",
   "metadata": {},
   "source": [
    "2. Python program to find out the average of a set of integers\n",
    "    a. Note: Don’t use the pre-defined functions like np.mean\n",
    "    b. For ex: If input is 5, the output should be average of 1+2+3+4+5"
   ]
  },
  {
   "cell_type": "code",
   "execution_count": 50,
   "id": "e8987cb4",
   "metadata": {},
   "outputs": [],
   "source": [
    "def cal_mean(seq_range):\n",
    "    \"\"\"You need to pass the Number for which it will calculate the mean starting from 1 to till that number.\n",
    "    if you pass 3, it will return (1 + 2 + 3)/3 i.e. 2.0\"\"\"\n",
    "    ## Divisible by zero Exception check\n",
    "    if seq_range == 0:\n",
    "        print(\"Please make sure sequence is more then 0\")\n",
    "        return\n",
    "    s = 0\n",
    "    for i in range(1,seq_range+1):\n",
    "        s = s + i\n",
    "    return s/seq_range\n",
    "        "
   ]
  },
  {
   "cell_type": "code",
   "execution_count": 46,
   "id": "1c0f8d03",
   "metadata": {},
   "outputs": [
    {
     "data": {
      "text/plain": [
       "'You need to pass the Number for which it will calculate the mean starting from 1 to till that number.\\n    if you pass 3, it will return (1 + 2 + 3)/3 i.e. 2.0'"
      ]
     },
     "execution_count": 46,
     "metadata": {},
     "output_type": "execute_result"
    }
   ],
   "source": [
    "cal_mean.__doc__"
   ]
  },
  {
   "cell_type": "code",
   "execution_count": 42,
   "id": "05eed5c5",
   "metadata": {},
   "outputs": [
    {
     "data": {
      "text/plain": [
       "2.0"
      ]
     },
     "execution_count": 42,
     "metadata": {},
     "output_type": "execute_result"
    }
   ],
   "source": [
    "cal_mean(3)"
   ]
  },
  {
   "cell_type": "raw",
   "id": "73658645",
   "metadata": {},
   "source": [
    "3. Python program to check whether the given integer is a multiple of both 5 and 7"
   ]
  },
  {
   "cell_type": "code",
   "execution_count": 59,
   "id": "76cb0e1e",
   "metadata": {},
   "outputs": [],
   "source": [
    "def mul_5_7(num):\n",
    "    \"This helps to check if the given number is multiple of 5 and 7\"\n",
    "    if (num%5 == 0 and num%7 == 0):\n",
    "        print(\"The number is multiple 5 and 7\")\n",
    "    else:\n",
    "        print(\"The number is not multiple of 5 and 7\")"
   ]
  },
  {
   "cell_type": "code",
   "execution_count": 60,
   "id": "05037b95",
   "metadata": {},
   "outputs": [
    {
     "data": {
      "text/plain": [
       "'This helps to check if the given number is multiple of 5 and 7'"
      ]
     },
     "execution_count": 60,
     "metadata": {},
     "output_type": "execute_result"
    }
   ],
   "source": [
    "mul_5_7.__doc__"
   ]
  },
  {
   "cell_type": "code",
   "execution_count": 57,
   "id": "0bdcc495",
   "metadata": {},
   "outputs": [
    {
     "name": "stdout",
     "output_type": "stream",
     "text": [
      "The number is not multiple of 5 and 7\n"
     ]
    }
   ],
   "source": [
    "mul_5_7(30)"
   ]
  },
  {
   "cell_type": "code",
   "execution_count": 58,
   "id": "eb253f82",
   "metadata": {},
   "outputs": [
    {
     "name": "stdout",
     "output_type": "stream",
     "text": [
      "The number is multiple 5 and 7\n"
     ]
    }
   ],
   "source": [
    "mul_5_7(35)"
   ]
  },
  {
   "cell_type": "raw",
   "id": "43fa12ce",
   "metadata": {},
   "source": [
    "4. Python program to display the given integer in reverse manner\n",
    "    a. Ex: input 852, output should be 258"
   ]
  },
  {
   "cell_type": "code",
   "execution_count": 92,
   "id": "1a29a20a",
   "metadata": {},
   "outputs": [],
   "source": [
    "def print_reverse(num):\n",
    "    \"\"\"This will display the numbe in reverse\"\"\"\n",
    "    rev = 0\n",
    "    while(num%10 >= 1):\n",
    "        rev = rev*10\n",
    "        rev = rev + (num %10)\n",
    "        num = int(num/10)\n",
    "    print(rev)\n",
    "      \n",
    "    "
   ]
  },
  {
   "cell_type": "code",
   "execution_count": 94,
   "id": "11908585",
   "metadata": {},
   "outputs": [
    {
     "data": {
      "text/plain": [
       "'This will display the numbe in reverse'"
      ]
     },
     "execution_count": 94,
     "metadata": {},
     "output_type": "execute_result"
    }
   ],
   "source": [
    "print_reverse.__doc__"
   ]
  },
  {
   "cell_type": "code",
   "execution_count": 93,
   "id": "fdca660e",
   "metadata": {},
   "outputs": [
    {
     "name": "stdout",
     "output_type": "stream",
     "text": [
      "258\n"
     ]
    }
   ],
   "source": [
    "print_reverse(852)"
   ]
  },
  {
   "cell_type": "raw",
   "id": "d9d35d51",
   "metadata": {},
   "source": [
    "5. Create an inner function to calculate the addition in the following way\n",
    "    a. Create an outer function that will accept two parameters, a and b\n",
    "    b. Create an inner function inside an outer function that will calculate the addition of a\n",
    "and b\n",
    "    c. At last, an outer function will add 5 into addition and return it"
   ]
  },
  {
   "cell_type": "code",
   "execution_count": 98,
   "id": "79c32f0e",
   "metadata": {},
   "outputs": [],
   "source": [
    "def outer(a,b):\n",
    "    \"\"\"Demo of inner and outer functions\"\"\"\n",
    "    def inner():\n",
    "        return a+b\n",
    "    return inner() + 5"
   ]
  },
  {
   "cell_type": "code",
   "execution_count": 99,
   "id": "bb5cff69",
   "metadata": {},
   "outputs": [
    {
     "data": {
      "text/plain": [
       "'Demo of inner and outer functions'"
      ]
     },
     "execution_count": 99,
     "metadata": {},
     "output_type": "execute_result"
    }
   ],
   "source": [
    "outer.__doc__"
   ]
  },
  {
   "cell_type": "code",
   "execution_count": 100,
   "id": "18d028d5",
   "metadata": {},
   "outputs": [
    {
     "data": {
      "text/plain": [
       "30"
      ]
     },
     "execution_count": 100,
     "metadata": {},
     "output_type": "execute_result"
    }
   ],
   "source": [
    "outer(10,15)"
   ]
  },
  {
   "cell_type": "raw",
   "id": "6371630e",
   "metadata": {},
   "source": [
    "6. Python Program to Check Leap Year\n",
    "    a. A leap year is exactly divisible by 4 except for century years (years ending with 00).\n",
    "The century year is a leap year only if it is perfectly divisible by 400\n",
    "    b. For ex: 2017 is not a leap year, 1900 is a not leap year, 2012 is a leap year, 2000 is a\n",
    "leap year"
   ]
  },
  {
   "cell_type": "code",
   "execution_count": 102,
   "id": "c7456cb5",
   "metadata": {},
   "outputs": [],
   "source": [
    "def leapyear_check(year):\n",
    "    if year%4 == 0 and year%100 != 0:\n",
    "        print(\"It is leap year\")\n",
    "    else:\n",
    "        print(\"It is non-leap year\")"
   ]
  },
  {
   "cell_type": "code",
   "execution_count": 103,
   "id": "b7c80651",
   "metadata": {},
   "outputs": [
    {
     "name": "stdout",
     "output_type": "stream",
     "text": [
      "It is non-leap year\n"
     ]
    }
   ],
   "source": [
    "leapyear_check(2017)"
   ]
  },
  {
   "cell_type": "code",
   "execution_count": 104,
   "id": "dd4178c5",
   "metadata": {},
   "outputs": [
    {
     "name": "stdout",
     "output_type": "stream",
     "text": [
      "It is non-leap year\n"
     ]
    }
   ],
   "source": [
    "leapyear_check(1900)"
   ]
  },
  {
   "cell_type": "code",
   "execution_count": 107,
   "id": "0ac3f334",
   "metadata": {},
   "outputs": [
    {
     "name": "stdout",
     "output_type": "stream",
     "text": [
      "It is leap year\n"
     ]
    }
   ],
   "source": [
    "leapyear_check(2012)"
   ]
  },
  {
   "cell_type": "code",
   "execution_count": 108,
   "id": "1336a940",
   "metadata": {},
   "outputs": [
    {
     "name": "stdout",
     "output_type": "stream",
     "text": [
      "It is non-leap year\n"
     ]
    }
   ],
   "source": [
    "leapyear_check(2000)"
   ]
  }
 ],
 "metadata": {
  "kernelspec": {
   "display_name": "Python 3",
   "language": "python",
   "name": "python3"
  },
  "language_info": {
   "codemirror_mode": {
    "name": "ipython",
    "version": 3
   },
   "file_extension": ".py",
   "mimetype": "text/x-python",
   "name": "python",
   "nbconvert_exporter": "python",
   "pygments_lexer": "ipython3",
   "version": "3.9.7"
  }
 },
 "nbformat": 4,
 "nbformat_minor": 5
}
