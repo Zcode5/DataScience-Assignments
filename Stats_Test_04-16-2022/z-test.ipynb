{
 "cells": [
  {
   "cell_type": "code",
   "execution_count": 1,
   "id": "d8620dc2",
   "metadata": {},
   "outputs": [],
   "source": [
    "sample_mean = 16\n",
    "pop_std = 13\n",
    "pop_mean = 15\n",
    "n = 16\n",
    "sl = 0.1\n"
   ]
  },
  {
   "cell_type": "code",
   "execution_count": 2,
   "id": "b279042e",
   "metadata": {},
   "outputs": [],
   "source": [
    "import math"
   ]
  },
  {
   "cell_type": "code",
   "execution_count": 4,
   "id": "57fc4229",
   "metadata": {},
   "outputs": [],
   "source": [
    "z = (sample_mean - pop_mean) / (pop_std / math.sqrt(n))"
   ]
  },
  {
   "cell_type": "code",
   "execution_count": 5,
   "id": "8b669812",
   "metadata": {},
   "outputs": [
    {
     "data": {
      "text/plain": [
       "0.3076923076923077"
      ]
     },
     "execution_count": 5,
     "metadata": {},
     "output_type": "execute_result"
    }
   ],
   "source": [
    "z"
   ]
  },
  {
   "cell_type": "code",
   "execution_count": 6,
   "id": "fb016e65",
   "metadata": {},
   "outputs": [],
   "source": [
    "z_criticla = 1.64"
   ]
  },
  {
   "cell_type": "code",
   "execution_count": 7,
   "id": "077650ac",
   "metadata": {},
   "outputs": [
    {
     "data": {
      "text/plain": [
       "'z is less then z_critical'"
      ]
     },
     "execution_count": 7,
     "metadata": {},
     "output_type": "execute_result"
    }
   ],
   "source": [
    "\"z is less then z_critical\""
   ]
  },
  {
   "cell_type": "code",
   "execution_count": 8,
   "id": "7965984a",
   "metadata": {},
   "outputs": [
    {
     "data": {
      "text/plain": [
       "'hence Null hypothesis is accepted'"
      ]
     },
     "execution_count": 8,
     "metadata": {},
     "output_type": "execute_result"
    }
   ],
   "source": [
    "\"hence Null hypothesis is accepted\""
   ]
  },
  {
   "cell_type": "code",
   "execution_count": null,
   "id": "250f99cf",
   "metadata": {},
   "outputs": [],
   "source": []
  }
 ],
 "metadata": {
  "kernelspec": {
   "display_name": "Python 3",
   "language": "python",
   "name": "python3"
  },
  "language_info": {
   "codemirror_mode": {
    "name": "ipython",
    "version": 3
   },
   "file_extension": ".py",
   "mimetype": "text/x-python",
   "name": "python",
   "nbconvert_exporter": "python",
   "pygments_lexer": "ipython3",
   "version": "3.9.7"
  }
 },
 "nbformat": 4,
 "nbformat_minor": 5
}
