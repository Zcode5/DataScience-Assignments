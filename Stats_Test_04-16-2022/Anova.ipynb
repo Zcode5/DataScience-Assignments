{
 "cells": [
  {
   "cell_type": "markdown",
   "id": "dc963f49",
   "metadata": {},
   "source": [
    "# ANOVA – Determine the Analysis of Variance for the below variables\n",
    "|Variable1|Variable2|Variable3|\n",
    "| --- | --- | --- |\n",
    "|27|63|52|\n",
    "43|43|60\n",
    "64|52|37\n",
    "62|58|40\n",
    "44|54|23\n",
    "54|50|39\n",
    "57|65|55\n",
    "49|53|52\n",
    "31|43|43\n",
    "69|49|39"
   ]
  },
  {
   "cell_type": "code",
   "execution_count": 6,
   "id": "0cc45b82",
   "metadata": {},
   "outputs": [],
   "source": [
    "var1 = pd.Series([27,43,64,62,44,54,57,49,31,69])\n",
    "var2 = pd.Series([63,43,52,58,54,50,65,53,43,49])\n",
    "var3 = pd.Series([52,60,37,40,23,39,55,52,43,39])"
   ]
  },
  {
   "cell_type": "code",
   "execution_count": 64,
   "id": "c89d9699",
   "metadata": {},
   "outputs": [
    {
     "data": {
      "text/plain": [
       "'Null hypthesis = all these variances belongs to same population i.e all means are same'"
      ]
     },
     "execution_count": 64,
     "metadata": {},
     "output_type": "execute_result"
    }
   ],
   "source": [
    "\"Null hypthesis = all these variances belongs to same population i.e all means are same\""
   ]
  },
  {
   "cell_type": "markdown",
   "id": "e56217b3",
   "metadata": {},
   "source": [
    "### F-Score = varianceBetweenGroups/varianceWithinGroups = (SSG/DFG) / ( SSE/DFE)"
   ]
  },
  {
   "cell_type": "code",
   "execution_count": 4,
   "id": "e2472412",
   "metadata": {},
   "outputs": [],
   "source": [
    "import pandas as pd\n",
    "import numpy as np\n",
    "import statistics"
   ]
  },
  {
   "cell_type": "code",
   "execution_count": 8,
   "id": "b393fe90",
   "metadata": {},
   "outputs": [
    {
     "data": {
      "text/plain": [
       "50.0"
      ]
     },
     "execution_count": 8,
     "metadata": {},
     "output_type": "execute_result"
    }
   ],
   "source": [
    "var1_mean = var1.mean()\n",
    "var1_mean"
   ]
  },
  {
   "cell_type": "code",
   "execution_count": 9,
   "id": "a6152eb5",
   "metadata": {},
   "outputs": [
    {
     "data": {
      "text/plain": [
       "53.0"
      ]
     },
     "execution_count": 9,
     "metadata": {},
     "output_type": "execute_result"
    }
   ],
   "source": [
    "var2_mean = var2.mean()\n",
    "var2_mean"
   ]
  },
  {
   "cell_type": "code",
   "execution_count": 10,
   "id": "752968aa",
   "metadata": {},
   "outputs": [
    {
     "data": {
      "text/plain": [
       "44.0"
      ]
     },
     "execution_count": 10,
     "metadata": {},
     "output_type": "execute_result"
    }
   ],
   "source": [
    "var3_mean = var3.mean()\n",
    "var3_mean"
   ]
  },
  {
   "cell_type": "code",
   "execution_count": 21,
   "id": "256c2a14",
   "metadata": {},
   "outputs": [
    {
     "data": {
      "text/plain": [
       "49.0"
      ]
     },
     "execution_count": 21,
     "metadata": {},
     "output_type": "execute_result"
    }
   ],
   "source": [
    "total = var1.append(var2).append(var3)\n",
    "total_mean = total.mean()\n",
    "total_mean"
   ]
  },
  {
   "cell_type": "code",
   "execution_count": 32,
   "id": "c3c6939d",
   "metadata": {},
   "outputs": [
    {
     "data": {
      "text/plain": [
       "30"
      ]
     },
     "execution_count": 32,
     "metadata": {},
     "output_type": "execute_result"
    }
   ],
   "source": [
    "total_count = total.count()\n",
    "total_count"
   ]
  },
  {
   "cell_type": "code",
   "execution_count": 24,
   "id": "03dd7d86",
   "metadata": {},
   "outputs": [],
   "source": [
    "groups = pd.Series([var1_mean, var2_mean,var3_mean])"
   ]
  },
  {
   "cell_type": "code",
   "execution_count": 25,
   "id": "670880e6",
   "metadata": {},
   "outputs": [
    {
     "data": {
      "text/plain": [
       "0    50.0\n",
       "1    53.0\n",
       "2    44.0\n",
       "dtype: float64"
      ]
     },
     "execution_count": 25,
     "metadata": {},
     "output_type": "execute_result"
    }
   ],
   "source": [
    "groups"
   ]
  },
  {
   "cell_type": "code",
   "execution_count": 31,
   "id": "d058748a",
   "metadata": {},
   "outputs": [
    {
     "data": {
      "text/plain": [
       "21.0"
      ]
     },
     "execution_count": 31,
     "metadata": {},
     "output_type": "execute_result"
    }
   ],
   "source": [
    "varWithinGroups =  groups.var()\n",
    "varWithinGroups"
   ]
  },
  {
   "cell_type": "code",
   "execution_count": 52,
   "id": "1d53d637",
   "metadata": {},
   "outputs": [],
   "source": [
    "def msq(data):\n",
    "    s = 0\n",
    "    for i in data:\n",
    "        s = s + (abs(i - data.mean())*2)\n",
    "    return s\n",
    "        "
   ]
  },
  {
   "cell_type": "code",
   "execution_count": 54,
   "id": "60f180c2",
   "metadata": {},
   "outputs": [
    {
     "data": {
      "text/plain": [
       "224.0"
      ]
     },
     "execution_count": 54,
     "metadata": {},
     "output_type": "execute_result"
    }
   ],
   "source": [
    "var1_var = msq(var1)\n",
    "var1_var"
   ]
  },
  {
   "cell_type": "code",
   "execution_count": 55,
   "id": "dc2a9434",
   "metadata": {},
   "outputs": [
    {
     "data": {
      "text/plain": [
       "112.0"
      ]
     },
     "execution_count": 55,
     "metadata": {},
     "output_type": "execute_result"
    }
   ],
   "source": [
    "var2_var = msq(var2)\n",
    "var2_var"
   ]
  },
  {
   "cell_type": "code",
   "execution_count": 56,
   "id": "2e83cf1c",
   "metadata": {},
   "outputs": [
    {
     "data": {
      "text/plain": [
       "172.0"
      ]
     },
     "execution_count": 56,
     "metadata": {},
     "output_type": "execute_result"
    }
   ],
   "source": [
    "var3_var = msq(var3)\n",
    "var3_var"
   ]
  },
  {
   "cell_type": "code",
   "execution_count": 57,
   "id": "cba5a37f",
   "metadata": {},
   "outputs": [],
   "source": [
    "all_var_var = var1_var + var2_var + var3_var"
   ]
  },
  {
   "cell_type": "code",
   "execution_count": 58,
   "id": "12201722",
   "metadata": {},
   "outputs": [
    {
     "data": {
      "text/plain": [
       "18.814814814814813"
      ]
     },
     "execution_count": 58,
     "metadata": {},
     "output_type": "execute_result"
    }
   ],
   "source": [
    "all_var_var/27"
   ]
  },
  {
   "cell_type": "code",
   "execution_count": 59,
   "id": "5e06c14d",
   "metadata": {},
   "outputs": [
    {
     "data": {
      "text/plain": [
       "1.1161417322834646"
      ]
     },
     "execution_count": 59,
     "metadata": {},
     "output_type": "execute_result"
    }
   ],
   "source": [
    "21.0/18.814814814814813"
   ]
  },
  {
   "cell_type": "markdown",
   "id": "a94767de",
   "metadata": {},
   "source": [
    "# # F-Score = 1.116"
   ]
  },
  {
   "cell_type": "markdown",
   "id": "383461f4",
   "metadata": {},
   "source": [
    "considering significance level = 0.05"
   ]
  },
  {
   "cell_type": "code",
   "execution_count": 62,
   "id": "d3117ef6",
   "metadata": {},
   "outputs": [],
   "source": [
    "DF1 = 2\n",
    "DF2 = 27\n",
    "F_Crit = 3.3541"
   ]
  },
  {
   "cell_type": "code",
   "execution_count": 63,
   "id": "b0172a54",
   "metadata": {},
   "outputs": [
    {
     "data": {
      "text/plain": [
       "'F score calculated is less then F_Crit, hence Null hypothesis accepted'"
      ]
     },
     "execution_count": 63,
     "metadata": {},
     "output_type": "execute_result"
    }
   ],
   "source": [
    "\"F score calculated is less then F_Crit, hence Null hypothesis accepted\""
   ]
  },
  {
   "cell_type": "markdown",
   "id": "cb9b13d1",
   "metadata": {},
   "source": [
    "## ANOVA Question2 "
   ]
  },
  {
   "cell_type": "code",
   "execution_count": 67,
   "id": "43bb38a6",
   "metadata": {},
   "outputs": [],
   "source": [
    "Financial=pd.Series([10.76,15.05,17.01,5.07,19.5,8.16,10.38,6.75])\n",
    "Energy=pd.Series([12.72,13.91,6.43,11.19,18.79,20.73,9.6,17.4])\n",
    "Utilities=pd.Series([11.88,5.86,13.46,9.9,3.95,3.44,7.11,15.7])"
   ]
  },
  {
   "cell_type": "code",
   "execution_count": 69,
   "id": "41292ed3",
   "metadata": {},
   "outputs": [
    {
     "data": {
      "text/plain": [
       "11.585"
      ]
     },
     "execution_count": 69,
     "metadata": {},
     "output_type": "execute_result"
    }
   ],
   "source": [
    "f_mean = Financial.mean()\n",
    "f_mean"
   ]
  },
  {
   "cell_type": "code",
   "execution_count": 90,
   "id": "088b0e8a",
   "metadata": {},
   "outputs": [
    {
     "data": {
      "text/plain": [
       "67.22000000000001"
      ]
     },
     "execution_count": 90,
     "metadata": {},
     "output_type": "execute_result"
    }
   ],
   "source": [
    "f_msq = msq(Financial)\n",
    "f_msq"
   ]
  },
  {
   "cell_type": "code",
   "execution_count": 73,
   "id": "2b37aa15",
   "metadata": {},
   "outputs": [
    {
     "data": {
      "text/plain": [
       "13.846249999999998"
      ]
     },
     "execution_count": 73,
     "metadata": {},
     "output_type": "execute_result"
    }
   ],
   "source": [
    "e_mean = Energy.mean()\n",
    "e_mean"
   ]
  },
  {
   "cell_type": "code",
   "execution_count": 91,
   "id": "7af321fb",
   "metadata": {},
   "outputs": [
    {
     "data": {
      "text/plain": [
       "61.78"
      ]
     },
     "execution_count": 91,
     "metadata": {},
     "output_type": "execute_result"
    }
   ],
   "source": [
    "e_msq = msq(Energy)\n",
    "e_msq"
   ]
  },
  {
   "cell_type": "code",
   "execution_count": 75,
   "id": "311dbf5f",
   "metadata": {},
   "outputs": [
    {
     "data": {
      "text/plain": [
       "8.9125"
      ]
     },
     "execution_count": 75,
     "metadata": {},
     "output_type": "execute_result"
    }
   ],
   "source": [
    "u_mean = Utilities.mean()\n",
    "u_mean"
   ]
  },
  {
   "cell_type": "code",
   "execution_count": 93,
   "id": "74bde186",
   "metadata": {},
   "outputs": [
    {
     "data": {
      "text/plain": [
       "61.16"
      ]
     },
     "execution_count": 93,
     "metadata": {},
     "output_type": "execute_result"
    }
   ],
   "source": [
    "u_msq = msq(Utilities)\n",
    "u_msq"
   ]
  },
  {
   "cell_type": "markdown",
   "id": "65116e9f",
   "metadata": {},
   "source": [
    "F-Score = varianceBetweenGroups/varianceWithinGroups = (SSG/DFG) / ( SSE/DFE)"
   ]
  },
  {
   "cell_type": "code",
   "execution_count": 104,
   "id": "827632f6",
   "metadata": {},
   "outputs": [
    {
     "data": {
      "text/plain": [
       "0    11.58500\n",
       "1    13.84625\n",
       "2     8.91250\n",
       "dtype: float64"
      ]
     },
     "execution_count": 104,
     "metadata": {},
     "output_type": "execute_result"
    }
   ],
   "source": [
    "groups = pd.Series([f_mean,e_mean,u_mean])\n",
    "groups"
   ]
  },
  {
   "cell_type": "code",
   "execution_count": 107,
   "id": "e86f465a",
   "metadata": {},
   "outputs": [
    {
     "data": {
      "text/plain": [
       "11.447916666666666"
      ]
     },
     "execution_count": 107,
     "metadata": {},
     "output_type": "execute_result"
    }
   ],
   "source": [
    "groups.mean()"
   ]
  },
  {
   "cell_type": "code",
   "execution_count": 106,
   "id": "42027d4b",
   "metadata": {},
   "outputs": [
    {
     "data": {
      "text/plain": [
       "10.141666666666666"
      ]
     },
     "execution_count": 106,
     "metadata": {},
     "output_type": "execute_result"
    }
   ],
   "source": [
    "msq(groups)"
   ]
  },
  {
   "cell_type": "code",
   "execution_count": 97,
   "id": "3e0611c9",
   "metadata": {},
   "outputs": [
    {
     "data": {
      "text/plain": [
       "6.099566145833329"
      ]
     },
     "execution_count": 97,
     "metadata": {},
     "output_type": "execute_result"
    }
   ],
   "source": [
    "betweenGroups = groups.var()\n",
    "betweenGroups"
   ]
  },
  {
   "cell_type": "code",
   "execution_count": 100,
   "id": "20f6af55",
   "metadata": {},
   "outputs": [],
   "source": [
    "each_grups = (f_msq + u_msq + e_msq) / 21"
   ]
  },
  {
   "cell_type": "code",
   "execution_count": 101,
   "id": "2d6ed5b3",
   "metadata": {},
   "outputs": [
    {
     "data": {
      "text/plain": [
       "67.900475"
      ]
     },
     "execution_count": 101,
     "metadata": {},
     "output_type": "execute_result"
    }
   ],
   "source": [
    "each_group"
   ]
  },
  {
   "cell_type": "code",
   "execution_count": 108,
   "id": "3ad77948",
   "metadata": {},
   "outputs": [
    {
     "data": {
      "text/plain": [
       "0.08983097902972444"
      ]
     },
     "execution_count": 108,
     "metadata": {},
     "output_type": "execute_result"
    }
   ],
   "source": [
    "betweenGroups/each_group"
   ]
  },
  {
   "cell_type": "code",
   "execution_count": 103,
   "id": "98ad40ed",
   "metadata": {},
   "outputs": [],
   "source": [
    "df1 = 2\n",
    "df2 = 21\n",
    "F_Crit = 3.4668"
   ]
  },
  {
   "cell_type": "code",
   "execution_count": 109,
   "id": "738f6ef0",
   "metadata": {},
   "outputs": [
    {
     "data": {
      "text/plain": [
       "'F-score is less then F-Cri, hence accepting the Null Hypothesis'"
      ]
     },
     "execution_count": 109,
     "metadata": {},
     "output_type": "execute_result"
    }
   ],
   "source": [
    "\"F-score is less then F-Cri, hence accepting the Null Hypothesis\""
   ]
  },
  {
   "cell_type": "markdown",
   "id": "7fabaace",
   "metadata": {},
   "source": [
    "##3. F-Distribution"
   ]
  },
  {
   "cell_type": "code",
   "execution_count": 110,
   "id": "3ae5a3d4",
   "metadata": {},
   "outputs": [],
   "source": [
    "\n",
    "m1 = pd.Series([20.2,20.9,22.3,22.8,21.5,23.0,22.4,21.4,21.2,21.3])\n",
    "m2 = pd.Series([22.1,21.3,20.1,22.5,20.2,20.3,20.4,21.1,20.8,20.4])\n"
   ]
  },
  {
   "cell_type": "code",
   "execution_count": 115,
   "id": "8a9ad599",
   "metadata": {},
   "outputs": [
    {
     "data": {
      "text/plain": [
       "0.7977777777777786"
      ]
     },
     "execution_count": 115,
     "metadata": {},
     "output_type": "execute_result"
    }
   ],
   "source": [
    "m1_var = m1.var()\n",
    "m1_var"
   ]
  },
  {
   "cell_type": "code",
   "execution_count": 112,
   "id": "7c96a84f",
   "metadata": {},
   "outputs": [
    {
     "data": {
      "text/plain": [
       "0.6884444444444449"
      ]
     },
     "execution_count": 112,
     "metadata": {},
     "output_type": "execute_result"
    }
   ],
   "source": [
    "m2_var = m2.var()\n",
    "m2_var"
   ]
  },
  {
   "cell_type": "code",
   "execution_count": 118,
   "id": "0e768aa5",
   "metadata": {},
   "outputs": [
    {
     "data": {
      "text/plain": [
       "1.1588121368624924"
      ]
     },
     "execution_count": 118,
     "metadata": {},
     "output_type": "execute_result"
    }
   ],
   "source": [
    "f =m1_var/m2_var\n",
    "f"
   ]
  },
  {
   "cell_type": "markdown",
   "id": "c0975c01",
   "metadata": {},
   "source": [
    "F-Crit = 3.1789 ( df1 = 9, df2 = 9)"
   ]
  },
  {
   "cell_type": "code",
   "execution_count": 119,
   "id": "0a55625c",
   "metadata": {},
   "outputs": [
    {
     "data": {
      "text/plain": [
       "0.8629526462395539"
      ]
     },
     "execution_count": 119,
     "metadata": {},
     "output_type": "execute_result"
    }
   ],
   "source": [
    "F = 1/f\n",
    "F"
   ]
  },
  {
   "cell_type": "code",
   "execution_count": 117,
   "id": "73aa68e9",
   "metadata": {},
   "outputs": [
    {
     "data": {
      "text/plain": [
       "'F observed is less then F_Crit, hence null hypothesis accepted'"
      ]
     },
     "execution_count": 117,
     "metadata": {},
     "output_type": "execute_result"
    }
   ],
   "source": [
    "\"F observed is less then F_Crit, hence null hypothesis accepted\""
   ]
  }
 ],
 "metadata": {
  "kernelspec": {
   "display_name": "Python 3",
   "language": "python",
   "name": "python3"
  },
  "language_info": {
   "codemirror_mode": {
    "name": "ipython",
    "version": 3
   },
   "file_extension": ".py",
   "mimetype": "text/x-python",
   "name": "python",
   "nbconvert_exporter": "python",
   "pygments_lexer": "ipython3",
   "version": "3.9.7"
  }
 },
 "nbformat": 4,
 "nbformat_minor": 5
}
