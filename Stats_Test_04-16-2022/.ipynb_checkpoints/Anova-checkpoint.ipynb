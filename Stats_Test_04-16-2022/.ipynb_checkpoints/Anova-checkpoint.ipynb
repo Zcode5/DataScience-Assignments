{
 "cells": [
  {
   "cell_type": "markdown",
   "id": "aa630ef6",
   "metadata": {},
   "source": [
    "# ANOVA – Determine the Analysis of Variance for the below variables\n",
    "|Variable1|Variable2|Variable3|\n",
    "| --- | --- | --- |\n",
    "|27|63|52|\n",
    "43|43|60\n",
    "64|52|37\n",
    "62|58|40\n",
    "44|54|23\n",
    "54|50|39\n",
    "57|65|55\n",
    "49|53|52\n",
    "31|43|43\n",
    "69|49|39"
   ]
  },
  {
   "cell_type": "code",
   "execution_count": 6,
   "id": "481b038e",
   "metadata": {},
   "outputs": [],
   "source": [
    "var1 = pd.Series([27,43,64,62,44,54,57,49,31,69])\n",
    "var2 = pd.Series([63,43,52,58,54,50,65,53,43,49])\n",
    "var3 = pd.Series([52,60,37,40,23,39,55,52,43,39])"
   ]
  },
  {
   "cell_type": "code",
   "execution_count": 64,
   "id": "bce39d01",
   "metadata": {},
   "outputs": [
    {
     "data": {
      "text/plain": [
       "'Null hypthesis = all these variances belongs to same population i.e all means are same'"
      ]
     },
     "execution_count": 64,
     "metadata": {},
     "output_type": "execute_result"
    }
   ],
   "source": [
    "\"Null hypthesis = all these variances belongs to same population i.e all means are same\""
   ]
  },
  {
   "cell_type": "markdown",
   "id": "2ae3e256",
   "metadata": {},
   "source": [
    "### F-Score = varianceBetweenGroups/varianceWithinGroups = (SSG/DFG) / ( SSE/DFE)"
   ]
  },
  {
   "cell_type": "code",
   "execution_count": 4,
   "id": "ca11cf8a",
   "metadata": {},
   "outputs": [],
   "source": [
    "import pandas as pd\n",
    "import numpy as np\n",
    "import statistics"
   ]
  },
  {
   "cell_type": "code",
   "execution_count": 8,
   "id": "d018ca07",
   "metadata": {},
   "outputs": [
    {
     "data": {
      "text/plain": [
       "50.0"
      ]
     },
     "execution_count": 8,
     "metadata": {},
     "output_type": "execute_result"
    }
   ],
   "source": [
    "var1_mean = var1.mean()\n",
    "var1_mean"
   ]
  },
  {
   "cell_type": "code",
   "execution_count": 9,
   "id": "81f40624",
   "metadata": {},
   "outputs": [
    {
     "data": {
      "text/plain": [
       "53.0"
      ]
     },
     "execution_count": 9,
     "metadata": {},
     "output_type": "execute_result"
    }
   ],
   "source": [
    "var2_mean = var2.mean()\n",
    "var2_mean"
   ]
  },
  {
   "cell_type": "code",
   "execution_count": 10,
   "id": "fe3c65a4",
   "metadata": {},
   "outputs": [
    {
     "data": {
      "text/plain": [
       "44.0"
      ]
     },
     "execution_count": 10,
     "metadata": {},
     "output_type": "execute_result"
    }
   ],
   "source": [
    "var3_mean = var3.mean()\n",
    "var3_mean"
   ]
  },
  {
   "cell_type": "code",
   "execution_count": 21,
   "id": "4d0cb7bb",
   "metadata": {},
   "outputs": [
    {
     "data": {
      "text/plain": [
       "49.0"
      ]
     },
     "execution_count": 21,
     "metadata": {},
     "output_type": "execute_result"
    }
   ],
   "source": [
    "total = var1.append(var2).append(var3)\n",
    "total_mean = total.mean()\n",
    "total_mean"
   ]
  },
  {
   "cell_type": "code",
   "execution_count": 32,
   "id": "840b366f",
   "metadata": {},
   "outputs": [
    {
     "data": {
      "text/plain": [
       "30"
      ]
     },
     "execution_count": 32,
     "metadata": {},
     "output_type": "execute_result"
    }
   ],
   "source": [
    "total_count = total.count()\n",
    "total_count"
   ]
  },
  {
   "cell_type": "code",
   "execution_count": 24,
   "id": "32d1c7a3",
   "metadata": {},
   "outputs": [],
   "source": [
    "groups = pd.Series([var1_mean, var2_mean,var3_mean])"
   ]
  },
  {
   "cell_type": "code",
   "execution_count": 25,
   "id": "6f72be33",
   "metadata": {},
   "outputs": [
    {
     "data": {
      "text/plain": [
       "0    50.0\n",
       "1    53.0\n",
       "2    44.0\n",
       "dtype: float64"
      ]
     },
     "execution_count": 25,
     "metadata": {},
     "output_type": "execute_result"
    }
   ],
   "source": [
    "groups"
   ]
  },
  {
   "cell_type": "code",
   "execution_count": 31,
   "id": "d86daa74",
   "metadata": {},
   "outputs": [
    {
     "data": {
      "text/plain": [
       "21.0"
      ]
     },
     "execution_count": 31,
     "metadata": {},
     "output_type": "execute_result"
    }
   ],
   "source": [
    "varWithinGroups =  groups.var()\n",
    "varWithinGroups"
   ]
  },
  {
   "cell_type": "code",
   "execution_count": 52,
   "id": "2d76a244",
   "metadata": {},
   "outputs": [],
   "source": [
    "def msq(data):\n",
    "    s = 0\n",
    "    for i in data:\n",
    "        s = s + (abs(i - data.mean())*2)\n",
    "    return s\n",
    "        "
   ]
  },
  {
   "cell_type": "code",
   "execution_count": 54,
   "id": "1193ffa4",
   "metadata": {},
   "outputs": [
    {
     "data": {
      "text/plain": [
       "224.0"
      ]
     },
     "execution_count": 54,
     "metadata": {},
     "output_type": "execute_result"
    }
   ],
   "source": [
    "var1_var = msq(var1)\n",
    "var1_var"
   ]
  },
  {
   "cell_type": "code",
   "execution_count": 55,
   "id": "14633b1e",
   "metadata": {},
   "outputs": [
    {
     "data": {
      "text/plain": [
       "112.0"
      ]
     },
     "execution_count": 55,
     "metadata": {},
     "output_type": "execute_result"
    }
   ],
   "source": [
    "var2_var = msq(var2)\n",
    "var2_var"
   ]
  },
  {
   "cell_type": "code",
   "execution_count": 56,
   "id": "1606a5e9",
   "metadata": {},
   "outputs": [
    {
     "data": {
      "text/plain": [
       "172.0"
      ]
     },
     "execution_count": 56,
     "metadata": {},
     "output_type": "execute_result"
    }
   ],
   "source": [
    "var3_var = msq(var3)\n",
    "var3_var"
   ]
  },
  {
   "cell_type": "code",
   "execution_count": 57,
   "id": "d6944fad",
   "metadata": {},
   "outputs": [],
   "source": [
    "all_var_var = var1_var + var2_var + var3_var"
   ]
  },
  {
   "cell_type": "code",
   "execution_count": 58,
   "id": "e823aaa7",
   "metadata": {},
   "outputs": [
    {
     "data": {
      "text/plain": [
       "18.814814814814813"
      ]
     },
     "execution_count": 58,
     "metadata": {},
     "output_type": "execute_result"
    }
   ],
   "source": [
    "all_var_var/27"
   ]
  },
  {
   "cell_type": "code",
   "execution_count": 59,
   "id": "61373f74",
   "metadata": {},
   "outputs": [
    {
     "data": {
      "text/plain": [
       "1.1161417322834646"
      ]
     },
     "execution_count": 59,
     "metadata": {},
     "output_type": "execute_result"
    }
   ],
   "source": [
    "21.0/18.814814814814813"
   ]
  },
  {
   "cell_type": "markdown",
   "id": "2834d87e",
   "metadata": {},
   "source": [
    "# # F-Score = 1.116"
   ]
  },
  {
   "cell_type": "markdown",
   "id": "bca06f3c",
   "metadata": {},
   "source": [
    "considering significance level = 0.05"
   ]
  },
  {
   "cell_type": "code",
   "execution_count": 62,
   "id": "7902bc84",
   "metadata": {},
   "outputs": [],
   "source": [
    "DF1 = 2\n",
    "DF2 = 27\n",
    "F_Crit = 3.3541"
   ]
  },
  {
   "cell_type": "code",
   "execution_count": 63,
   "id": "aae52512",
   "metadata": {},
   "outputs": [
    {
     "data": {
      "text/plain": [
       "'F score calculated is less then F_Crit, hence Null hypothesis accepted'"
      ]
     },
     "execution_count": 63,
     "metadata": {},
     "output_type": "execute_result"
    }
   ],
   "source": [
    "\"F score calculated is less then F_Crit, hence Null hypothesis accepted\""
   ]
  },
  {
   "cell_type": "code",
   "execution_count": null,
   "id": "2f0a7fde",
   "metadata": {},
   "outputs": [],
   "source": []
  }
 ],
 "metadata": {
  "kernelspec": {
   "display_name": "Python 3",
   "language": "python",
   "name": "python3"
  },
  "language_info": {
   "codemirror_mode": {
    "name": "ipython",
    "version": 3
   },
   "file_extension": ".py",
   "mimetype": "text/x-python",
   "name": "python",
   "nbconvert_exporter": "python",
   "pygments_lexer": "ipython3",
   "version": "3.9.7"
  }
 },
 "nbformat": 4,
 "nbformat_minor": 5
}
