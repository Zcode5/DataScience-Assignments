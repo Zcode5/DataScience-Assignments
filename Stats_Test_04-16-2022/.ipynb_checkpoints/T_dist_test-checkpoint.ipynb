{
 "cells": [
  {
   "cell_type": "code",
   "execution_count": 1,
   "id": "2308b23c",
   "metadata": {},
   "outputs": [],
   "source": [
    "import pandas as pd"
   ]
  },
  {
   "cell_type": "code",
   "execution_count": 17,
   "id": "d78b862e",
   "metadata": {},
   "outputs": [],
   "source": [
    "import numpy as np\n",
    "import math"
   ]
  },
  {
   "cell_type": "code",
   "execution_count": 4,
   "id": "96badc6c",
   "metadata": {},
   "outputs": [],
   "source": [
    "data = pd.Series([100.5, 101.3, 99.5, 98.6, 104.0, 103.1, 100.5, 99.8, 98.6, 102.4])"
   ]
  },
  {
   "cell_type": "code",
   "execution_count": 5,
   "id": "9dc28340",
   "metadata": {},
   "outputs": [
    {
     "data": {
      "text/plain": [
       "10"
      ]
     },
     "execution_count": 5,
     "metadata": {},
     "output_type": "execute_result"
    }
   ],
   "source": [
    "n = data.count()\n",
    "n"
   ]
  },
  {
   "cell_type": "code",
   "execution_count": 7,
   "id": "2bb8d8bf",
   "metadata": {},
   "outputs": [
    {
     "data": {
      "text/plain": [
       "100.83"
      ]
     },
     "execution_count": 7,
     "metadata": {},
     "output_type": "execute_result"
    }
   ],
   "source": [
    "mean = data.mean()\n",
    "mean"
   ]
  },
  {
   "cell_type": "code",
   "execution_count": 9,
   "id": "9473ba6e",
   "metadata": {},
   "outputs": [
    {
     "data": {
      "text/plain": [
       "1.8523558573401135"
      ]
     },
     "execution_count": 9,
     "metadata": {},
     "output_type": "execute_result"
    }
   ],
   "source": [
    "s = data.std()\n",
    "s"
   ]
  },
  {
   "cell_type": "code",
   "execution_count": 13,
   "id": "747285e6",
   "metadata": {},
   "outputs": [
    {
     "data": {
      "text/plain": [
       "98.6"
      ]
     },
     "execution_count": 13,
     "metadata": {},
     "output_type": "execute_result"
    }
   ],
   "source": [
    "minimum = data.min()\n",
    "minimum"
   ]
  },
  {
   "cell_type": "code",
   "execution_count": 15,
   "id": "1f838377",
   "metadata": {},
   "outputs": [
    {
     "data": {
      "text/plain": [
       "104.0"
      ]
     },
     "execution_count": 15,
     "metadata": {},
     "output_type": "execute_result"
    }
   ],
   "source": [
    "maximum = data.max()\n",
    "maximum"
   ]
  },
  {
   "cell_type": "code",
   "execution_count": 20,
   "id": "e4c02868",
   "metadata": {},
   "outputs": [],
   "source": [
    "interval = (s/math.sqrt(n))* (2.262)"
   ]
  },
  {
   "cell_type": "code",
   "execution_count": 22,
   "id": "8853d18b",
   "metadata": {},
   "outputs": [
    {
     "data": {
      "text/plain": [
       "(99.50499650581592, 102.15500349418407)"
      ]
     },
     "execution_count": 22,
     "metadata": {},
     "output_type": "execute_result"
    }
   ],
   "source": [
    "mean-interval,mean+interval"
   ]
  },
  {
   "cell_type": "code",
   "execution_count": 23,
   "id": "909c599e",
   "metadata": {},
   "outputs": [
    {
     "data": {
      "text/plain": [
       "'Interval of speeds as : (99.50499650581592, 102.15500349418407)'"
      ]
     },
     "execution_count": 23,
     "metadata": {},
     "output_type": "execute_result"
    }
   ],
   "source": [
    "\"Interval of speeds as : (99.50499650581592, 102.15500349418407)\""
   ]
  },
  {
   "cell_type": "markdown",
   "id": "0ec499a2",
   "metadata": {},
   "source": [
    "# 5. Perform T Test"
   ]
  },
  {
   "cell_type": "code",
   "execution_count": 31,
   "id": "42797cb8",
   "metadata": {},
   "outputs": [
    {
     "data": {
      "text/plain": [
       "'Null Hypothesis is : no incresae in sales, so avg price per transaction is same'"
      ]
     },
     "execution_count": 31,
     "metadata": {},
     "output_type": "execute_result"
    }
   ],
   "source": [
    "\"Null Hypothesis is : no incresae in sales, so avg price per transaction is same\""
   ]
  },
  {
   "cell_type": "code",
   "execution_count": 26,
   "id": "cdba2976",
   "metadata": {},
   "outputs": [],
   "source": [
    "pop_mean = 105\n",
    "sample_mean = 125\n",
    "s = 14\n",
    "n = 25\n",
    "sl = 0.05"
   ]
  },
  {
   "cell_type": "code",
   "execution_count": 29,
   "id": "b38c4251",
   "metadata": {},
   "outputs": [
    {
     "data": {
      "text/plain": [
       "7.142857142857143"
      ]
     },
     "execution_count": 29,
     "metadata": {},
     "output_type": "execute_result"
    }
   ],
   "source": [
    "t_value = (sample_mean-pop_mean)/(s/math.sqrt(25))\n",
    "t_value"
   ]
  },
  {
   "cell_type": "code",
   "execution_count": 30,
   "id": "9b318365",
   "metadata": {},
   "outputs": [],
   "source": [
    "t_cric = 1.711"
   ]
  },
  {
   "cell_type": "code",
   "execution_count": 33,
   "id": "c16c8a3a",
   "metadata": {},
   "outputs": [
    {
     "data": {
      "text/plain": [
       "'Hence, we reject the Null Hypothesis and accept alternate hypothesis'"
      ]
     },
     "execution_count": 33,
     "metadata": {},
     "output_type": "execute_result"
    }
   ],
   "source": [
    "\"Hence, we reject the Null Hypothesis and accept alternate hypothesis\""
   ]
  },
  {
   "cell_type": "code",
   "execution_count": null,
   "id": "a21c9840",
   "metadata": {},
   "outputs": [],
   "source": []
  }
 ],
 "metadata": {
  "kernelspec": {
   "display_name": "Python 3",
   "language": "python",
   "name": "python3"
  },
  "language_info": {
   "codemirror_mode": {
    "name": "ipython",
    "version": 3
   },
   "file_extension": ".py",
   "mimetype": "text/x-python",
   "name": "python",
   "nbconvert_exporter": "python",
   "pygments_lexer": "ipython3",
   "version": "3.9.7"
  }
 },
 "nbformat": 4,
 "nbformat_minor": 5
}
