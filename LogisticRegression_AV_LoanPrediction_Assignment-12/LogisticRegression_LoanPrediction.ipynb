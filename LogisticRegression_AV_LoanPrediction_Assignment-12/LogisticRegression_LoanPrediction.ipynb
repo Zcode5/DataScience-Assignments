{
 "cells": [
  {
   "cell_type": "code",
   "execution_count": 1548,
   "id": "e56f7bac",
   "metadata": {},
   "outputs": [],
   "source": [
    "import pandas as pd\n",
    "import numpy as np\n",
    "import seaborn as sns\n",
    "import matplotlib.pyplot as plot\n",
    "from sklearn.linear_model import LogisticRegression\n",
    "from sklearn.model_selection import train_test_split\n",
    "from sklearn.metrics import accuracy_score, classification_report, ConfusionMatrixDisplay\n",
    "from sklearn.metrics import plot_confusion_matrix, confusion_matrix, plot_roc_curve\n",
    "from sklearn.preprocessing import StandardScaler, MinMaxScaler\n",
    "%matplotlib inline"
   ]
  },
  {
   "cell_type": "code",
   "execution_count": 1549,
   "id": "26e50bce",
   "metadata": {},
   "outputs": [],
   "source": [
    "train_df = pd.read_csv(\"../../datasets/LoanPrediction/train.csv\")\n",
    "test_df = pd.read_csv(\"../../datasets/LoanPrediction/test.csv\")\n",
    "submission_df = pd.read_csv(\"../../datasets/LoanPrediction/sample_submission.csv\")"
   ]
  },
  {
   "cell_type": "code",
   "execution_count": 1550,
   "id": "82925789",
   "metadata": {},
   "outputs": [
    {
     "data": {
      "text/html": [
       "<div>\n",
       "<style scoped>\n",
       "    .dataframe tbody tr th:only-of-type {\n",
       "        vertical-align: middle;\n",
       "    }\n",
       "\n",
       "    .dataframe tbody tr th {\n",
       "        vertical-align: top;\n",
       "    }\n",
       "\n",
       "    .dataframe thead th {\n",
       "        text-align: right;\n",
       "    }\n",
       "</style>\n",
       "<table border=\"1\" class=\"dataframe\">\n",
       "  <thead>\n",
       "    <tr style=\"text-align: right;\">\n",
       "      <th></th>\n",
       "      <th>Loan_ID</th>\n",
       "      <th>Gender</th>\n",
       "      <th>Married</th>\n",
       "      <th>Dependents</th>\n",
       "      <th>Education</th>\n",
       "      <th>Self_Employed</th>\n",
       "      <th>ApplicantIncome</th>\n",
       "      <th>CoapplicantIncome</th>\n",
       "      <th>LoanAmount</th>\n",
       "      <th>Loan_Amount_Term</th>\n",
       "      <th>Credit_History</th>\n",
       "      <th>Property_Area</th>\n",
       "      <th>Loan_Status</th>\n",
       "    </tr>\n",
       "  </thead>\n",
       "  <tbody>\n",
       "    <tr>\n",
       "      <th>0</th>\n",
       "      <td>LP001002</td>\n",
       "      <td>Male</td>\n",
       "      <td>No</td>\n",
       "      <td>0</td>\n",
       "      <td>Graduate</td>\n",
       "      <td>No</td>\n",
       "      <td>5849</td>\n",
       "      <td>0.0</td>\n",
       "      <td>NaN</td>\n",
       "      <td>360.0</td>\n",
       "      <td>1.0</td>\n",
       "      <td>Urban</td>\n",
       "      <td>Y</td>\n",
       "    </tr>\n",
       "    <tr>\n",
       "      <th>1</th>\n",
       "      <td>LP001003</td>\n",
       "      <td>Male</td>\n",
       "      <td>Yes</td>\n",
       "      <td>1</td>\n",
       "      <td>Graduate</td>\n",
       "      <td>No</td>\n",
       "      <td>4583</td>\n",
       "      <td>1508.0</td>\n",
       "      <td>128.0</td>\n",
       "      <td>360.0</td>\n",
       "      <td>1.0</td>\n",
       "      <td>Rural</td>\n",
       "      <td>N</td>\n",
       "    </tr>\n",
       "    <tr>\n",
       "      <th>2</th>\n",
       "      <td>LP001005</td>\n",
       "      <td>Male</td>\n",
       "      <td>Yes</td>\n",
       "      <td>0</td>\n",
       "      <td>Graduate</td>\n",
       "      <td>Yes</td>\n",
       "      <td>3000</td>\n",
       "      <td>0.0</td>\n",
       "      <td>66.0</td>\n",
       "      <td>360.0</td>\n",
       "      <td>1.0</td>\n",
       "      <td>Urban</td>\n",
       "      <td>Y</td>\n",
       "    </tr>\n",
       "    <tr>\n",
       "      <th>3</th>\n",
       "      <td>LP001006</td>\n",
       "      <td>Male</td>\n",
       "      <td>Yes</td>\n",
       "      <td>0</td>\n",
       "      <td>Not Graduate</td>\n",
       "      <td>No</td>\n",
       "      <td>2583</td>\n",
       "      <td>2358.0</td>\n",
       "      <td>120.0</td>\n",
       "      <td>360.0</td>\n",
       "      <td>1.0</td>\n",
       "      <td>Urban</td>\n",
       "      <td>Y</td>\n",
       "    </tr>\n",
       "    <tr>\n",
       "      <th>4</th>\n",
       "      <td>LP001008</td>\n",
       "      <td>Male</td>\n",
       "      <td>No</td>\n",
       "      <td>0</td>\n",
       "      <td>Graduate</td>\n",
       "      <td>No</td>\n",
       "      <td>6000</td>\n",
       "      <td>0.0</td>\n",
       "      <td>141.0</td>\n",
       "      <td>360.0</td>\n",
       "      <td>1.0</td>\n",
       "      <td>Urban</td>\n",
       "      <td>Y</td>\n",
       "    </tr>\n",
       "  </tbody>\n",
       "</table>\n",
       "</div>"
      ],
      "text/plain": [
       "    Loan_ID Gender Married Dependents     Education Self_Employed  \\\n",
       "0  LP001002   Male      No          0      Graduate            No   \n",
       "1  LP001003   Male     Yes          1      Graduate            No   \n",
       "2  LP001005   Male     Yes          0      Graduate           Yes   \n",
       "3  LP001006   Male     Yes          0  Not Graduate            No   \n",
       "4  LP001008   Male      No          0      Graduate            No   \n",
       "\n",
       "   ApplicantIncome  CoapplicantIncome  LoanAmount  Loan_Amount_Term  \\\n",
       "0             5849                0.0         NaN             360.0   \n",
       "1             4583             1508.0       128.0             360.0   \n",
       "2             3000                0.0        66.0             360.0   \n",
       "3             2583             2358.0       120.0             360.0   \n",
       "4             6000                0.0       141.0             360.0   \n",
       "\n",
       "   Credit_History Property_Area Loan_Status  \n",
       "0             1.0         Urban           Y  \n",
       "1             1.0         Rural           N  \n",
       "2             1.0         Urban           Y  \n",
       "3             1.0         Urban           Y  \n",
       "4             1.0         Urban           Y  "
      ]
     },
     "execution_count": 1550,
     "metadata": {},
     "output_type": "execute_result"
    }
   ],
   "source": [
    "train_df.head()"
   ]
  },
  {
   "cell_type": "code",
   "execution_count": 1551,
   "id": "a1d7e9a1",
   "metadata": {},
   "outputs": [
    {
     "data": {
      "text/html": [
       "<div>\n",
       "<style scoped>\n",
       "    .dataframe tbody tr th:only-of-type {\n",
       "        vertical-align: middle;\n",
       "    }\n",
       "\n",
       "    .dataframe tbody tr th {\n",
       "        vertical-align: top;\n",
       "    }\n",
       "\n",
       "    .dataframe thead th {\n",
       "        text-align: right;\n",
       "    }\n",
       "</style>\n",
       "<table border=\"1\" class=\"dataframe\">\n",
       "  <thead>\n",
       "    <tr style=\"text-align: right;\">\n",
       "      <th></th>\n",
       "      <th>Loan_ID</th>\n",
       "      <th>Gender</th>\n",
       "      <th>Married</th>\n",
       "      <th>Dependents</th>\n",
       "      <th>Education</th>\n",
       "      <th>Self_Employed</th>\n",
       "      <th>ApplicantIncome</th>\n",
       "      <th>CoapplicantIncome</th>\n",
       "      <th>LoanAmount</th>\n",
       "      <th>Loan_Amount_Term</th>\n",
       "      <th>Credit_History</th>\n",
       "      <th>Property_Area</th>\n",
       "    </tr>\n",
       "  </thead>\n",
       "  <tbody>\n",
       "    <tr>\n",
       "      <th>0</th>\n",
       "      <td>LP001015</td>\n",
       "      <td>Male</td>\n",
       "      <td>Yes</td>\n",
       "      <td>0</td>\n",
       "      <td>Graduate</td>\n",
       "      <td>No</td>\n",
       "      <td>5720</td>\n",
       "      <td>0</td>\n",
       "      <td>110.0</td>\n",
       "      <td>360.0</td>\n",
       "      <td>1.0</td>\n",
       "      <td>Urban</td>\n",
       "    </tr>\n",
       "    <tr>\n",
       "      <th>1</th>\n",
       "      <td>LP001022</td>\n",
       "      <td>Male</td>\n",
       "      <td>Yes</td>\n",
       "      <td>1</td>\n",
       "      <td>Graduate</td>\n",
       "      <td>No</td>\n",
       "      <td>3076</td>\n",
       "      <td>1500</td>\n",
       "      <td>126.0</td>\n",
       "      <td>360.0</td>\n",
       "      <td>1.0</td>\n",
       "      <td>Urban</td>\n",
       "    </tr>\n",
       "    <tr>\n",
       "      <th>2</th>\n",
       "      <td>LP001031</td>\n",
       "      <td>Male</td>\n",
       "      <td>Yes</td>\n",
       "      <td>2</td>\n",
       "      <td>Graduate</td>\n",
       "      <td>No</td>\n",
       "      <td>5000</td>\n",
       "      <td>1800</td>\n",
       "      <td>208.0</td>\n",
       "      <td>360.0</td>\n",
       "      <td>1.0</td>\n",
       "      <td>Urban</td>\n",
       "    </tr>\n",
       "    <tr>\n",
       "      <th>3</th>\n",
       "      <td>LP001035</td>\n",
       "      <td>Male</td>\n",
       "      <td>Yes</td>\n",
       "      <td>2</td>\n",
       "      <td>Graduate</td>\n",
       "      <td>No</td>\n",
       "      <td>2340</td>\n",
       "      <td>2546</td>\n",
       "      <td>100.0</td>\n",
       "      <td>360.0</td>\n",
       "      <td>NaN</td>\n",
       "      <td>Urban</td>\n",
       "    </tr>\n",
       "    <tr>\n",
       "      <th>4</th>\n",
       "      <td>LP001051</td>\n",
       "      <td>Male</td>\n",
       "      <td>No</td>\n",
       "      <td>0</td>\n",
       "      <td>Not Graduate</td>\n",
       "      <td>No</td>\n",
       "      <td>3276</td>\n",
       "      <td>0</td>\n",
       "      <td>78.0</td>\n",
       "      <td>360.0</td>\n",
       "      <td>1.0</td>\n",
       "      <td>Urban</td>\n",
       "    </tr>\n",
       "  </tbody>\n",
       "</table>\n",
       "</div>"
      ],
      "text/plain": [
       "    Loan_ID Gender Married Dependents     Education Self_Employed  \\\n",
       "0  LP001015   Male     Yes          0      Graduate            No   \n",
       "1  LP001022   Male     Yes          1      Graduate            No   \n",
       "2  LP001031   Male     Yes          2      Graduate            No   \n",
       "3  LP001035   Male     Yes          2      Graduate            No   \n",
       "4  LP001051   Male      No          0  Not Graduate            No   \n",
       "\n",
       "   ApplicantIncome  CoapplicantIncome  LoanAmount  Loan_Amount_Term  \\\n",
       "0             5720                  0       110.0             360.0   \n",
       "1             3076               1500       126.0             360.0   \n",
       "2             5000               1800       208.0             360.0   \n",
       "3             2340               2546       100.0             360.0   \n",
       "4             3276                  0        78.0             360.0   \n",
       "\n",
       "   Credit_History Property_Area  \n",
       "0             1.0         Urban  \n",
       "1             1.0         Urban  \n",
       "2             1.0         Urban  \n",
       "3             NaN         Urban  \n",
       "4             1.0         Urban  "
      ]
     },
     "execution_count": 1551,
     "metadata": {},
     "output_type": "execute_result"
    }
   ],
   "source": [
    "test_df.head()"
   ]
  },
  {
   "cell_type": "code",
   "execution_count": 1552,
   "id": "a4593073",
   "metadata": {},
   "outputs": [
    {
     "data": {
      "text/html": [
       "<div>\n",
       "<style scoped>\n",
       "    .dataframe tbody tr th:only-of-type {\n",
       "        vertical-align: middle;\n",
       "    }\n",
       "\n",
       "    .dataframe tbody tr th {\n",
       "        vertical-align: top;\n",
       "    }\n",
       "\n",
       "    .dataframe thead th {\n",
       "        text-align: right;\n",
       "    }\n",
       "</style>\n",
       "<table border=\"1\" class=\"dataframe\">\n",
       "  <thead>\n",
       "    <tr style=\"text-align: right;\">\n",
       "      <th></th>\n",
       "      <th>Loan_ID</th>\n",
       "      <th>Loan_Status</th>\n",
       "    </tr>\n",
       "  </thead>\n",
       "  <tbody>\n",
       "    <tr>\n",
       "      <th>0</th>\n",
       "      <td>LP001015</td>\n",
       "      <td>N</td>\n",
       "    </tr>\n",
       "    <tr>\n",
       "      <th>1</th>\n",
       "      <td>LP001022</td>\n",
       "      <td>N</td>\n",
       "    </tr>\n",
       "    <tr>\n",
       "      <th>2</th>\n",
       "      <td>LP001031</td>\n",
       "      <td>N</td>\n",
       "    </tr>\n",
       "    <tr>\n",
       "      <th>3</th>\n",
       "      <td>LP001035</td>\n",
       "      <td>N</td>\n",
       "    </tr>\n",
       "    <tr>\n",
       "      <th>4</th>\n",
       "      <td>LP001051</td>\n",
       "      <td>N</td>\n",
       "    </tr>\n",
       "  </tbody>\n",
       "</table>\n",
       "</div>"
      ],
      "text/plain": [
       "    Loan_ID Loan_Status\n",
       "0  LP001015           N\n",
       "1  LP001022           N\n",
       "2  LP001031           N\n",
       "3  LP001035           N\n",
       "4  LP001051           N"
      ]
     },
     "execution_count": 1552,
     "metadata": {},
     "output_type": "execute_result"
    }
   ],
   "source": [
    "submission_df.head()"
   ]
  },
  {
   "cell_type": "code",
   "execution_count": 1553,
   "id": "8e3bb4f2",
   "metadata": {},
   "outputs": [
    {
     "data": {
      "text/plain": [
       "(614, 13)"
      ]
     },
     "execution_count": 1553,
     "metadata": {},
     "output_type": "execute_result"
    }
   ],
   "source": [
    "train_df.shape"
   ]
  },
  {
   "cell_type": "code",
   "execution_count": 1554,
   "id": "bd6c95e4",
   "metadata": {},
   "outputs": [
    {
     "data": {
      "text/plain": [
       "(367, 12)"
      ]
     },
     "execution_count": 1554,
     "metadata": {},
     "output_type": "execute_result"
    }
   ],
   "source": [
    "test_df.shape"
   ]
  },
  {
   "cell_type": "code",
   "execution_count": 1555,
   "id": "3c1acdb8",
   "metadata": {},
   "outputs": [
    {
     "data": {
      "text/plain": [
       "Index(['Loan_Status'], dtype='object')"
      ]
     },
     "execution_count": 1555,
     "metadata": {},
     "output_type": "execute_result"
    }
   ],
   "source": [
    "train_df.columns.difference(test_df.columns)"
   ]
  },
  {
   "cell_type": "markdown",
   "id": "a976b275",
   "metadata": {},
   "source": [
    "### Let's analyze the Target variable\n",
    "The data represents loan approval ration of 70%"
   ]
  },
  {
   "cell_type": "code",
   "execution_count": 1556,
   "id": "6e600330",
   "metadata": {},
   "outputs": [
    {
     "data": {
      "text/plain": [
       "Y    422\n",
       "N    192\n",
       "Name: Loan_Status, dtype: int64"
      ]
     },
     "execution_count": 1556,
     "metadata": {},
     "output_type": "execute_result"
    }
   ],
   "source": [
    "train_df['Loan_Status'].value_counts()"
   ]
  },
  {
   "cell_type": "code",
   "execution_count": 1557,
   "id": "d88f86a0",
   "metadata": {},
   "outputs": [
    {
     "data": {
      "text/plain": [
       "<AxesSubplot:>"
      ]
     },
     "execution_count": 1557,
     "metadata": {},
     "output_type": "execute_result"
    },
    {
     "data": {
      "image/png": "[encoded data removed]",
      "text/plain": [
       "<Figure size 432x288 with 1 Axes>"
      ]
     },
     "metadata": {
      "needs_background": "light"
     },
     "output_type": "display_data"
    }
   ],
   "source": [
    "train_df['Loan_Status'].value_counts(dropna=False, normalize=True).plot(kind='bar')"
   ]
  },
  {
   "cell_type": "code",
   "execution_count": 1558,
   "id": "a61723ff",
   "metadata": {},
   "outputs": [
    {
     "data": {
      "text/plain": [
       "0"
      ]
     },
     "execution_count": 1558,
     "metadata": {},
     "output_type": "execute_result"
    }
   ],
   "source": [
    "train_df.duplicated().sum()"
   ]
  },
  {
   "cell_type": "code",
   "execution_count": 1559,
   "id": "9e2000e1",
   "metadata": {},
   "outputs": [
    {
     "data": {
      "text/plain": [
       "0"
      ]
     },
     "execution_count": 1559,
     "metadata": {},
     "output_type": "execute_result"
    }
   ],
   "source": [
    "test_df.duplicated().sum()"
   ]
  },
  {
   "cell_type": "code",
   "execution_count": 1560,
   "id": "5e117074",
   "metadata": {},
   "outputs": [
    {
     "data": {
      "text/plain": [
       "0"
      ]
     },
     "execution_count": 1560,
     "metadata": {},
     "output_type": "execute_result"
    }
   ],
   "source": [
    "pd.concat([train_df,test_df]).duplicated().sum()"
   ]
  },
  {
   "cell_type": "code",
   "execution_count": 1561,
   "id": "e6f64c7c",
   "metadata": {},
   "outputs": [],
   "source": [
    "train_df['source'] = 'train'\n",
    "test_df['source'] = 'test'"
   ]
  },
  {
   "cell_type": "code",
   "execution_count": 1562,
   "id": "ebdb3599",
   "metadata": {},
   "outputs": [],
   "source": [
    "df = pd.concat([train_df,test_df],axis=0)"
   ]
  },
  {
   "cell_type": "code",
   "execution_count": 1563,
   "id": "5b1ac67c",
   "metadata": {},
   "outputs": [],
   "source": [
    "df.reset_index(inplace=True, drop=True)"
   ]
  },
  {
   "cell_type": "code",
   "execution_count": 1564,
   "id": "408101e4",
   "metadata": {},
   "outputs": [],
   "source": [
    "df['Loan_Status'] = df['Loan_Status'].map({'N':0,'Y':1})"
   ]
  },
  {
   "cell_type": "code",
   "execution_count": 1565,
   "id": "cf20546a",
   "metadata": {},
   "outputs": [
    {
     "data": {
      "text/plain": [
       "<AxesSubplot:>"
      ]
     },
     "execution_count": 1565,
     "metadata": {},
     "output_type": "execute_result"
    },
    {
     "data": {
      "image/png": "[encoded data removed]",
      "text/plain": [
       "<Figure size 1440x720 with 2 Axes>"
      ]
     },
     "metadata": {
      "needs_background": "light"
     },
     "output_type": "display_data"
    }
   ],
   "source": [
    "plot.figure(figsize=(20,10))\n",
    "sns.heatmap(df.corr())"
   ]
  },
  {
   "cell_type": "code",
   "execution_count": 1566,
   "id": "29617206",
   "metadata": {},
   "outputs": [
    {
     "data": {
      "text/plain": [
       "(981, 14)"
      ]
     },
     "execution_count": 1566,
     "metadata": {},
     "output_type": "execute_result"
    }
   ],
   "source": [
    "df.shape"
   ]
  },
  {
   "cell_type": "code",
   "execution_count": 1567,
   "id": "856ceea2",
   "metadata": {},
   "outputs": [
    {
     "name": "stdout",
     "output_type": "stream",
     "text": [
      "<class 'pandas.core.frame.DataFrame'>\n",
      "RangeIndex: 981 entries, 0 to 980\n",
      "Data columns (total 14 columns):\n",
      " #   Column             Non-Null Count  Dtype  \n",
      "---  ------             --------------  -----  \n",
      " 0   Loan_ID            981 non-null    object \n",
      " 1   Gender             957 non-null    object \n",
      " 2   Married            978 non-null    object \n",
      " 3   Dependents         956 non-null    object \n",
      " 4   Education          981 non-null    object \n",
      " 5   Self_Employed      926 non-null    object \n",
      " 6   ApplicantIncome    981 non-null    int64  \n",
      " 7   CoapplicantIncome  981 non-null    float64\n",
      " 8   LoanAmount         954 non-null    float64\n",
      " 9   Loan_Amount_Term   961 non-null    float64\n",
      " 10  Credit_History     902 non-null    float64\n",
      " 11  Property_Area      981 non-null    object \n",
      " 12  Loan_Status        614 non-null    float64\n",
      " 13  source             981 non-null    object \n",
      "dtypes: float64(5), int64(1), object(8)\n",
      "memory usage: 107.4+ KB\n"
     ]
    }
   ],
   "source": [
    "df.info()"
   ]
  },
  {
   "cell_type": "code",
   "execution_count": 1568,
   "id": "2f4b3d99",
   "metadata": {},
   "outputs": [
    {
     "data": {
      "text/plain": [
       "Loan_ID                0\n",
       "Gender                24\n",
       "Married                3\n",
       "Dependents            25\n",
       "Education              0\n",
       "Self_Employed         55\n",
       "ApplicantIncome        0\n",
       "CoapplicantIncome      0\n",
       "LoanAmount            27\n",
       "Loan_Amount_Term      20\n",
       "Credit_History        79\n",
       "Property_Area          0\n",
       "Loan_Status          367\n",
       "source                 0\n",
       "dtype: int64"
      ]
     },
     "execution_count": 1568,
     "metadata": {},
     "output_type": "execute_result"
    }
   ],
   "source": [
    "df.isna().sum()"
   ]
  },
  {
   "cell_type": "code",
   "execution_count": 1569,
   "id": "1957b61b",
   "metadata": {},
   "outputs": [
    {
     "data": {
      "text/html": [
       "<div>\n",
       "<style scoped>\n",
       "    .dataframe tbody tr th:only-of-type {\n",
       "        vertical-align: middle;\n",
       "    }\n",
       "\n",
       "    .dataframe tbody tr th {\n",
       "        vertical-align: top;\n",
       "    }\n",
       "\n",
       "    .dataframe thead th {\n",
       "        text-align: right;\n",
       "    }\n",
       "</style>\n",
       "<table border=\"1\" class=\"dataframe\">\n",
       "  <thead>\n",
       "    <tr style=\"text-align: right;\">\n",
       "      <th></th>\n",
       "      <th>count</th>\n",
       "      <th>unique</th>\n",
       "      <th>top</th>\n",
       "      <th>freq</th>\n",
       "    </tr>\n",
       "  </thead>\n",
       "  <tbody>\n",
       "    <tr>\n",
       "      <th>Loan_ID</th>\n",
       "      <td>981</td>\n",
       "      <td>981</td>\n",
       "      <td>LP001002</td>\n",
       "      <td>1</td>\n",
       "    </tr>\n",
       "    <tr>\n",
       "      <th>Gender</th>\n",
       "      <td>957</td>\n",
       "      <td>2</td>\n",
       "      <td>Male</td>\n",
       "      <td>775</td>\n",
       "    </tr>\n",
       "    <tr>\n",
       "      <th>Married</th>\n",
       "      <td>978</td>\n",
       "      <td>2</td>\n",
       "      <td>Yes</td>\n",
       "      <td>631</td>\n",
       "    </tr>\n",
       "    <tr>\n",
       "      <th>Dependents</th>\n",
       "      <td>956</td>\n",
       "      <td>4</td>\n",
       "      <td>0</td>\n",
       "      <td>545</td>\n",
       "    </tr>\n",
       "    <tr>\n",
       "      <th>Education</th>\n",
       "      <td>981</td>\n",
       "      <td>2</td>\n",
       "      <td>Graduate</td>\n",
       "      <td>763</td>\n",
       "    </tr>\n",
       "    <tr>\n",
       "      <th>Self_Employed</th>\n",
       "      <td>926</td>\n",
       "      <td>2</td>\n",
       "      <td>No</td>\n",
       "      <td>807</td>\n",
       "    </tr>\n",
       "    <tr>\n",
       "      <th>Property_Area</th>\n",
       "      <td>981</td>\n",
       "      <td>3</td>\n",
       "      <td>Semiurban</td>\n",
       "      <td>349</td>\n",
       "    </tr>\n",
       "    <tr>\n",
       "      <th>source</th>\n",
       "      <td>981</td>\n",
       "      <td>2</td>\n",
       "      <td>train</td>\n",
       "      <td>614</td>\n",
       "    </tr>\n",
       "  </tbody>\n",
       "</table>\n",
       "</div>"
      ],
      "text/plain": [
       "              count unique        top freq\n",
       "Loan_ID         981    981   LP001002    1\n",
       "Gender          957      2       Male  775\n",
       "Married         978      2        Yes  631\n",
       "Dependents      956      4          0  545\n",
       "Education       981      2   Graduate  763\n",
       "Self_Employed   926      2         No  807\n",
       "Property_Area   981      3  Semiurban  349\n",
       "source          981      2      train  614"
      ]
     },
     "execution_count": 1569,
     "metadata": {},
     "output_type": "execute_result"
    }
   ],
   "source": [
    "df.describe(include='object').T"
   ]
  },
  {
   "cell_type": "code",
   "execution_count": 1570,
   "id": "6e2d0e6d",
   "metadata": {},
   "outputs": [
    {
     "data": {
      "text/html": [
       "<div>\n",
       "<style scoped>\n",
       "    .dataframe tbody tr th:only-of-type {\n",
       "        vertical-align: middle;\n",
       "    }\n",
       "\n",
       "    .dataframe tbody tr th {\n",
       "        vertical-align: top;\n",
       "    }\n",
       "\n",
       "    .dataframe thead th {\n",
       "        text-align: right;\n",
       "    }\n",
       "</style>\n",
       "<table border=\"1\" class=\"dataframe\">\n",
       "  <thead>\n",
       "    <tr style=\"text-align: right;\">\n",
       "      <th></th>\n",
       "      <th>count</th>\n",
       "      <th>mean</th>\n",
       "      <th>std</th>\n",
       "      <th>min</th>\n",
       "      <th>25%</th>\n",
       "      <th>50%</th>\n",
       "      <th>75%</th>\n",
       "      <th>max</th>\n",
       "    </tr>\n",
       "  </thead>\n",
       "  <tbody>\n",
       "    <tr>\n",
       "      <th>ApplicantIncome</th>\n",
       "      <td>981.0</td>\n",
       "      <td>5179.795107</td>\n",
       "      <td>5695.104533</td>\n",
       "      <td>0.0</td>\n",
       "      <td>2875.0</td>\n",
       "      <td>3800.0</td>\n",
       "      <td>5516.0</td>\n",
       "      <td>81000.0</td>\n",
       "    </tr>\n",
       "    <tr>\n",
       "      <th>CoapplicantIncome</th>\n",
       "      <td>981.0</td>\n",
       "      <td>1601.916330</td>\n",
       "      <td>2718.772806</td>\n",
       "      <td>0.0</td>\n",
       "      <td>0.0</td>\n",
       "      <td>1110.0</td>\n",
       "      <td>2365.0</td>\n",
       "      <td>41667.0</td>\n",
       "    </tr>\n",
       "    <tr>\n",
       "      <th>LoanAmount</th>\n",
       "      <td>954.0</td>\n",
       "      <td>142.511530</td>\n",
       "      <td>77.421743</td>\n",
       "      <td>9.0</td>\n",
       "      <td>100.0</td>\n",
       "      <td>126.0</td>\n",
       "      <td>162.0</td>\n",
       "      <td>700.0</td>\n",
       "    </tr>\n",
       "    <tr>\n",
       "      <th>Loan_Amount_Term</th>\n",
       "      <td>961.0</td>\n",
       "      <td>342.201873</td>\n",
       "      <td>65.100602</td>\n",
       "      <td>6.0</td>\n",
       "      <td>360.0</td>\n",
       "      <td>360.0</td>\n",
       "      <td>360.0</td>\n",
       "      <td>480.0</td>\n",
       "    </tr>\n",
       "    <tr>\n",
       "      <th>Credit_History</th>\n",
       "      <td>902.0</td>\n",
       "      <td>0.835920</td>\n",
       "      <td>0.370553</td>\n",
       "      <td>0.0</td>\n",
       "      <td>1.0</td>\n",
       "      <td>1.0</td>\n",
       "      <td>1.0</td>\n",
       "      <td>1.0</td>\n",
       "    </tr>\n",
       "    <tr>\n",
       "      <th>Loan_Status</th>\n",
       "      <td>614.0</td>\n",
       "      <td>0.687296</td>\n",
       "      <td>0.463973</td>\n",
       "      <td>0.0</td>\n",
       "      <td>0.0</td>\n",
       "      <td>1.0</td>\n",
       "      <td>1.0</td>\n",
       "      <td>1.0</td>\n",
       "    </tr>\n",
       "  </tbody>\n",
       "</table>\n",
       "</div>"
      ],
      "text/plain": [
       "                   count         mean          std  min     25%     50%  \\\n",
       "ApplicantIncome    981.0  5179.795107  5695.104533  0.0  2875.0  3800.0   \n",
       "CoapplicantIncome  981.0  1601.916330  2718.772806  0.0     0.0  1110.0   \n",
       "LoanAmount         954.0   142.511530    77.421743  9.0   100.0   126.0   \n",
       "Loan_Amount_Term   961.0   342.201873    65.100602  6.0   360.0   360.0   \n",
       "Credit_History     902.0     0.835920     0.370553  0.0     1.0     1.0   \n",
       "Loan_Status        614.0     0.687296     0.463973  0.0     0.0     1.0   \n",
       "\n",
       "                      75%      max  \n",
       "ApplicantIncome    5516.0  81000.0  \n",
       "CoapplicantIncome  2365.0  41667.0  \n",
       "LoanAmount          162.0    700.0  \n",
       "Loan_Amount_Term    360.0    480.0  \n",
       "Credit_History        1.0      1.0  \n",
       "Loan_Status           1.0      1.0  "
      ]
     },
     "execution_count": 1570,
     "metadata": {},
     "output_type": "execute_result"
    }
   ],
   "source": [
    "df.describe(exclude='object').T"
   ]
  },
  {
   "cell_type": "markdown",
   "id": "aa1c12ce",
   "metadata": {},
   "source": [
    "### Univeriate analysis for independent categorical nomial features like : Gender, Married, Self_Employed, Credit_history, \n",
    "1. 80% of the population are male\n",
    "2. 65% are married\n",
    "3. 75% has good credit history ( repayed the loans)"
   ]
  },
  {
   "cell_type": "code",
   "execution_count": 1571,
   "id": "c51bdccb",
   "metadata": {},
   "outputs": [
    {
     "data": {
      "text/plain": [
       "Male      775\n",
       "Female    182\n",
       "NaN        24\n",
       "Name: Gender, dtype: int64"
      ]
     },
     "execution_count": 1571,
     "metadata": {},
     "output_type": "execute_result"
    }
   ],
   "source": [
    "df['Gender'].value_counts(dropna=False)"
   ]
  },
  {
   "cell_type": "code",
   "execution_count": 1572,
   "id": "327f67c8",
   "metadata": {
    "scrolled": true
   },
   "outputs": [
    {
     "data": {
      "text/plain": [
       "<AxesSubplot:>"
      ]
     },
     "execution_count": 1572,
     "metadata": {},
     "output_type": "execute_result"
    },
    {
     "data": {
      "image/png": "[encoded data removed]",
      "text/plain": [
       "<Figure size 432x288 with 1 Axes>"
      ]
     },
     "metadata": {
      "needs_background": "light"
     },
     "output_type": "display_data"
    }
   ],
   "source": [
    "df['Gender'].value_counts(normalize=True,dropna=False).plot(kind='bar',legend=True)"
   ]
  },
  {
   "cell_type": "code",
   "execution_count": 1573,
   "id": "f4dc9461",
   "metadata": {},
   "outputs": [],
   "source": [
    "df['Gender'] = df['Gender'].map({'Male':1,'Female':0,np.NaN:1})"
   ]
  },
  {
   "cell_type": "code",
   "execution_count": 1574,
   "id": "efe3ae1f",
   "metadata": {},
   "outputs": [
    {
     "data": {
      "text/plain": [
       "Yes    631\n",
       "No     347\n",
       "NaN      3\n",
       "Name: Married, dtype: int64"
      ]
     },
     "execution_count": 1574,
     "metadata": {},
     "output_type": "execute_result"
    }
   ],
   "source": [
    "df['Married'].value_counts(dropna=False)"
   ]
  },
  {
   "cell_type": "code",
   "execution_count": 1575,
   "id": "be8b0ca9",
   "metadata": {},
   "outputs": [
    {
     "data": {
      "text/plain": [
       "<AxesSubplot:>"
      ]
     },
     "execution_count": 1575,
     "metadata": {},
     "output_type": "execute_result"
    },
    {
     "data": {
      "image/png": "[encoded data removed]",
      "text/plain": [
       "<Figure size 432x288 with 1 Axes>"
      ]
     },
     "metadata": {
      "needs_background": "light"
     },
     "output_type": "display_data"
    }
   ],
   "source": [
    "df['Married'].value_counts(normalize=True,dropna=False).plot(kind='bar',legend=True)"
   ]
  },
  {
   "cell_type": "code",
   "execution_count": 1576,
   "id": "5536f9c3",
   "metadata": {},
   "outputs": [],
   "source": [
    "df['Married'] = df['Married'].map({'Yes':1,'No':0,np.NaN:1})"
   ]
  },
  {
   "cell_type": "code",
   "execution_count": 1577,
   "id": "077b0042",
   "metadata": {},
   "outputs": [
    {
     "data": {
      "text/plain": [
       "No     807\n",
       "Yes    119\n",
       "NaN     55\n",
       "Name: Self_Employed, dtype: int64"
      ]
     },
     "execution_count": 1577,
     "metadata": {},
     "output_type": "execute_result"
    }
   ],
   "source": [
    "df['Self_Employed'].value_counts(dropna=False)"
   ]
  },
  {
   "cell_type": "code",
   "execution_count": 1578,
   "id": "b3d4ed81",
   "metadata": {},
   "outputs": [
    {
     "data": {
      "text/plain": [
       "<AxesSubplot:>"
      ]
     },
     "execution_count": 1578,
     "metadata": {},
     "output_type": "execute_result"
    },
    {
     "data": {
      "image/png": "[encoded data removed]",
      "text/plain": [
       "<Figure size 432x288 with 1 Axes>"
      ]
     },
     "metadata": {
      "needs_background": "light"
     },
     "output_type": "display_data"
    }
   ],
   "source": [
    "df['Self_Employed'].value_counts(normalize=True,dropna=False).plot(kind='bar',legend=True)"
   ]
  },
  {
   "cell_type": "code",
   "execution_count": 1579,
   "id": "0a781108",
   "metadata": {},
   "outputs": [],
   "source": [
    "df['Self_Employed'] = df['Self_Employed'].map({'Yes':1,'No':0, np.NaN:0})"
   ]
  },
  {
   "cell_type": "code",
   "execution_count": 1580,
   "id": "6d2df046",
   "metadata": {},
   "outputs": [
    {
     "data": {
      "text/plain": [
       "1.0    754\n",
       "0.0    148\n",
       "NaN     79\n",
       "Name: Credit_History, dtype: int64"
      ]
     },
     "execution_count": 1580,
     "metadata": {},
     "output_type": "execute_result"
    }
   ],
   "source": [
    "df['Credit_History'].value_counts(dropna=False)"
   ]
  },
  {
   "cell_type": "code",
   "execution_count": 1581,
   "id": "f1167dcf",
   "metadata": {},
   "outputs": [
    {
     "data": {
      "text/plain": [
       "<AxesSubplot:>"
      ]
     },
     "execution_count": 1581,
     "metadata": {},
     "output_type": "execute_result"
    },
    {
     "data": {
      "image/png": "[encoded data removed]",
      "text/plain": [
       "<Figure size 432x288 with 1 Axes>"
      ]
     },
     "metadata": {
      "needs_background": "light"
     },
     "output_type": "display_data"
    }
   ],
   "source": [
    "df['Credit_History'].value_counts(normalize=True,dropna=False).plot(kind='bar',legend=True)"
   ]
  },
  {
   "cell_type": "code",
   "execution_count": 1582,
   "id": "897184b8",
   "metadata": {},
   "outputs": [
    {
     "data": {
      "text/plain": [
       "1.0"
      ]
     },
     "execution_count": 1582,
     "metadata": {},
     "output_type": "execute_result"
    }
   ],
   "source": [
    "df['Credit_History'].mode()[0]"
   ]
  },
  {
   "cell_type": "code",
   "execution_count": 1583,
   "id": "0658cfcf",
   "metadata": {},
   "outputs": [],
   "source": [
    "df['Credit_History'] = df['Credit_History'].fillna(df['Credit_History'].mode()[0])"
   ]
  },
  {
   "cell_type": "code",
   "execution_count": 1584,
   "id": "705cf64b",
   "metadata": {},
   "outputs": [
    {
     "data": {
      "text/plain": [
       "1.0    833\n",
       "0.0    148\n",
       "Name: Credit_History, dtype: int64"
      ]
     },
     "execution_count": 1584,
     "metadata": {},
     "output_type": "execute_result"
    }
   ],
   "source": [
    "df['Credit_History'].value_counts(dropna=False)"
   ]
  },
  {
   "cell_type": "markdown",
   "id": "57f2eba6",
   "metadata": {},
   "source": [
    "### Univeriate analysis for independent categorical ordinal features like : Dependents, Education, Property_Area\n",
    "1. 60% of the population dont have  any dependents\n",
    "2. 75% are Graduates\n",
    "3. property types are in equal ration"
   ]
  },
  {
   "cell_type": "code",
   "execution_count": 1585,
   "id": "1c773317",
   "metadata": {},
   "outputs": [
    {
     "data": {
      "text/plain": [
       "0      545\n",
       "1      160\n",
       "2      160\n",
       "3+      91\n",
       "NaN     25\n",
       "Name: Dependents, dtype: int64"
      ]
     },
     "execution_count": 1585,
     "metadata": {},
     "output_type": "execute_result"
    }
   ],
   "source": [
    "df['Dependents'].value_counts(dropna=False)"
   ]
  },
  {
   "cell_type": "code",
   "execution_count": 1586,
   "id": "f7db386e",
   "metadata": {},
   "outputs": [
    {
     "data": {
      "text/plain": [
       "<AxesSubplot:>"
      ]
     },
     "execution_count": 1586,
     "metadata": {},
     "output_type": "execute_result"
    },
    {
     "data": {
      "image/png": "[encoded data removed]",
      "text/plain": [
       "<Figure size 432x288 with 1 Axes>"
      ]
     },
     "metadata": {
      "needs_background": "light"
     },
     "output_type": "display_data"
    }
   ],
   "source": [
    "df['Dependents'].value_counts(normalize=True,dropna=False).plot(kind='bar',legend=True)"
   ]
  },
  {
   "cell_type": "code",
   "execution_count": 1587,
   "id": "481e82d6",
   "metadata": {},
   "outputs": [],
   "source": [
    "df['Dependents'] = df['Dependents'].map({'0':0,'1':1,'2':2,'3+':3,np.NaN:0})"
   ]
  },
  {
   "cell_type": "code",
   "execution_count": 1588,
   "id": "e8ca5626",
   "metadata": {},
   "outputs": [
    {
     "data": {
      "text/plain": [
       "0    570\n",
       "1    160\n",
       "2    160\n",
       "3     91\n",
       "Name: Dependents, dtype: int64"
      ]
     },
     "execution_count": 1588,
     "metadata": {},
     "output_type": "execute_result"
    }
   ],
   "source": [
    "df['Dependents'].value_counts(dropna=False)"
   ]
  },
  {
   "cell_type": "code",
   "execution_count": 1589,
   "id": "fc89073f",
   "metadata": {},
   "outputs": [
    {
     "data": {
      "text/plain": [
       "<AxesSubplot:>"
      ]
     },
     "execution_count": 1589,
     "metadata": {},
     "output_type": "execute_result"
    },
    {
     "data": {
      "image/png": "[encoded data removed]",
      "text/plain": [
       "<Figure size 432x288 with 1 Axes>"
      ]
     },
     "metadata": {
      "needs_background": "light"
     },
     "output_type": "display_data"
    }
   ],
   "source": [
    "df['Education'].value_counts(normalize=True,dropna=False).plot(kind='bar',legend=True)"
   ]
  },
  {
   "cell_type": "code",
   "execution_count": 1590,
   "id": "cea0ba6c",
   "metadata": {},
   "outputs": [],
   "source": [
    "df['Education'] = df['Education'].map({'Graduate':1,'Not Graduate':0})"
   ]
  },
  {
   "cell_type": "code",
   "execution_count": 1591,
   "id": "9dc16481",
   "metadata": {},
   "outputs": [
    {
     "data": {
      "text/plain": [
       "Semiurban    349\n",
       "Urban        342\n",
       "Rural        290\n",
       "Name: Property_Area, dtype: int64"
      ]
     },
     "execution_count": 1591,
     "metadata": {},
     "output_type": "execute_result"
    }
   ],
   "source": [
    "df['Property_Area'].value_counts(dropna=False)"
   ]
  },
  {
   "cell_type": "code",
   "execution_count": 1592,
   "id": "83431d9e",
   "metadata": {},
   "outputs": [
    {
     "data": {
      "text/plain": [
       "<AxesSubplot:>"
      ]
     },
     "execution_count": 1592,
     "metadata": {},
     "output_type": "execute_result"
    },
    {
     "data": {
      "image/png": "[encoded data removed]",
      "text/plain": [
       "<Figure size 432x288 with 1 Axes>"
      ]
     },
     "metadata": {
      "needs_background": "light"
     },
     "output_type": "display_data"
    }
   ],
   "source": [
    "df['Property_Area'].value_counts(normalize=True,dropna=False).plot(kind='bar',legend=True)"
   ]
  },
  {
   "cell_type": "code",
   "execution_count": 1593,
   "id": "b49c9322",
   "metadata": {},
   "outputs": [
    {
     "name": "stdout",
     "output_type": "stream",
     "text": [
      "<class 'pandas.core.frame.DataFrame'>\n",
      "RangeIndex: 981 entries, 0 to 980\n",
      "Data columns (total 14 columns):\n",
      " #   Column             Non-Null Count  Dtype  \n",
      "---  ------             --------------  -----  \n",
      " 0   Loan_ID            981 non-null    object \n",
      " 1   Gender             981 non-null    int64  \n",
      " 2   Married            981 non-null    int64  \n",
      " 3   Dependents         981 non-null    int64  \n",
      " 4   Education          981 non-null    int64  \n",
      " 5   Self_Employed      981 non-null    int64  \n",
      " 6   ApplicantIncome    981 non-null    int64  \n",
      " 7   CoapplicantIncome  981 non-null    float64\n",
      " 8   LoanAmount         954 non-null    float64\n",
      " 9   Loan_Amount_Term   961 non-null    float64\n",
      " 10  Credit_History     981 non-null    float64\n",
      " 11  Property_Area      981 non-null    object \n",
      " 12  Loan_Status        614 non-null    float64\n",
      " 13  source             981 non-null    object \n",
      "dtypes: float64(5), int64(6), object(3)\n",
      "memory usage: 107.4+ KB\n"
     ]
    }
   ],
   "source": [
    "df.info()"
   ]
  },
  {
   "cell_type": "markdown",
   "id": "1d1cf80a",
   "metadata": {},
   "source": [
    "#### Univeriate analysis for independent numberical features like : ApplicantIncome, CoapplicantIncome, LoanAmount,Loan_Amount_Term\n",
    "1. LoanAmount is normally distributed but has more outliers\n",
    "2. Applicants income is hight tends towards left and lot of outliers. Income  of Graduates have more outliers.\n",
    "3. CoapplicantIncome has same issues as Applicants income"
   ]
  },
  {
   "cell_type": "code",
   "execution_count": 1594,
   "id": "125c9ec3",
   "metadata": {},
   "outputs": [
    {
     "data": {
      "text/plain": [
       "<AxesSubplot:>"
      ]
     },
     "execution_count": 1594,
     "metadata": {},
     "output_type": "execute_result"
    },
    {
     "data": {
      "image/png": "[encoded data removed]",
      "text/plain": [
       "<Figure size 432x288 with 1 Axes>"
      ]
     },
     "metadata": {
      "needs_background": "light"
     },
     "output_type": "display_data"
    }
   ],
   "source": [
    "df['LoanAmount'].plot(kind='box')"
   ]
  },
  {
   "cell_type": "code",
   "execution_count": 1595,
   "id": "fa230cb3",
   "metadata": {},
   "outputs": [
    {
     "data": {
      "text/plain": [
       "<seaborn.axisgrid.FacetGrid at 0x7f50c9a75880>"
      ]
     },
     "execution_count": 1595,
     "metadata": {},
     "output_type": "execute_result"
    },
    {
     "data": {
      "image/png": "[encoded data removed]",
      "text/plain": [
       "<Figure size 360x360 with 1 Axes>"
      ]
     },
     "metadata": {
      "needs_background": "light"
     },
     "output_type": "display_data"
    }
   ],
   "source": [
    "sns.displot(df['LoanAmount'])"
   ]
  },
  {
   "cell_type": "code",
   "execution_count": 1596,
   "id": "1289079e",
   "metadata": {},
   "outputs": [
    {
     "data": {
      "text/plain": [
       "(142.51153039832286, 126.0)"
      ]
     },
     "execution_count": 1596,
     "metadata": {},
     "output_type": "execute_result"
    }
   ],
   "source": [
    "df['LoanAmount'].mean(), df['LoanAmount'].median()"
   ]
  },
  {
   "cell_type": "code",
   "execution_count": 1597,
   "id": "727d22b0",
   "metadata": {},
   "outputs": [
    {
     "data": {
      "text/plain": [
       "126.0"
      ]
     },
     "execution_count": 1597,
     "metadata": {},
     "output_type": "execute_result"
    }
   ],
   "source": [
    "df['LoanAmount'].median()"
   ]
  },
  {
   "cell_type": "code",
   "execution_count": 1598,
   "id": "854e6268",
   "metadata": {},
   "outputs": [],
   "source": [
    "df['LoanAmount'] = df['LoanAmount'].fillna(df['LoanAmount'].median())"
   ]
  },
  {
   "cell_type": "code",
   "execution_count": 1599,
   "id": "bcd2f7b3",
   "metadata": {},
   "outputs": [
    {
     "name": "stderr",
     "output_type": "stream",
     "text": [
      "/home/kiran/anaconda3/lib/python3.9/site-packages/seaborn/distributions.py:2619: FutureWarning: `distplot` is a deprecated function and will be removed in a future version. Please adapt your code to use either `displot` (a figure-level function with similar flexibility) or `histplot` (an axes-level function for histograms).\n",
      "  warnings.warn(msg, FutureWarning)\n"
     ]
    },
    {
     "data": {
      "text/plain": [
       "<AxesSubplot:xlabel='LoanAmount_log', ylabel='Density'>"
      ]
     },
     "execution_count": 1599,
     "metadata": {},
     "output_type": "execute_result"
    },
    {
     "data": {
      "image/png": "[encoded data removed]",
      "text/plain": [
       "<Figure size 432x288 with 1 Axes>"
      ]
     },
     "metadata": {
      "needs_background": "light"
     },
     "output_type": "display_data"
    }
   ],
   "source": [
    "df['LoanAmount_log'] = np.log(df['LoanAmount'])\n",
    "sns.distplot(df['LoanAmount_log'])"
   ]
  },
  {
   "cell_type": "code",
   "execution_count": 1600,
   "id": "a7c714f5",
   "metadata": {},
   "outputs": [
    {
     "data": {
      "text/plain": [
       "<AxesSubplot:>"
      ]
     },
     "execution_count": 1600,
     "metadata": {},
     "output_type": "execute_result"
    },
    {
     "data": {
      "image/png": "[encoded data removed]",
      "text/plain": [
       "<Figure size 432x288 with 1 Axes>"
      ]
     },
     "metadata": {
      "needs_background": "light"
     },
     "output_type": "display_data"
    }
   ],
   "source": [
    "df['ApplicantIncome'].plot(kind='box')"
   ]
  },
  {
   "cell_type": "code",
   "execution_count": 1601,
   "id": "b1ab2f56",
   "metadata": {},
   "outputs": [
    {
     "data": {
      "text/plain": [
       "<AxesSubplot:title={'center':'ApplicantIncome'}, xlabel='Education'>"
      ]
     },
     "execution_count": 1601,
     "metadata": {},
     "output_type": "execute_result"
    },
    {
     "data": {
      "image/png": "[encoded data removed]",
      "text/plain": [
       "<Figure size 432x288 with 1 Axes>"
      ]
     },
     "metadata": {
      "needs_background": "light"
     },
     "output_type": "display_data"
    }
   ],
   "source": [
    "df.boxplot(column='ApplicantIncome', by='Education')"
   ]
  },
  {
   "cell_type": "code",
   "execution_count": 1602,
   "id": "5324b368",
   "metadata": {},
   "outputs": [
    {
     "data": {
      "text/plain": [
       "<seaborn.axisgrid.FacetGrid at 0x7f50c9813d30>"
      ]
     },
     "execution_count": 1602,
     "metadata": {},
     "output_type": "execute_result"
    },
    {
     "data": {
      "image/png": "[encoded data removed]",
      "text/plain": [
       "<Figure size 360x360 with 1 Axes>"
      ]
     },
     "metadata": {
      "needs_background": "light"
     },
     "output_type": "display_data"
    }
   ],
   "source": [
    "sns.displot(df['ApplicantIncome'])"
   ]
  },
  {
   "cell_type": "code",
   "execution_count": 1603,
   "id": "cd6abfad",
   "metadata": {},
   "outputs": [
    {
     "data": {
      "text/plain": [
       "<AxesSubplot:>"
      ]
     },
     "execution_count": 1603,
     "metadata": {},
     "output_type": "execute_result"
    },
    {
     "data": {
      "image/png": "[encoded data removed]",
      "text/plain": [
       "<Figure size 432x288 with 1 Axes>"
      ]
     },
     "metadata": {
      "needs_background": "light"
     },
     "output_type": "display_data"
    }
   ],
   "source": [
    "df['CoapplicantIncome'].plot(kind='box')"
   ]
  },
  {
   "cell_type": "code",
   "execution_count": 1604,
   "id": "1b44b1fa",
   "metadata": {},
   "outputs": [
    {
     "name": "stderr",
     "output_type": "stream",
     "text": [
      "/home/kiran/anaconda3/lib/python3.9/site-packages/seaborn/distributions.py:2619: FutureWarning: `distplot` is a deprecated function and will be removed in a future version. Please adapt your code to use either `displot` (a figure-level function with similar flexibility) or `histplot` (an axes-level function for histograms).\n",
      "  warnings.warn(msg, FutureWarning)\n"
     ]
    },
    {
     "data": {
      "text/plain": [
       "<AxesSubplot:xlabel='CoapplicantIncome', ylabel='Density'>"
      ]
     },
     "execution_count": 1604,
     "metadata": {},
     "output_type": "execute_result"
    },
    {
     "data": {
      "image/png": "[encoded data removed]",
      "text/plain": [
       "<Figure size 432x288 with 1 Axes>"
      ]
     },
     "metadata": {
      "needs_background": "light"
     },
     "output_type": "display_data"
    }
   ],
   "source": [
    "sns.distplot(df['CoapplicantIncome'])"
   ]
  },
  {
   "cell_type": "code",
   "execution_count": 1605,
   "id": "5da429d4",
   "metadata": {},
   "outputs": [
    {
     "data": {
      "text/plain": [
       "<AxesSubplot:ylabel='Frequency'>"
      ]
     },
     "execution_count": 1605,
     "metadata": {},
     "output_type": "execute_result"
    },
    {
     "data": {
      "image/png": "[encoded data removed]",
      "text/plain": [
       "<Figure size 432x288 with 1 Axes>"
      ]
     },
     "metadata": {
      "needs_background": "light"
     },
     "output_type": "display_data"
    }
   ],
   "source": [
    "df['Loan_Amount_Term'].plot(kind='hist')"
   ]
  },
  {
   "cell_type": "code",
   "execution_count": 1606,
   "id": "799113a5",
   "metadata": {},
   "outputs": [
    {
     "data": {
      "text/plain": [
       "<seaborn.axisgrid.FacetGrid at 0x7f50c976a250>"
      ]
     },
     "execution_count": 1606,
     "metadata": {},
     "output_type": "execute_result"
    },
    {
     "data": {
      "image/png": "[encoded data removed]",
      "text/plain": [
       "<Figure size 360x360 with 1 Axes>"
      ]
     },
     "metadata": {
      "needs_background": "light"
     },
     "output_type": "display_data"
    }
   ],
   "source": [
    "sns.displot(df['Loan_Amount_Term'])"
   ]
  },
  {
   "cell_type": "code",
   "execution_count": 1607,
   "id": "c1d1e1dd",
   "metadata": {},
   "outputs": [
    {
     "data": {
      "text/plain": [
       "(342.2018730489074, 360.0, 360.0)"
      ]
     },
     "execution_count": 1607,
     "metadata": {},
     "output_type": "execute_result"
    }
   ],
   "source": [
    "df['Loan_Amount_Term'].mean(), df['Loan_Amount_Term'].median(), df['Loan_Amount_Term'].mode()[0]"
   ]
  },
  {
   "cell_type": "code",
   "execution_count": 1608,
   "id": "6dbfeb42",
   "metadata": {},
   "outputs": [],
   "source": [
    "df['Loan_Amount_Term'] = df['Loan_Amount_Term'].fillna(df['Loan_Amount_Term'].mode()[0])"
   ]
  },
  {
   "cell_type": "code",
   "execution_count": 1609,
   "id": "d6ed6da1",
   "metadata": {},
   "outputs": [
    {
     "data": {
      "text/plain": [
       "360.0    843\n",
       "180.0     66\n",
       "480.0     23\n",
       "300.0     20\n",
       "240.0      8\n",
       "84.0       7\n",
       "120.0      4\n",
       "60.0       3\n",
       "36.0       3\n",
       "12.0       2\n",
       "350.0      1\n",
       "6.0        1\n",
       "Name: Loan_Amount_Term, dtype: int64"
      ]
     },
     "execution_count": 1609,
     "metadata": {},
     "output_type": "execute_result"
    }
   ],
   "source": [
    "df['Loan_Amount_Term'].value_counts()"
   ]
  },
  {
   "cell_type": "markdown",
   "id": "d2741980",
   "metadata": {},
   "source": [
    "### Let's do bivariate analysis to check on our Hypothesis.\n",
    "1. Applicants with more incomes should have more chances of loan approval\n",
    "2. Applicants with good credit history will have more chances of loan approval.\n",
    "3. Loan approval also depends on loan amount. If loan amount is less then approval chances are high.\n",
    "4. Loan_amount_Term is high then EMI amount will be less, hence high chances of repayment such that more chances of loan approval."
   ]
  },
  {
   "cell_type": "markdown",
   "id": "e7d30fbe",
   "metadata": {},
   "source": [
    "### Categorical independent variable vs Target Variable (  Gender, Married, Self_Employed, Education, Credit_history, Dependents, Education, Property_Area)\n",
    "1. Male and Female both have same chance of loan approval ration\n",
    "2. Unmarried people has little higher chances of getting the loan approved\n",
    "3. Employment type don't have any impact\n",
    "4. Good credit history is very much important\n",
    "5. Graduates have little more chances of getting the loan approval.\n",
    "6. sub urban properties have more chances of loan approval when compare to others.\n",
    "7. dependents don't have much importance in loan approval"
   ]
  },
  {
   "cell_type": "code",
   "execution_count": 1610,
   "id": "c74e574e",
   "metadata": {},
   "outputs": [
    {
     "data": {
      "text/plain": [
       "<AxesSubplot:xlabel='Gender'>"
      ]
     },
     "execution_count": 1610,
     "metadata": {},
     "output_type": "execute_result"
    },
    {
     "data": {
      "image/png": "[encoded data removed]",
      "text/plain": [
       "<Figure size 432x288 with 1 Axes>"
      ]
     },
     "metadata": {
      "needs_background": "light"
     },
     "output_type": "display_data"
    }
   ],
   "source": [
    "gender = pd.crosstab(df['Gender'],df['Loan_Status'])\n",
    "gender.div(gender.sum(1).astype('float'),axis=0).plot(kind='bar', stacked=True)"
   ]
  },
  {
   "cell_type": "code",
   "execution_count": 1611,
   "id": "0e26ecf8",
   "metadata": {},
   "outputs": [
    {
     "data": {
      "text/plain": [
       "<AxesSubplot:xlabel='Married'>"
      ]
     },
     "execution_count": 1611,
     "metadata": {},
     "output_type": "execute_result"
    },
    {
     "data": {
      "image/png": "[encoded data removed]",
      "text/plain": [
       "<Figure size 432x288 with 1 Axes>"
      ]
     },
     "metadata": {
      "needs_background": "light"
     },
     "output_type": "display_data"
    }
   ],
   "source": [
    "Married = pd.crosstab(df['Married'],df['Loan_Status'])\n",
    "Married.div(Married.sum(1).astype('float'),axis=0).plot(kind='bar', stacked=True)"
   ]
  },
  {
   "cell_type": "code",
   "execution_count": 1612,
   "id": "f91e8ac8",
   "metadata": {},
   "outputs": [
    {
     "data": {
      "text/plain": [
       "<AxesSubplot:xlabel='Self_Employed'>"
      ]
     },
     "execution_count": 1612,
     "metadata": {},
     "output_type": "execute_result"
    },
    {
     "data": {
      "image/png": "[encoded data removed]",
      "text/plain": [
       "<Figure size 432x288 with 1 Axes>"
      ]
     },
     "metadata": {
      "needs_background": "light"
     },
     "output_type": "display_data"
    }
   ],
   "source": [
    "Self_Employed = pd.crosstab(df['Self_Employed'],df['Loan_Status'])\n",
    "Self_Employed.div(Self_Employed.sum(1).astype('float'),axis=0).plot(kind='bar', stacked=True)"
   ]
  },
  {
   "cell_type": "code",
   "execution_count": 1613,
   "id": "6f786bbb",
   "metadata": {},
   "outputs": [
    {
     "data": {
      "text/plain": [
       "<AxesSubplot:xlabel='Credit_History'>"
      ]
     },
     "execution_count": 1613,
     "metadata": {},
     "output_type": "execute_result"
    },
    {
     "data": {
      "image/png": "[encoded data removed]",
      "text/plain": [
       "<Figure size 432x288 with 1 Axes>"
      ]
     },
     "metadata": {
      "needs_background": "light"
     },
     "output_type": "display_data"
    }
   ],
   "source": [
    "Credit_History = pd.crosstab(df['Credit_History'],df['Loan_Status'])\n",
    "Credit_History.div(Credit_History.sum(1).astype('float'),axis=0).plot(kind='bar', stacked=True)"
   ]
  },
  {
   "cell_type": "code",
   "execution_count": 1614,
   "id": "fb162f0d",
   "metadata": {},
   "outputs": [
    {
     "data": {
      "text/plain": [
       "<AxesSubplot:xlabel='Education'>"
      ]
     },
     "execution_count": 1614,
     "metadata": {},
     "output_type": "execute_result"
    },
    {
     "data": {
      "image/png": "[encoded data removed]",
      "text/plain": [
       "<Figure size 432x288 with 1 Axes>"
      ]
     },
     "metadata": {
      "needs_background": "light"
     },
     "output_type": "display_data"
    }
   ],
   "source": [
    "Education = pd.crosstab(df['Education'],df['Loan_Status'])\n",
    "Education.div(Education.sum(1).astype('float'),axis=0).plot(kind='bar', stacked=True)"
   ]
  },
  {
   "cell_type": "code",
   "execution_count": 1615,
   "id": "5b9ee50f",
   "metadata": {},
   "outputs": [
    {
     "data": {
      "text/plain": [
       "<AxesSubplot:xlabel='Dependents'>"
      ]
     },
     "execution_count": 1615,
     "metadata": {},
     "output_type": "execute_result"
    },
    {
     "data": {
      "image/png": "[encoded data removed]",
      "text/plain": [
       "<Figure size 432x288 with 1 Axes>"
      ]
     },
     "metadata": {
      "needs_background": "light"
     },
     "output_type": "display_data"
    }
   ],
   "source": [
    "Dependents = pd.crosstab(df['Dependents'],df['Loan_Status'])\n",
    "Dependents.div(Dependents.sum(1).astype('float'),axis=0).plot(kind='bar', stacked=True)"
   ]
  },
  {
   "cell_type": "code",
   "execution_count": 1616,
   "id": "3079ec20",
   "metadata": {},
   "outputs": [
    {
     "data": {
      "text/plain": [
       "<AxesSubplot:xlabel='Property_Area'>"
      ]
     },
     "execution_count": 1616,
     "metadata": {},
     "output_type": "execute_result"
    },
    {
     "data": {
      "image/png": "[encoded data removed]",
      "text/plain": [
       "<Figure size 432x288 with 1 Axes>"
      ]
     },
     "metadata": {
      "needs_background": "light"
     },
     "output_type": "display_data"
    }
   ],
   "source": [
    "Property_Area = pd.crosstab(df['Property_Area'],df['Loan_Status'])\n",
    "Property_Area.div(Property_Area.sum(1).astype('float'),axis=0).plot(kind='bar', stacked=True)"
   ]
  },
  {
   "cell_type": "markdown",
   "id": "0b91175a",
   "metadata": {},
   "source": [
    "### Numerical dependent variable vs Target variable\n",
    "1. Applicants income doesn't have any impact on loan getting success.\n",
    "2. if co applicant income is low, high chances of loan getting approved. \n",
    "3. Total income : if income is medium range, high chances of getting loadn approval\n",
    "4. Low and Medium loan amounts have higher chances of getting loadn approved"
   ]
  },
  {
   "cell_type": "code",
   "execution_count": 1617,
   "id": "2ddf0122",
   "metadata": {},
   "outputs": [
    {
     "data": {
      "text/plain": [
       "<AxesSubplot:xlabel='Loan_Status'>"
      ]
     },
     "execution_count": 1617,
     "metadata": {},
     "output_type": "execute_result"
    },
    {
     "data": {
      "image/png": "[encoded data removed]",
      "text/plain": [
       "<Figure size 432x288 with 1 Axes>"
      ]
     },
     "metadata": {
      "needs_background": "light"
     },
     "output_type": "display_data"
    }
   ],
   "source": [
    "df.groupby('Loan_Status')['ApplicantIncome'].mean().plot.bar()"
   ]
  },
  {
   "cell_type": "code",
   "execution_count": 1618,
   "id": "0481b229",
   "metadata": {},
   "outputs": [
    {
     "data": {
      "text/plain": [
       "81000"
      ]
     },
     "execution_count": 1618,
     "metadata": {},
     "output_type": "execute_result"
    }
   ],
   "source": [
    "df['ApplicantIncome'].max()"
   ]
  },
  {
   "cell_type": "code",
   "execution_count": 1619,
   "id": "8660f05d",
   "metadata": {},
   "outputs": [],
   "source": [
    "bins = [0,2500,4000,6000,81000]\n",
    "group = ['Low','Medium','High','Very High']\n",
    "df['income_slabs'] = pd.cut(df['ApplicantIncome'],bins,labels=group)"
   ]
  },
  {
   "cell_type": "code",
   "execution_count": 1620,
   "id": "80bac013",
   "metadata": {},
   "outputs": [
    {
     "data": {
      "text/plain": [
       "<AxesSubplot:xlabel='income_slabs'>"
      ]
     },
     "execution_count": 1620,
     "metadata": {},
     "output_type": "execute_result"
    },
    {
     "data": {
      "image/png": "[encoded data removed]",
      "text/plain": [
       "<Figure size 432x288 with 1 Axes>"
      ]
     },
     "metadata": {
      "needs_background": "light"
     },
     "output_type": "display_data"
    }
   ],
   "source": [
    "income_slabs = pd.crosstab(df['income_slabs'],df['Loan_Status'])\n",
    "income_slabs.div(income_slabs.sum(1).astype('float'),axis=0).plot(kind='bar', stacked=True)"
   ]
  },
  {
   "cell_type": "code",
   "execution_count": 1621,
   "id": "21bd4c87",
   "metadata": {},
   "outputs": [],
   "source": [
    "bins = [0,2500,4000,6000,81000]\n",
    "group = ['Low','Medium','High','Very High']\n",
    "df['Capplicant_income_slabs'] = pd.cut(df['CoapplicantIncome'],bins,labels=group)"
   ]
  },
  {
   "cell_type": "code",
   "execution_count": 1622,
   "id": "86df524c",
   "metadata": {},
   "outputs": [
    {
     "data": {
      "text/plain": [
       "<AxesSubplot:xlabel='Capplicant_income_slabs'>"
      ]
     },
     "execution_count": 1622,
     "metadata": {},
     "output_type": "execute_result"
    },
    {
     "data": {
      "image/png": "[encoded data removed]",
      "text/plain": [
       "<Figure size 432x288 with 1 Axes>"
      ]
     },
     "metadata": {
      "needs_background": "light"
     },
     "output_type": "display_data"
    }
   ],
   "source": [
    "Capplicant_income_slabs = pd.crosstab(df['Capplicant_income_slabs'],df['Loan_Status'])\n",
    "Capplicant_income_slabs.div(Capplicant_income_slabs.sum(1).astype('float'),axis=0).plot(kind='bar', stacked=True)"
   ]
  },
  {
   "cell_type": "code",
   "execution_count": 1623,
   "id": "8d8f7a25",
   "metadata": {},
   "outputs": [],
   "source": [
    "df['Total_income'] = df['ApplicantIncome'] + df['CoapplicantIncome']\n",
    "bins = [0,2500,4000,6000,81000]\n",
    "group = ['Low','Medium','High','Very High']\n",
    "df['Total_income_slabs'] = pd.cut(df['Total_income'],bins,labels=group)"
   ]
  },
  {
   "cell_type": "code",
   "execution_count": 1624,
   "id": "9807bac0",
   "metadata": {},
   "outputs": [
    {
     "data": {
      "text/plain": [
       "<AxesSubplot:xlabel='Total_income_slabs'>"
      ]
     },
     "execution_count": 1624,
     "metadata": {},
     "output_type": "execute_result"
    },
    {
     "data": {
      "image/png": "[encoded data removed]",
      "text/plain": [
       "<Figure size 432x288 with 1 Axes>"
      ]
     },
     "metadata": {
      "needs_background": "light"
     },
     "output_type": "display_data"
    }
   ],
   "source": [
    "Total_income_slabs = pd.crosstab(df['Total_income_slabs'],df['Loan_Status'])\n",
    "Total_income_slabs.div(Total_income_slabs.sum(1).astype('float'),axis=0).plot(kind='bar', stacked=True)"
   ]
  },
  {
   "cell_type": "code",
   "execution_count": 1625,
   "id": "c954e2d4",
   "metadata": {},
   "outputs": [
    {
     "data": {
      "text/plain": [
       "count    981.000000\n",
       "mean     142.057085\n",
       "std       76.395592\n",
       "min        9.000000\n",
       "25%      101.000000\n",
       "50%      126.000000\n",
       "75%      160.000000\n",
       "max      700.000000\n",
       "Name: LoanAmount, dtype: float64"
      ]
     },
     "execution_count": 1625,
     "metadata": {},
     "output_type": "execute_result"
    }
   ],
   "source": [
    "df['LoanAmount'].describe()"
   ]
  },
  {
   "cell_type": "code",
   "execution_count": 1626,
   "id": "dcfeba45",
   "metadata": {},
   "outputs": [],
   "source": [
    "bins = [0,100,200,700]\n",
    "group = ['Low','Medium','High']\n",
    "df['LoanAmount_slabs'] = pd.cut(df['LoanAmount'],bins,labels=group)"
   ]
  },
  {
   "cell_type": "code",
   "execution_count": 1627,
   "id": "f15a2399",
   "metadata": {},
   "outputs": [
    {
     "data": {
      "text/plain": [
       "<AxesSubplot:xlabel='LoanAmount_slabs'>"
      ]
     },
     "execution_count": 1627,
     "metadata": {},
     "output_type": "execute_result"
    },
    {
     "data": {
      "image/png": "[encoded data removed]",
      "text/plain": [
       "<Figure size 432x288 with 1 Axes>"
      ]
     },
     "metadata": {
      "needs_background": "light"
     },
     "output_type": "display_data"
    }
   ],
   "source": [
    "LoanAmount = pd.crosstab(df['LoanAmount_slabs'],df['Loan_Status'])\n",
    "LoanAmount.div(LoanAmount.sum(1).astype('float'),axis=0).plot(kind='bar', stacked=True)"
   ]
  },
  {
   "cell_type": "code",
   "execution_count": 1628,
   "id": "bcb206f2",
   "metadata": {},
   "outputs": [
    {
     "data": {
      "text/plain": [
       "Index(['Loan_ID', 'Gender', 'Married', 'Dependents', 'Education',\n",
       "       'Self_Employed', 'ApplicantIncome', 'CoapplicantIncome', 'LoanAmount',\n",
       "       'Loan_Amount_Term', 'Credit_History', 'Property_Area', 'Loan_Status',\n",
       "       'source', 'LoanAmount_log', 'income_slabs', 'Capplicant_income_slabs',\n",
       "       'Total_income', 'Total_income_slabs', 'LoanAmount_slabs'],\n",
       "      dtype='object')"
      ]
     },
     "execution_count": 1628,
     "metadata": {},
     "output_type": "execute_result"
    }
   ],
   "source": [
    "df.columns"
   ]
  },
  {
   "cell_type": "code",
   "execution_count": 1629,
   "id": "8003740e",
   "metadata": {},
   "outputs": [],
   "source": [
    "df.drop(columns=['income_slabs', 'Capplicant_income_slabs', 'Total_income',\n",
    "       'Total_income_slabs', 'LoanAmount_slabs','LoanAmount'],inplace=True)"
   ]
  },
  {
   "cell_type": "code",
   "execution_count": 1630,
   "id": "5d437506",
   "metadata": {},
   "outputs": [
    {
     "data": {
      "text/plain": [
       "<AxesSubplot:>"
      ]
     },
     "execution_count": 1630,
     "metadata": {},
     "output_type": "execute_result"
    },
    {
     "data": {
      "image/png": "[encoded data removed]",
      "text/plain": [
       "<Figure size 1440x720 with 2 Axes>"
      ]
     },
     "metadata": {
      "needs_background": "light"
     },
     "output_type": "display_data"
    }
   ],
   "source": [
    "plot.figure(figsize=(20,10))\n",
    "sns.heatmap(df.corr())"
   ]
  },
  {
   "cell_type": "code",
   "execution_count": 1631,
   "id": "93cd5705",
   "metadata": {},
   "outputs": [
    {
     "data": {
      "text/plain": [
       "Index(['Loan_ID', 'Gender', 'Married', 'Dependents', 'Education',\n",
       "       'Self_Employed', 'ApplicantIncome', 'CoapplicantIncome',\n",
       "       'Loan_Amount_Term', 'Credit_History', 'Property_Area', 'Loan_Status',\n",
       "       'source', 'LoanAmount_log'],\n",
       "      dtype='object')"
      ]
     },
     "execution_count": 1631,
     "metadata": {},
     "output_type": "execute_result"
    }
   ],
   "source": [
    "df.columns"
   ]
  },
  {
   "cell_type": "code",
   "execution_count": 1632,
   "id": "3d5db69f",
   "metadata": {},
   "outputs": [
    {
     "data": {
      "text/html": [
       "<div>\n",
       "<style scoped>\n",
       "    .dataframe tbody tr th:only-of-type {\n",
       "        vertical-align: middle;\n",
       "    }\n",
       "\n",
       "    .dataframe tbody tr th {\n",
       "        vertical-align: top;\n",
       "    }\n",
       "\n",
       "    .dataframe thead th {\n",
       "        text-align: right;\n",
       "    }\n",
       "</style>\n",
       "<table border=\"1\" class=\"dataframe\">\n",
       "  <thead>\n",
       "    <tr style=\"text-align: right;\">\n",
       "      <th></th>\n",
       "      <th>Loan_ID</th>\n",
       "      <th>Property_Area</th>\n",
       "      <th>source</th>\n",
       "    </tr>\n",
       "  </thead>\n",
       "  <tbody>\n",
       "    <tr>\n",
       "      <th>0</th>\n",
       "      <td>LP001002</td>\n",
       "      <td>Urban</td>\n",
       "      <td>train</td>\n",
       "    </tr>\n",
       "    <tr>\n",
       "      <th>1</th>\n",
       "      <td>LP001003</td>\n",
       "      <td>Rural</td>\n",
       "      <td>train</td>\n",
       "    </tr>\n",
       "    <tr>\n",
       "      <th>2</th>\n",
       "      <td>LP001005</td>\n",
       "      <td>Urban</td>\n",
       "      <td>train</td>\n",
       "    </tr>\n",
       "    <tr>\n",
       "      <th>3</th>\n",
       "      <td>LP001006</td>\n",
       "      <td>Urban</td>\n",
       "      <td>train</td>\n",
       "    </tr>\n",
       "    <tr>\n",
       "      <th>4</th>\n",
       "      <td>LP001008</td>\n",
       "      <td>Urban</td>\n",
       "      <td>train</td>\n",
       "    </tr>\n",
       "    <tr>\n",
       "      <th>...</th>\n",
       "      <td>...</td>\n",
       "      <td>...</td>\n",
       "      <td>...</td>\n",
       "    </tr>\n",
       "    <tr>\n",
       "      <th>976</th>\n",
       "      <td>LP002971</td>\n",
       "      <td>Urban</td>\n",
       "      <td>test</td>\n",
       "    </tr>\n",
       "    <tr>\n",
       "      <th>977</th>\n",
       "      <td>LP002975</td>\n",
       "      <td>Urban</td>\n",
       "      <td>test</td>\n",
       "    </tr>\n",
       "    <tr>\n",
       "      <th>978</th>\n",
       "      <td>LP002980</td>\n",
       "      <td>Semiurban</td>\n",
       "      <td>test</td>\n",
       "    </tr>\n",
       "    <tr>\n",
       "      <th>979</th>\n",
       "      <td>LP002986</td>\n",
       "      <td>Rural</td>\n",
       "      <td>test</td>\n",
       "    </tr>\n",
       "    <tr>\n",
       "      <th>980</th>\n",
       "      <td>LP002989</td>\n",
       "      <td>Rural</td>\n",
       "      <td>test</td>\n",
       "    </tr>\n",
       "  </tbody>\n",
       "</table>\n",
       "<p>981 rows × 3 columns</p>\n",
       "</div>"
      ],
      "text/plain": [
       "      Loan_ID Property_Area source\n",
       "0    LP001002         Urban  train\n",
       "1    LP001003         Rural  train\n",
       "2    LP001005         Urban  train\n",
       "3    LP001006         Urban  train\n",
       "4    LP001008         Urban  train\n",
       "..        ...           ...    ...\n",
       "976  LP002971         Urban   test\n",
       "977  LP002975         Urban   test\n",
       "978  LP002980     Semiurban   test\n",
       "979  LP002986         Rural   test\n",
       "980  LP002989         Rural   test\n",
       "\n",
       "[981 rows x 3 columns]"
      ]
     },
     "execution_count": 1632,
     "metadata": {},
     "output_type": "execute_result"
    }
   ],
   "source": [
    "df_cat = df.select_dtypes(include='object')\n",
    "df_cat"
   ]
  },
  {
   "cell_type": "code",
   "execution_count": 1633,
   "id": "3cda8c78",
   "metadata": {},
   "outputs": [
    {
     "name": "stdout",
     "output_type": "stream",
     "text": [
      "<class 'pandas.core.frame.DataFrame'>\n",
      "RangeIndex: 981 entries, 0 to 980\n",
      "Data columns (total 14 columns):\n",
      " #   Column             Non-Null Count  Dtype  \n",
      "---  ------             --------------  -----  \n",
      " 0   Loan_ID            981 non-null    object \n",
      " 1   Gender             981 non-null    int64  \n",
      " 2   Married            981 non-null    int64  \n",
      " 3   Dependents         981 non-null    int64  \n",
      " 4   Education          981 non-null    int64  \n",
      " 5   Self_Employed      981 non-null    int64  \n",
      " 6   ApplicantIncome    981 non-null    int64  \n",
      " 7   CoapplicantIncome  981 non-null    float64\n",
      " 8   Loan_Amount_Term   981 non-null    float64\n",
      " 9   Credit_History     981 non-null    float64\n",
      " 10  Property_Area      981 non-null    object \n",
      " 11  Loan_Status        614 non-null    float64\n",
      " 12  source             981 non-null    object \n",
      " 13  LoanAmount_log     981 non-null    float64\n",
      "dtypes: float64(5), int64(6), object(3)\n",
      "memory usage: 107.4+ KB\n"
     ]
    }
   ],
   "source": [
    "df.info()"
   ]
  },
  {
   "cell_type": "code",
   "execution_count": 1634,
   "id": "62f62f03",
   "metadata": {},
   "outputs": [],
   "source": [
    "df_categorical = df[['Property_Area']]\n",
    "df_cat_conv = pd.get_dummies(df_categorical)"
   ]
  },
  {
   "cell_type": "code",
   "execution_count": 1635,
   "id": "e6cbee7b",
   "metadata": {},
   "outputs": [
    {
     "data": {
      "text/html": [
       "<div>\n",
       "<style scoped>\n",
       "    .dataframe tbody tr th:only-of-type {\n",
       "        vertical-align: middle;\n",
       "    }\n",
       "\n",
       "    .dataframe tbody tr th {\n",
       "        vertical-align: top;\n",
       "    }\n",
       "\n",
       "    .dataframe thead th {\n",
       "        text-align: right;\n",
       "    }\n",
       "</style>\n",
       "<table border=\"1\" class=\"dataframe\">\n",
       "  <thead>\n",
       "    <tr style=\"text-align: right;\">\n",
       "      <th></th>\n",
       "      <th>0</th>\n",
       "      <th>1</th>\n",
       "      <th>2</th>\n",
       "      <th>3</th>\n",
       "      <th>4</th>\n",
       "    </tr>\n",
       "  </thead>\n",
       "  <tbody>\n",
       "    <tr>\n",
       "      <th>Property_Area_Rural</th>\n",
       "      <td>0</td>\n",
       "      <td>1</td>\n",
       "      <td>0</td>\n",
       "      <td>0</td>\n",
       "      <td>0</td>\n",
       "    </tr>\n",
       "    <tr>\n",
       "      <th>Property_Area_Semiurban</th>\n",
       "      <td>0</td>\n",
       "      <td>0</td>\n",
       "      <td>0</td>\n",
       "      <td>0</td>\n",
       "      <td>0</td>\n",
       "    </tr>\n",
       "    <tr>\n",
       "      <th>Property_Area_Urban</th>\n",
       "      <td>1</td>\n",
       "      <td>0</td>\n",
       "      <td>1</td>\n",
       "      <td>1</td>\n",
       "      <td>1</td>\n",
       "    </tr>\n",
       "  </tbody>\n",
       "</table>\n",
       "</div>"
      ],
      "text/plain": [
       "                         0  1  2  3  4\n",
       "Property_Area_Rural      0  1  0  0  0\n",
       "Property_Area_Semiurban  0  0  0  0  0\n",
       "Property_Area_Urban      1  0  1  1  1"
      ]
     },
     "execution_count": 1635,
     "metadata": {},
     "output_type": "execute_result"
    }
   ],
   "source": [
    "df_cat_conv.head().T"
   ]
  },
  {
   "cell_type": "code",
   "execution_count": 1636,
   "id": "3adf68eb",
   "metadata": {},
   "outputs": [
    {
     "data": {
      "text/plain": [
       "Index(['Property_Area_Rural', 'Property_Area_Semiurban',\n",
       "       'Property_Area_Urban'],\n",
       "      dtype='object')"
      ]
     },
     "execution_count": 1636,
     "metadata": {},
     "output_type": "execute_result"
    }
   ],
   "source": [
    "df_cat_conv.columns"
   ]
  },
  {
   "cell_type": "code",
   "execution_count": 1637,
   "id": "095f52ae",
   "metadata": {},
   "outputs": [],
   "source": [
    "df = pd.concat([df, df_cat_conv],axis=1)"
   ]
  },
  {
   "cell_type": "code",
   "execution_count": 1638,
   "id": "c174312e",
   "metadata": {},
   "outputs": [],
   "source": [
    "cat_col = ['Property_Area']"
   ]
  },
  {
   "cell_type": "code",
   "execution_count": 1639,
   "id": "67415242",
   "metadata": {},
   "outputs": [],
   "source": [
    "df.drop(columns=cat_col, inplace=True)"
   ]
  },
  {
   "cell_type": "code",
   "execution_count": 1640,
   "id": "5c6ced4e",
   "metadata": {},
   "outputs": [
    {
     "data": {
      "text/html": [
       "<div>\n",
       "<style scoped>\n",
       "    .dataframe tbody tr th:only-of-type {\n",
       "        vertical-align: middle;\n",
       "    }\n",
       "\n",
       "    .dataframe tbody tr th {\n",
       "        vertical-align: top;\n",
       "    }\n",
       "\n",
       "    .dataframe thead th {\n",
       "        text-align: right;\n",
       "    }\n",
       "</style>\n",
       "<table border=\"1\" class=\"dataframe\">\n",
       "  <thead>\n",
       "    <tr style=\"text-align: right;\">\n",
       "      <th></th>\n",
       "      <th>Loan_ID</th>\n",
       "      <th>Gender</th>\n",
       "      <th>Married</th>\n",
       "      <th>Dependents</th>\n",
       "      <th>Education</th>\n",
       "      <th>Self_Employed</th>\n",
       "      <th>ApplicantIncome</th>\n",
       "      <th>CoapplicantIncome</th>\n",
       "      <th>Loan_Amount_Term</th>\n",
       "      <th>Credit_History</th>\n",
       "      <th>Loan_Status</th>\n",
       "      <th>source</th>\n",
       "      <th>LoanAmount_log</th>\n",
       "      <th>Property_Area_Rural</th>\n",
       "      <th>Property_Area_Semiurban</th>\n",
       "      <th>Property_Area_Urban</th>\n",
       "    </tr>\n",
       "  </thead>\n",
       "  <tbody>\n",
       "    <tr>\n",
       "      <th>0</th>\n",
       "      <td>LP001002</td>\n",
       "      <td>1</td>\n",
       "      <td>0</td>\n",
       "      <td>0</td>\n",
       "      <td>1</td>\n",
       "      <td>0</td>\n",
       "      <td>5849</td>\n",
       "      <td>0.0</td>\n",
       "      <td>360.0</td>\n",
       "      <td>1.0</td>\n",
       "      <td>1.0</td>\n",
       "      <td>train</td>\n",
       "      <td>4.836282</td>\n",
       "      <td>0</td>\n",
       "      <td>0</td>\n",
       "      <td>1</td>\n",
       "    </tr>\n",
       "    <tr>\n",
       "      <th>1</th>\n",
       "      <td>LP001003</td>\n",
       "      <td>1</td>\n",
       "      <td>1</td>\n",
       "      <td>1</td>\n",
       "      <td>1</td>\n",
       "      <td>0</td>\n",
       "      <td>4583</td>\n",
       "      <td>1508.0</td>\n",
       "      <td>360.0</td>\n",
       "      <td>1.0</td>\n",
       "      <td>0.0</td>\n",
       "      <td>train</td>\n",
       "      <td>4.852030</td>\n",
       "      <td>1</td>\n",
       "      <td>0</td>\n",
       "      <td>0</td>\n",
       "    </tr>\n",
       "    <tr>\n",
       "      <th>2</th>\n",
       "      <td>LP001005</td>\n",
       "      <td>1</td>\n",
       "      <td>1</td>\n",
       "      <td>0</td>\n",
       "      <td>1</td>\n",
       "      <td>1</td>\n",
       "      <td>3000</td>\n",
       "      <td>0.0</td>\n",
       "      <td>360.0</td>\n",
       "      <td>1.0</td>\n",
       "      <td>1.0</td>\n",
       "      <td>train</td>\n",
       "      <td>4.189655</td>\n",
       "      <td>0</td>\n",
       "      <td>0</td>\n",
       "      <td>1</td>\n",
       "    </tr>\n",
       "    <tr>\n",
       "      <th>3</th>\n",
       "      <td>LP001006</td>\n",
       "      <td>1</td>\n",
       "      <td>1</td>\n",
       "      <td>0</td>\n",
       "      <td>0</td>\n",
       "      <td>0</td>\n",
       "      <td>2583</td>\n",
       "      <td>2358.0</td>\n",
       "      <td>360.0</td>\n",
       "      <td>1.0</td>\n",
       "      <td>1.0</td>\n",
       "      <td>train</td>\n",
       "      <td>4.787492</td>\n",
       "      <td>0</td>\n",
       "      <td>0</td>\n",
       "      <td>1</td>\n",
       "    </tr>\n",
       "    <tr>\n",
       "      <th>4</th>\n",
       "      <td>LP001008</td>\n",
       "      <td>1</td>\n",
       "      <td>0</td>\n",
       "      <td>0</td>\n",
       "      <td>1</td>\n",
       "      <td>0</td>\n",
       "      <td>6000</td>\n",
       "      <td>0.0</td>\n",
       "      <td>360.0</td>\n",
       "      <td>1.0</td>\n",
       "      <td>1.0</td>\n",
       "      <td>train</td>\n",
       "      <td>4.948760</td>\n",
       "      <td>0</td>\n",
       "      <td>0</td>\n",
       "      <td>1</td>\n",
       "    </tr>\n",
       "  </tbody>\n",
       "</table>\n",
       "</div>"
      ],
      "text/plain": [
       "    Loan_ID  Gender  Married  Dependents  Education  Self_Employed  \\\n",
       "0  LP001002       1        0           0          1              0   \n",
       "1  LP001003       1        1           1          1              0   \n",
       "2  LP001005       1        1           0          1              1   \n",
       "3  LP001006       1        1           0          0              0   \n",
       "4  LP001008       1        0           0          1              0   \n",
       "\n",
       "   ApplicantIncome  CoapplicantIncome  Loan_Amount_Term  Credit_History  \\\n",
       "0             5849                0.0             360.0             1.0   \n",
       "1             4583             1508.0             360.0             1.0   \n",
       "2             3000                0.0             360.0             1.0   \n",
       "3             2583             2358.0             360.0             1.0   \n",
       "4             6000                0.0             360.0             1.0   \n",
       "\n",
       "   Loan_Status source  LoanAmount_log  Property_Area_Rural  \\\n",
       "0          1.0  train        4.836282                    0   \n",
       "1          0.0  train        4.852030                    1   \n",
       "2          1.0  train        4.189655                    0   \n",
       "3          1.0  train        4.787492                    0   \n",
       "4          1.0  train        4.948760                    0   \n",
       "\n",
       "   Property_Area_Semiurban  Property_Area_Urban  \n",
       "0                        0                    1  \n",
       "1                        0                    0  \n",
       "2                        0                    1  \n",
       "3                        0                    1  \n",
       "4                        0                    1  "
      ]
     },
     "execution_count": 1640,
     "metadata": {},
     "output_type": "execute_result"
    }
   ],
   "source": [
    "df.head()"
   ]
  },
  {
   "cell_type": "code",
   "execution_count": 1641,
   "id": "c2eef3dc",
   "metadata": {},
   "outputs": [
    {
     "data": {
      "text/html": [
       "<div>\n",
       "<style scoped>\n",
       "    .dataframe tbody tr th:only-of-type {\n",
       "        vertical-align: middle;\n",
       "    }\n",
       "\n",
       "    .dataframe tbody tr th {\n",
       "        vertical-align: top;\n",
       "    }\n",
       "\n",
       "    .dataframe thead th {\n",
       "        text-align: right;\n",
       "    }\n",
       "</style>\n",
       "<table border=\"1\" class=\"dataframe\">\n",
       "  <thead>\n",
       "    <tr style=\"text-align: right;\">\n",
       "      <th></th>\n",
       "      <th>ApplicantIncome</th>\n",
       "      <th>CoapplicantIncome</th>\n",
       "      <th>LoanAmount_log</th>\n",
       "      <th>Loan_Amount_Term</th>\n",
       "    </tr>\n",
       "  </thead>\n",
       "  <tbody>\n",
       "    <tr>\n",
       "      <th>0</th>\n",
       "      <td>5849</td>\n",
       "      <td>0.0</td>\n",
       "      <td>4.836282</td>\n",
       "      <td>360.0</td>\n",
       "    </tr>\n",
       "    <tr>\n",
       "      <th>1</th>\n",
       "      <td>4583</td>\n",
       "      <td>1508.0</td>\n",
       "      <td>4.852030</td>\n",
       "      <td>360.0</td>\n",
       "    </tr>\n",
       "    <tr>\n",
       "      <th>2</th>\n",
       "      <td>3000</td>\n",
       "      <td>0.0</td>\n",
       "      <td>4.189655</td>\n",
       "      <td>360.0</td>\n",
       "    </tr>\n",
       "    <tr>\n",
       "      <th>3</th>\n",
       "      <td>2583</td>\n",
       "      <td>2358.0</td>\n",
       "      <td>4.787492</td>\n",
       "      <td>360.0</td>\n",
       "    </tr>\n",
       "    <tr>\n",
       "      <th>4</th>\n",
       "      <td>6000</td>\n",
       "      <td>0.0</td>\n",
       "      <td>4.948760</td>\n",
       "      <td>360.0</td>\n",
       "    </tr>\n",
       "    <tr>\n",
       "      <th>...</th>\n",
       "      <td>...</td>\n",
       "      <td>...</td>\n",
       "      <td>...</td>\n",
       "      <td>...</td>\n",
       "    </tr>\n",
       "    <tr>\n",
       "      <th>976</th>\n",
       "      <td>4009</td>\n",
       "      <td>1777.0</td>\n",
       "      <td>4.727388</td>\n",
       "      <td>360.0</td>\n",
       "    </tr>\n",
       "    <tr>\n",
       "      <th>977</th>\n",
       "      <td>4158</td>\n",
       "      <td>709.0</td>\n",
       "      <td>4.744932</td>\n",
       "      <td>360.0</td>\n",
       "    </tr>\n",
       "    <tr>\n",
       "      <th>978</th>\n",
       "      <td>3250</td>\n",
       "      <td>1993.0</td>\n",
       "      <td>4.836282</td>\n",
       "      <td>360.0</td>\n",
       "    </tr>\n",
       "    <tr>\n",
       "      <th>979</th>\n",
       "      <td>5000</td>\n",
       "      <td>2393.0</td>\n",
       "      <td>5.062595</td>\n",
       "      <td>360.0</td>\n",
       "    </tr>\n",
       "    <tr>\n",
       "      <th>980</th>\n",
       "      <td>9200</td>\n",
       "      <td>0.0</td>\n",
       "      <td>4.584967</td>\n",
       "      <td>180.0</td>\n",
       "    </tr>\n",
       "  </tbody>\n",
       "</table>\n",
       "<p>981 rows × 4 columns</p>\n",
       "</div>"
      ],
      "text/plain": [
       "     ApplicantIncome  CoapplicantIncome  LoanAmount_log  Loan_Amount_Term\n",
       "0               5849                0.0        4.836282             360.0\n",
       "1               4583             1508.0        4.852030             360.0\n",
       "2               3000                0.0        4.189655             360.0\n",
       "3               2583             2358.0        4.787492             360.0\n",
       "4               6000                0.0        4.948760             360.0\n",
       "..               ...                ...             ...               ...\n",
       "976             4009             1777.0        4.727388             360.0\n",
       "977             4158              709.0        4.744932             360.0\n",
       "978             3250             1993.0        4.836282             360.0\n",
       "979             5000             2393.0        5.062595             360.0\n",
       "980             9200                0.0        4.584967             180.0\n",
       "\n",
       "[981 rows x 4 columns]"
      ]
     },
     "execution_count": 1641,
     "metadata": {},
     "output_type": "execute_result"
    }
   ],
   "source": [
    "df[['ApplicantIncome','CoapplicantIncome','LoanAmount_log','Loan_Amount_Term']]"
   ]
  },
  {
   "cell_type": "code",
   "execution_count": 1642,
   "id": "7f91dbc6",
   "metadata": {},
   "outputs": [],
   "source": [
    "tobescaled_df = df[['ApplicantIncome','CoapplicantIncome','LoanAmount_log','Loan_Amount_Term']]\n",
    "sc = StandardScaler()\n",
    "#sc = MinMaxScaler()\n",
    "scaled_df = sc.fit_transform(tobescaled_df)"
   ]
  },
  {
   "cell_type": "code",
   "execution_count": 1643,
   "id": "f89f5ee9",
   "metadata": {},
   "outputs": [],
   "source": [
    "\n",
    "df[['ApplicantIncome','CoapplicantIncome','LoanAmount_log','Loan_Amount_Term']] = scaled_df"
   ]
  },
  {
   "cell_type": "code",
   "execution_count": 1644,
   "id": "6421bc57",
   "metadata": {},
   "outputs": [
    {
     "data": {
      "text/html": [
       "<div>\n",
       "<style scoped>\n",
       "    .dataframe tbody tr th:only-of-type {\n",
       "        vertical-align: middle;\n",
       "    }\n",
       "\n",
       "    .dataframe tbody tr th {\n",
       "        vertical-align: top;\n",
       "    }\n",
       "\n",
       "    .dataframe thead th {\n",
       "        text-align: right;\n",
       "    }\n",
       "</style>\n",
       "<table border=\"1\" class=\"dataframe\">\n",
       "  <thead>\n",
       "    <tr style=\"text-align: right;\">\n",
       "      <th></th>\n",
       "      <th>ApplicantIncome</th>\n",
       "      <th>CoapplicantIncome</th>\n",
       "      <th>LoanAmount_log</th>\n",
       "      <th>Loan_Amount_Term</th>\n",
       "    </tr>\n",
       "  </thead>\n",
       "  <tbody>\n",
       "    <tr>\n",
       "      <th>0</th>\n",
       "      <td>0.117565</td>\n",
       "      <td>-0.589506</td>\n",
       "      <td>-0.019991</td>\n",
       "      <td>0.270528</td>\n",
       "    </tr>\n",
       "    <tr>\n",
       "      <th>1</th>\n",
       "      <td>-0.104844</td>\n",
       "      <td>-0.034561</td>\n",
       "      <td>0.013695</td>\n",
       "      <td>0.270528</td>\n",
       "    </tr>\n",
       "    <tr>\n",
       "      <th>2</th>\n",
       "      <td>-0.382944</td>\n",
       "      <td>-0.589506</td>\n",
       "      <td>-1.403126</td>\n",
       "      <td>0.270528</td>\n",
       "    </tr>\n",
       "    <tr>\n",
       "      <th>3</th>\n",
       "      <td>-0.456202</td>\n",
       "      <td>0.278239</td>\n",
       "      <td>-0.124353</td>\n",
       "      <td>0.270528</td>\n",
       "    </tr>\n",
       "    <tr>\n",
       "      <th>4</th>\n",
       "      <td>0.144093</td>\n",
       "      <td>-0.589506</td>\n",
       "      <td>0.220599</td>\n",
       "      <td>0.270528</td>\n",
       "    </tr>\n",
       "  </tbody>\n",
       "</table>\n",
       "</div>"
      ],
      "text/plain": [
       "   ApplicantIncome  CoapplicantIncome  LoanAmount_log  Loan_Amount_Term\n",
       "0         0.117565          -0.589506       -0.019991          0.270528\n",
       "1        -0.104844          -0.034561        0.013695          0.270528\n",
       "2        -0.382944          -0.589506       -1.403126          0.270528\n",
       "3        -0.456202           0.278239       -0.124353          0.270528\n",
       "4         0.144093          -0.589506        0.220599          0.270528"
      ]
     },
     "execution_count": 1644,
     "metadata": {},
     "output_type": "execute_result"
    }
   ],
   "source": [
    "df[['ApplicantIncome','CoapplicantIncome','LoanAmount_log','Loan_Amount_Term']].head()"
   ]
  },
  {
   "cell_type": "code",
   "execution_count": 1645,
   "id": "32ec1007",
   "metadata": {},
   "outputs": [],
   "source": [
    "train_df = df[df['source']=='train']\n",
    "test_df = df[df['source']=='test']\n",
    "test_df.reset_index(inplace=True, drop=True)\n",
    "train_df.reset_index(inplace=True, drop=True)"
   ]
  },
  {
   "cell_type": "code",
   "execution_count": 1646,
   "id": "98cf3e23",
   "metadata": {},
   "outputs": [
    {
     "data": {
      "text/plain": [
       "1.0    422\n",
       "0.0    192\n",
       "Name: Loan_Status, dtype: int64"
      ]
     },
     "execution_count": 1646,
     "metadata": {},
     "output_type": "execute_result"
    }
   ],
   "source": [
    "train_df['Loan_Status'].value_counts()"
   ]
  },
  {
   "cell_type": "markdown",
   "id": "5bfad6d7",
   "metadata": {},
   "source": [
    "#### We could see 0 and 1 samples are not equal, let's try to over sable the promoted =1 rows"
   ]
  },
  {
   "cell_type": "code",
   "execution_count": 1648,
   "id": "1ee0f10c",
   "metadata": {},
   "outputs": [],
   "source": [
    "loan = train_df[train_df['Loan_Status'] == 1]\n",
    "no_loan = train_df[train_df['Loan_Status'] == 0]"
   ]
  },
  {
   "cell_type": "code",
   "execution_count": 1649,
   "id": "7bfa7752",
   "metadata": {},
   "outputs": [
    {
     "data": {
      "text/plain": [
       "((422, 16), (192, 16))"
      ]
     },
     "execution_count": 1649,
     "metadata": {},
     "output_type": "execute_result"
    }
   ],
   "source": [
    "loan.shape, no_loan.shape"
   ]
  },
  {
   "cell_type": "code",
   "execution_count": 1650,
   "id": "d9e9f170",
   "metadata": {},
   "outputs": [
    {
     "data": {
      "text/plain": [
       "(422, 16)"
      ]
     },
     "execution_count": 1650,
     "metadata": {},
     "output_type": "execute_result"
    }
   ],
   "source": [
    "no_loan = no_loan.sample(loan.shape[0], replace=True)\n",
    "no_loan.shape"
   ]
  },
  {
   "cell_type": "code",
   "execution_count": 1651,
   "id": "fdc7f2ce",
   "metadata": {},
   "outputs": [],
   "source": [
    "train_df = pd.concat([loan, no_loan],axis=0)"
   ]
  },
  {
   "cell_type": "code",
   "execution_count": 1652,
   "id": "3ecdc07b",
   "metadata": {},
   "outputs": [
    {
     "data": {
      "text/plain": [
       "(844, 16)"
      ]
     },
     "execution_count": 1652,
     "metadata": {},
     "output_type": "execute_result"
    }
   ],
   "source": [
    "train_df.shape"
   ]
  },
  {
   "cell_type": "code",
   "execution_count": 1653,
   "id": "6797b284",
   "metadata": {},
   "outputs": [],
   "source": [
    "X = train_df.drop(columns=['source','Loan_ID','Loan_Status'])\n",
    "y = train_df['Loan_Status']"
   ]
  },
  {
   "cell_type": "code",
   "execution_count": 1654,
   "id": "f3969cdc",
   "metadata": {},
   "outputs": [
    {
     "data": {
      "text/plain": [
       "array([1., 0.])"
      ]
     },
     "execution_count": 1654,
     "metadata": {},
     "output_type": "execute_result"
    }
   ],
   "source": [
    "y.unique()"
   ]
  },
  {
   "cell_type": "code",
   "execution_count": 1655,
   "id": "10c592f9",
   "metadata": {},
   "outputs": [
    {
     "data": {
      "text/html": [
       "<div>\n",
       "<style scoped>\n",
       "    .dataframe tbody tr th:only-of-type {\n",
       "        vertical-align: middle;\n",
       "    }\n",
       "\n",
       "    .dataframe tbody tr th {\n",
       "        vertical-align: top;\n",
       "    }\n",
       "\n",
       "    .dataframe thead th {\n",
       "        text-align: right;\n",
       "    }\n",
       "</style>\n",
       "<table border=\"1\" class=\"dataframe\">\n",
       "  <thead>\n",
       "    <tr style=\"text-align: right;\">\n",
       "      <th></th>\n",
       "      <th>Gender</th>\n",
       "      <th>Married</th>\n",
       "      <th>Dependents</th>\n",
       "      <th>Education</th>\n",
       "      <th>Self_Employed</th>\n",
       "      <th>ApplicantIncome</th>\n",
       "      <th>CoapplicantIncome</th>\n",
       "      <th>Loan_Amount_Term</th>\n",
       "      <th>Credit_History</th>\n",
       "      <th>Loan_Status</th>\n",
       "      <th>LoanAmount_log</th>\n",
       "      <th>Property_Area_Rural</th>\n",
       "      <th>Property_Area_Semiurban</th>\n",
       "      <th>Property_Area_Urban</th>\n",
       "    </tr>\n",
       "  </thead>\n",
       "  <tbody>\n",
       "    <tr>\n",
       "      <th>Gender</th>\n",
       "      <td>1.000000</td>\n",
       "      <td>0.327012</td>\n",
       "      <td>0.139248</td>\n",
       "      <td>-0.040649</td>\n",
       "      <td>0.024719</td>\n",
       "      <td>0.060444</td>\n",
       "      <td>0.082428</td>\n",
       "      <td>-0.069058</td>\n",
       "      <td>0.018627</td>\n",
       "      <td>0.017987</td>\n",
       "      <td>0.123055</td>\n",
       "      <td>0.067824</td>\n",
       "      <td>-0.094498</td>\n",
       "      <td>0.029989</td>\n",
       "    </tr>\n",
       "    <tr>\n",
       "      <th>Married</th>\n",
       "      <td>0.327012</td>\n",
       "      <td>1.000000</td>\n",
       "      <td>0.344291</td>\n",
       "      <td>-0.026211</td>\n",
       "      <td>0.013666</td>\n",
       "      <td>0.052126</td>\n",
       "      <td>0.061606</td>\n",
       "      <td>-0.047505</td>\n",
       "      <td>0.021738</td>\n",
       "      <td>0.091478</td>\n",
       "      <td>0.180598</td>\n",
       "      <td>-0.001967</td>\n",
       "      <td>-0.006909</td>\n",
       "      <td>0.008825</td>\n",
       "    </tr>\n",
       "    <tr>\n",
       "      <th>Dependents</th>\n",
       "      <td>0.139248</td>\n",
       "      <td>0.344291</td>\n",
       "      <td>1.000000</td>\n",
       "      <td>-0.084894</td>\n",
       "      <td>0.026241</td>\n",
       "      <td>0.122136</td>\n",
       "      <td>0.003223</td>\n",
       "      <td>-0.084190</td>\n",
       "      <td>-0.045335</td>\n",
       "      <td>0.010118</td>\n",
       "      <td>0.134937</td>\n",
       "      <td>-0.014311</td>\n",
       "      <td>-0.003900</td>\n",
       "      <td>0.017622</td>\n",
       "    </tr>\n",
       "    <tr>\n",
       "      <th>Education</th>\n",
       "      <td>-0.040649</td>\n",
       "      <td>-0.026211</td>\n",
       "      <td>-0.084894</td>\n",
       "      <td>1.000000</td>\n",
       "      <td>0.010848</td>\n",
       "      <td>0.138909</td>\n",
       "      <td>0.060380</td>\n",
       "      <td>0.021575</td>\n",
       "      <td>0.062416</td>\n",
       "      <td>0.085884</td>\n",
       "      <td>0.143129</td>\n",
       "      <td>-0.051345</td>\n",
       "      <td>0.013089</td>\n",
       "      <td>0.036017</td>\n",
       "    </tr>\n",
       "    <tr>\n",
       "      <th>Self_Employed</th>\n",
       "      <td>0.024719</td>\n",
       "      <td>0.013666</td>\n",
       "      <td>0.026241</td>\n",
       "      <td>0.010848</td>\n",
       "      <td>1.000000</td>\n",
       "      <td>0.113106</td>\n",
       "      <td>-0.018861</td>\n",
       "      <td>-0.031451</td>\n",
       "      <td>0.034485</td>\n",
       "      <td>-0.003700</td>\n",
       "      <td>0.096043</td>\n",
       "      <td>0.060360</td>\n",
       "      <td>-0.015231</td>\n",
       "      <td>-0.042498</td>\n",
       "    </tr>\n",
       "    <tr>\n",
       "      <th>ApplicantIncome</th>\n",
       "      <td>0.060444</td>\n",
       "      <td>0.052126</td>\n",
       "      <td>0.122136</td>\n",
       "      <td>0.138909</td>\n",
       "      <td>0.113106</td>\n",
       "      <td>1.000000</td>\n",
       "      <td>-0.114247</td>\n",
       "      <td>-0.023823</td>\n",
       "      <td>0.020201</td>\n",
       "      <td>-0.004710</td>\n",
       "      <td>0.417236</td>\n",
       "      <td>-0.000099</td>\n",
       "      <td>-0.009034</td>\n",
       "      <td>0.009171</td>\n",
       "    </tr>\n",
       "    <tr>\n",
       "      <th>CoapplicantIncome</th>\n",
       "      <td>0.082428</td>\n",
       "      <td>0.061606</td>\n",
       "      <td>0.003223</td>\n",
       "      <td>0.060380</td>\n",
       "      <td>-0.018861</td>\n",
       "      <td>-0.114247</td>\n",
       "      <td>1.000000</td>\n",
       "      <td>-0.042750</td>\n",
       "      <td>-0.011531</td>\n",
       "      <td>-0.059187</td>\n",
       "      <td>0.193742</td>\n",
       "      <td>0.035925</td>\n",
       "      <td>-0.026793</td>\n",
       "      <td>-0.007484</td>\n",
       "    </tr>\n",
       "    <tr>\n",
       "      <th>Loan_Amount_Term</th>\n",
       "      <td>-0.069058</td>\n",
       "      <td>-0.047505</td>\n",
       "      <td>-0.084190</td>\n",
       "      <td>0.021575</td>\n",
       "      <td>-0.031451</td>\n",
       "      <td>-0.023823</td>\n",
       "      <td>-0.042750</td>\n",
       "      <td>1.000000</td>\n",
       "      <td>-0.021495</td>\n",
       "      <td>-0.022549</td>\n",
       "      <td>0.104715</td>\n",
       "      <td>0.019765</td>\n",
       "      <td>0.031152</td>\n",
       "      <td>-0.050222</td>\n",
       "    </tr>\n",
       "    <tr>\n",
       "      <th>Credit_History</th>\n",
       "      <td>0.018627</td>\n",
       "      <td>0.021738</td>\n",
       "      <td>-0.045335</td>\n",
       "      <td>0.062416</td>\n",
       "      <td>0.034485</td>\n",
       "      <td>0.020201</td>\n",
       "      <td>-0.011531</td>\n",
       "      <td>-0.021495</td>\n",
       "      <td>1.000000</td>\n",
       "      <td>0.540556</td>\n",
       "      <td>-0.030598</td>\n",
       "      <td>-0.026518</td>\n",
       "      <td>0.009830</td>\n",
       "      <td>0.015517</td>\n",
       "    </tr>\n",
       "    <tr>\n",
       "      <th>Loan_Status</th>\n",
       "      <td>0.017987</td>\n",
       "      <td>0.091478</td>\n",
       "      <td>0.010118</td>\n",
       "      <td>0.085884</td>\n",
       "      <td>-0.003700</td>\n",
       "      <td>-0.004710</td>\n",
       "      <td>-0.059187</td>\n",
       "      <td>-0.022549</td>\n",
       "      <td>0.540556</td>\n",
       "      <td>1.000000</td>\n",
       "      <td>-0.037536</td>\n",
       "      <td>-0.100694</td>\n",
       "      <td>0.136540</td>\n",
       "      <td>-0.043621</td>\n",
       "    </tr>\n",
       "    <tr>\n",
       "      <th>LoanAmount_log</th>\n",
       "      <td>0.123055</td>\n",
       "      <td>0.180598</td>\n",
       "      <td>0.134937</td>\n",
       "      <td>0.143129</td>\n",
       "      <td>0.096043</td>\n",
       "      <td>0.417236</td>\n",
       "      <td>0.193742</td>\n",
       "      <td>0.104715</td>\n",
       "      <td>-0.030598</td>\n",
       "      <td>-0.037536</td>\n",
       "      <td>1.000000</td>\n",
       "      <td>0.062390</td>\n",
       "      <td>0.004160</td>\n",
       "      <td>-0.063923</td>\n",
       "    </tr>\n",
       "    <tr>\n",
       "      <th>Property_Area_Rural</th>\n",
       "      <td>0.067824</td>\n",
       "      <td>-0.001967</td>\n",
       "      <td>-0.014311</td>\n",
       "      <td>-0.051345</td>\n",
       "      <td>0.060360</td>\n",
       "      <td>-0.000099</td>\n",
       "      <td>0.035925</td>\n",
       "      <td>0.019765</td>\n",
       "      <td>-0.026518</td>\n",
       "      <td>-0.100694</td>\n",
       "      <td>0.062390</td>\n",
       "      <td>1.000000</td>\n",
       "      <td>-0.481409</td>\n",
       "      <td>-0.473939</td>\n",
       "    </tr>\n",
       "    <tr>\n",
       "      <th>Property_Area_Semiurban</th>\n",
       "      <td>-0.094498</td>\n",
       "      <td>-0.006909</td>\n",
       "      <td>-0.003900</td>\n",
       "      <td>0.013089</td>\n",
       "      <td>-0.015231</td>\n",
       "      <td>-0.009034</td>\n",
       "      <td>-0.026793</td>\n",
       "      <td>0.031152</td>\n",
       "      <td>0.009830</td>\n",
       "      <td>0.136540</td>\n",
       "      <td>0.004160</td>\n",
       "      <td>-0.481409</td>\n",
       "      <td>1.000000</td>\n",
       "      <td>-0.543647</td>\n",
       "    </tr>\n",
       "    <tr>\n",
       "      <th>Property_Area_Urban</th>\n",
       "      <td>0.029989</td>\n",
       "      <td>0.008825</td>\n",
       "      <td>0.017622</td>\n",
       "      <td>0.036017</td>\n",
       "      <td>-0.042498</td>\n",
       "      <td>0.009171</td>\n",
       "      <td>-0.007484</td>\n",
       "      <td>-0.050222</td>\n",
       "      <td>0.015517</td>\n",
       "      <td>-0.043621</td>\n",
       "      <td>-0.063923</td>\n",
       "      <td>-0.473939</td>\n",
       "      <td>-0.543647</td>\n",
       "      <td>1.000000</td>\n",
       "    </tr>\n",
       "  </tbody>\n",
       "</table>\n",
       "</div>"
      ],
      "text/plain": [
       "                           Gender   Married  Dependents  Education  \\\n",
       "Gender                   1.000000  0.327012    0.139248  -0.040649   \n",
       "Married                  0.327012  1.000000    0.344291  -0.026211   \n",
       "Dependents               0.139248  0.344291    1.000000  -0.084894   \n",
       "Education               -0.040649 -0.026211   -0.084894   1.000000   \n",
       "Self_Employed            0.024719  0.013666    0.026241   0.010848   \n",
       "ApplicantIncome          0.060444  0.052126    0.122136   0.138909   \n",
       "CoapplicantIncome        0.082428  0.061606    0.003223   0.060380   \n",
       "Loan_Amount_Term        -0.069058 -0.047505   -0.084190   0.021575   \n",
       "Credit_History           0.018627  0.021738   -0.045335   0.062416   \n",
       "Loan_Status              0.017987  0.091478    0.010118   0.085884   \n",
       "LoanAmount_log           0.123055  0.180598    0.134937   0.143129   \n",
       "Property_Area_Rural      0.067824 -0.001967   -0.014311  -0.051345   \n",
       "Property_Area_Semiurban -0.094498 -0.006909   -0.003900   0.013089   \n",
       "Property_Area_Urban      0.029989  0.008825    0.017622   0.036017   \n",
       "\n",
       "                         Self_Employed  ApplicantIncome  CoapplicantIncome  \\\n",
       "Gender                        0.024719         0.060444           0.082428   \n",
       "Married                       0.013666         0.052126           0.061606   \n",
       "Dependents                    0.026241         0.122136           0.003223   \n",
       "Education                     0.010848         0.138909           0.060380   \n",
       "Self_Employed                 1.000000         0.113106          -0.018861   \n",
       "ApplicantIncome               0.113106         1.000000          -0.114247   \n",
       "CoapplicantIncome            -0.018861        -0.114247           1.000000   \n",
       "Loan_Amount_Term             -0.031451        -0.023823          -0.042750   \n",
       "Credit_History                0.034485         0.020201          -0.011531   \n",
       "Loan_Status                  -0.003700        -0.004710          -0.059187   \n",
       "LoanAmount_log                0.096043         0.417236           0.193742   \n",
       "Property_Area_Rural           0.060360        -0.000099           0.035925   \n",
       "Property_Area_Semiurban      -0.015231        -0.009034          -0.026793   \n",
       "Property_Area_Urban          -0.042498         0.009171          -0.007484   \n",
       "\n",
       "                         Loan_Amount_Term  Credit_History  Loan_Status  \\\n",
       "Gender                          -0.069058        0.018627     0.017987   \n",
       "Married                         -0.047505        0.021738     0.091478   \n",
       "Dependents                      -0.084190       -0.045335     0.010118   \n",
       "Education                        0.021575        0.062416     0.085884   \n",
       "Self_Employed                   -0.031451        0.034485    -0.003700   \n",
       "ApplicantIncome                 -0.023823        0.020201    -0.004710   \n",
       "CoapplicantIncome               -0.042750       -0.011531    -0.059187   \n",
       "Loan_Amount_Term                 1.000000       -0.021495    -0.022549   \n",
       "Credit_History                  -0.021495        1.000000     0.540556   \n",
       "Loan_Status                     -0.022549        0.540556     1.000000   \n",
       "LoanAmount_log                   0.104715       -0.030598    -0.037536   \n",
       "Property_Area_Rural              0.019765       -0.026518    -0.100694   \n",
       "Property_Area_Semiurban          0.031152        0.009830     0.136540   \n",
       "Property_Area_Urban             -0.050222        0.015517    -0.043621   \n",
       "\n",
       "                         LoanAmount_log  Property_Area_Rural  \\\n",
       "Gender                         0.123055             0.067824   \n",
       "Married                        0.180598            -0.001967   \n",
       "Dependents                     0.134937            -0.014311   \n",
       "Education                      0.143129            -0.051345   \n",
       "Self_Employed                  0.096043             0.060360   \n",
       "ApplicantIncome                0.417236            -0.000099   \n",
       "CoapplicantIncome              0.193742             0.035925   \n",
       "Loan_Amount_Term               0.104715             0.019765   \n",
       "Credit_History                -0.030598            -0.026518   \n",
       "Loan_Status                   -0.037536            -0.100694   \n",
       "LoanAmount_log                 1.000000             0.062390   \n",
       "Property_Area_Rural            0.062390             1.000000   \n",
       "Property_Area_Semiurban        0.004160            -0.481409   \n",
       "Property_Area_Urban           -0.063923            -0.473939   \n",
       "\n",
       "                         Property_Area_Semiurban  Property_Area_Urban  \n",
       "Gender                                 -0.094498             0.029989  \n",
       "Married                                -0.006909             0.008825  \n",
       "Dependents                             -0.003900             0.017622  \n",
       "Education                               0.013089             0.036017  \n",
       "Self_Employed                          -0.015231            -0.042498  \n",
       "ApplicantIncome                        -0.009034             0.009171  \n",
       "CoapplicantIncome                      -0.026793            -0.007484  \n",
       "Loan_Amount_Term                        0.031152            -0.050222  \n",
       "Credit_History                          0.009830             0.015517  \n",
       "Loan_Status                             0.136540            -0.043621  \n",
       "LoanAmount_log                          0.004160            -0.063923  \n",
       "Property_Area_Rural                    -0.481409            -0.473939  \n",
       "Property_Area_Semiurban                 1.000000            -0.543647  \n",
       "Property_Area_Urban                    -0.543647             1.000000  "
      ]
     },
     "execution_count": 1655,
     "metadata": {},
     "output_type": "execute_result"
    }
   ],
   "source": [
    "df.corr().T"
   ]
  },
  {
   "cell_type": "code",
   "execution_count": 1656,
   "id": "1ffeee8b",
   "metadata": {},
   "outputs": [],
   "source": [
    "X_train, X_test, y_train, y_test = train_test_split(X, y, test_size=0.01, random_state=10)\n",
    "#X_train = X\n",
    "#y_test = y"
   ]
  },
  {
   "cell_type": "code",
   "execution_count": 1657,
   "id": "40d85f41",
   "metadata": {},
   "outputs": [
    {
     "data": {
      "text/html": [
       "<div>\n",
       "<style scoped>\n",
       "    .dataframe tbody tr th:only-of-type {\n",
       "        vertical-align: middle;\n",
       "    }\n",
       "\n",
       "    .dataframe tbody tr th {\n",
       "        vertical-align: top;\n",
       "    }\n",
       "\n",
       "    .dataframe thead th {\n",
       "        text-align: right;\n",
       "    }\n",
       "</style>\n",
       "<table border=\"1\" class=\"dataframe\">\n",
       "  <thead>\n",
       "    <tr style=\"text-align: right;\">\n",
       "      <th></th>\n",
       "      <th>260</th>\n",
       "      <th>82</th>\n",
       "      <th>349</th>\n",
       "      <th>64</th>\n",
       "      <th>206</th>\n",
       "    </tr>\n",
       "  </thead>\n",
       "  <tbody>\n",
       "    <tr>\n",
       "      <th>Gender</th>\n",
       "      <td>1.000000</td>\n",
       "      <td>0.000000</td>\n",
       "      <td>1.000000</td>\n",
       "      <td>0.000000</td>\n",
       "      <td>0.000000</td>\n",
       "    </tr>\n",
       "    <tr>\n",
       "      <th>Married</th>\n",
       "      <td>1.000000</td>\n",
       "      <td>1.000000</td>\n",
       "      <td>1.000000</td>\n",
       "      <td>0.000000</td>\n",
       "      <td>0.000000</td>\n",
       "    </tr>\n",
       "    <tr>\n",
       "      <th>Dependents</th>\n",
       "      <td>1.000000</td>\n",
       "      <td>2.000000</td>\n",
       "      <td>0.000000</td>\n",
       "      <td>0.000000</td>\n",
       "      <td>0.000000</td>\n",
       "    </tr>\n",
       "    <tr>\n",
       "      <th>Education</th>\n",
       "      <td>1.000000</td>\n",
       "      <td>1.000000</td>\n",
       "      <td>1.000000</td>\n",
       "      <td>1.000000</td>\n",
       "      <td>1.000000</td>\n",
       "    </tr>\n",
       "    <tr>\n",
       "      <th>Self_Employed</th>\n",
       "      <td>0.000000</td>\n",
       "      <td>0.000000</td>\n",
       "      <td>0.000000</td>\n",
       "      <td>0.000000</td>\n",
       "      <td>0.000000</td>\n",
       "    </tr>\n",
       "    <tr>\n",
       "      <th>ApplicantIncome</th>\n",
       "      <td>0.158674</td>\n",
       "      <td>-0.667895</td>\n",
       "      <td>-0.448824</td>\n",
       "      <td>-0.178102</td>\n",
       "      <td>-0.340078</td>\n",
       "    </tr>\n",
       "    <tr>\n",
       "      <th>CoapplicantIncome</th>\n",
       "      <td>0.974496</td>\n",
       "      <td>0.102703</td>\n",
       "      <td>1.710498</td>\n",
       "      <td>-0.589506</td>\n",
       "      <td>-0.589506</td>\n",
       "    </tr>\n",
       "    <tr>\n",
       "      <th>Loan_Amount_Term</th>\n",
       "      <td>0.270528</td>\n",
       "      <td>0.270528</td>\n",
       "      <td>0.270528</td>\n",
       "      <td>0.270528</td>\n",
       "      <td>0.270528</td>\n",
       "    </tr>\n",
       "    <tr>\n",
       "      <th>Credit_History</th>\n",
       "      <td>1.000000</td>\n",
       "      <td>1.000000</td>\n",
       "      <td>1.000000</td>\n",
       "      <td>0.000000</td>\n",
       "      <td>1.000000</td>\n",
       "    </tr>\n",
       "    <tr>\n",
       "      <th>LoanAmount_log</th>\n",
       "      <td>2.039460</td>\n",
       "      <td>0.582591</td>\n",
       "      <td>0.824543</td>\n",
       "      <td>-0.196868</td>\n",
       "      <td>-0.991643</td>\n",
       "    </tr>\n",
       "    <tr>\n",
       "      <th>Property_Area_Rural</th>\n",
       "      <td>0.000000</td>\n",
       "      <td>0.000000</td>\n",
       "      <td>1.000000</td>\n",
       "      <td>0.000000</td>\n",
       "      <td>0.000000</td>\n",
       "    </tr>\n",
       "    <tr>\n",
       "      <th>Property_Area_Semiurban</th>\n",
       "      <td>0.000000</td>\n",
       "      <td>0.000000</td>\n",
       "      <td>0.000000</td>\n",
       "      <td>1.000000</td>\n",
       "      <td>0.000000</td>\n",
       "    </tr>\n",
       "    <tr>\n",
       "      <th>Property_Area_Urban</th>\n",
       "      <td>1.000000</td>\n",
       "      <td>1.000000</td>\n",
       "      <td>0.000000</td>\n",
       "      <td>0.000000</td>\n",
       "      <td>1.000000</td>\n",
       "    </tr>\n",
       "  </tbody>\n",
       "</table>\n",
       "</div>"
      ],
      "text/plain": [
       "                              260       82        349       64        206\n",
       "Gender                   1.000000  0.000000  1.000000  0.000000  0.000000\n",
       "Married                  1.000000  1.000000  1.000000  0.000000  0.000000\n",
       "Dependents               1.000000  2.000000  0.000000  0.000000  0.000000\n",
       "Education                1.000000  1.000000  1.000000  1.000000  1.000000\n",
       "Self_Employed            0.000000  0.000000  0.000000  0.000000  0.000000\n",
       "ApplicantIncome          0.158674 -0.667895 -0.448824 -0.178102 -0.340078\n",
       "CoapplicantIncome        0.974496  0.102703  1.710498 -0.589506 -0.589506\n",
       "Loan_Amount_Term         0.270528  0.270528  0.270528  0.270528  0.270528\n",
       "Credit_History           1.000000  1.000000  1.000000  0.000000  1.000000\n",
       "LoanAmount_log           2.039460  0.582591  0.824543 -0.196868 -0.991643\n",
       "Property_Area_Rural      0.000000  0.000000  1.000000  0.000000  0.000000\n",
       "Property_Area_Semiurban  0.000000  0.000000  0.000000  1.000000  0.000000\n",
       "Property_Area_Urban      1.000000  1.000000  0.000000  0.000000  1.000000"
      ]
     },
     "execution_count": 1657,
     "metadata": {},
     "output_type": "execute_result"
    }
   ],
   "source": [
    "X_train.head().T"
   ]
  },
  {
   "cell_type": "code",
   "execution_count": 1658,
   "id": "31dfeefb",
   "metadata": {},
   "outputs": [
    {
     "data": {
      "text/plain": [
       "489    0.0\n",
       "596    0.0\n",
       "585    0.0\n",
       "384    0.0\n",
       "508    1.0\n",
       "391    1.0\n",
       "71     1.0\n",
       "197    1.0\n",
       "583    0.0\n",
       "Name: Loan_Status, dtype: float64"
      ]
     },
     "execution_count": 1658,
     "metadata": {},
     "output_type": "execute_result"
    }
   ],
   "source": [
    "y_test"
   ]
  },
  {
   "cell_type": "code",
   "execution_count": 1659,
   "id": "c3a928a6",
   "metadata": {},
   "outputs": [
    {
     "data": {
      "text/plain": [
       "((835, 13), (835,))"
      ]
     },
     "execution_count": 1659,
     "metadata": {},
     "output_type": "execute_result"
    }
   ],
   "source": [
    "X_train.shape, y_train.shape"
   ]
  },
  {
   "cell_type": "code",
   "execution_count": 1660,
   "id": "a083ad0f",
   "metadata": {},
   "outputs": [
    {
     "data": {
      "text/plain": [
       "LogisticRegression(max_iter=1000)"
      ]
     },
     "execution_count": 1660,
     "metadata": {},
     "output_type": "execute_result"
    }
   ],
   "source": [
    "model = LogisticRegression(max_iter=1000)\n",
    "model.fit(X_train, y_train)"
   ]
  },
  {
   "cell_type": "code",
   "execution_count": 1661,
   "id": "deecfd80",
   "metadata": {},
   "outputs": [],
   "source": [
    "y_train_pred = model.predict(X_train)\n",
    "y_test_pred = model.predict(X_test)"
   ]
  },
  {
   "cell_type": "code",
   "execution_count": 1662,
   "id": "06dc83c2",
   "metadata": {},
   "outputs": [
    {
     "data": {
      "text/plain": [
       "0.7365269461077845"
      ]
     },
     "execution_count": 1662,
     "metadata": {},
     "output_type": "execute_result"
    }
   ],
   "source": [
    "accuracy_score(y_train, y_train_pred)"
   ]
  },
  {
   "cell_type": "code",
   "execution_count": 1663,
   "id": "4b7a4a94",
   "metadata": {},
   "outputs": [
    {
     "data": {
      "text/plain": [
       "0.4444444444444444"
      ]
     },
     "execution_count": 1663,
     "metadata": {},
     "output_type": "execute_result"
    }
   ],
   "source": [
    "accuracy_score(y_test, y_test_pred)"
   ]
  },
  {
   "cell_type": "code",
   "execution_count": 1664,
   "id": "1e510cf8",
   "metadata": {},
   "outputs": [
    {
     "data": {
      "text/plain": [
       "array([[245, 172],\n",
       "       [ 48, 370]])"
      ]
     },
     "execution_count": 1664,
     "metadata": {},
     "output_type": "execute_result"
    }
   ],
   "source": [
    "cm_train = confusion_matrix(y_train, y_train_pred)\n",
    "cm_train"
   ]
  },
  {
   "cell_type": "code",
   "execution_count": 1665,
   "id": "f4410a80",
   "metadata": {},
   "outputs": [
    {
     "data": {
      "text/plain": [
       "array([[1, 4],\n",
       "       [1, 3]])"
      ]
     },
     "execution_count": 1665,
     "metadata": {},
     "output_type": "execute_result"
    }
   ],
   "source": [
    "cm_test = confusion_matrix(y_test, y_test_pred)\n",
    "cm_test"
   ]
  },
  {
   "cell_type": "code",
   "execution_count": 1666,
   "id": "6c647814",
   "metadata": {},
   "outputs": [
    {
     "name": "stdout",
     "output_type": "stream",
     "text": [
      "              precision    recall  f1-score   support\n",
      "\n",
      "         0.0       0.84      0.59      0.69       417\n",
      "         1.0       0.68      0.89      0.77       418\n",
      "\n",
      "    accuracy                           0.74       835\n",
      "   macro avg       0.76      0.74      0.73       835\n",
      "weighted avg       0.76      0.74      0.73       835\n",
      "\n"
     ]
    }
   ],
   "source": [
    "report_train = classification_report(y_train, y_train_pred)\n",
    "print(report_train)"
   ]
  },
  {
   "cell_type": "code",
   "execution_count": 1667,
   "id": "68911416",
   "metadata": {},
   "outputs": [
    {
     "name": "stdout",
     "output_type": "stream",
     "text": [
      "              precision    recall  f1-score   support\n",
      "\n",
      "         0.0       0.50      0.20      0.29         5\n",
      "         1.0       0.43      0.75      0.55         4\n",
      "\n",
      "    accuracy                           0.44         9\n",
      "   macro avg       0.46      0.47      0.42         9\n",
      "weighted avg       0.47      0.44      0.40         9\n",
      "\n"
     ]
    }
   ],
   "source": [
    "report_test = classification_report(y_test, y_test_pred)\n",
    "print(report_test)"
   ]
  },
  {
   "cell_type": "code",
   "execution_count": 1668,
   "id": "fd6f9354",
   "metadata": {},
   "outputs": [
    {
     "data": {
      "text/plain": [
       "<sklearn.metrics._plot.confusion_matrix.ConfusionMatrixDisplay at 0x7f50c8fc2400>"
      ]
     },
     "execution_count": 1668,
     "metadata": {},
     "output_type": "execute_result"
    },
    {
     "data": {
      "image/png": "[encoded data removed]",
      "text/plain": [
       "<Figure size 432x288 with 2 Axes>"
      ]
     },
     "metadata": {
      "needs_background": "light"
     },
     "output_type": "display_data"
    }
   ],
   "source": [
    "ConfusionMatrixDisplay(cm_train).plot()"
   ]
  },
  {
   "cell_type": "code",
   "execution_count": 1669,
   "id": "0fe1f32d",
   "metadata": {},
   "outputs": [
    {
     "data": {
      "text/plain": [
       "<sklearn.metrics._plot.confusion_matrix.ConfusionMatrixDisplay at 0x7f50c8d684f0>"
      ]
     },
     "execution_count": 1669,
     "metadata": {},
     "output_type": "execute_result"
    },
    {
     "data": {
      "image/png": "[encoded data removed]",
      "text/plain": [
       "<Figure size 432x288 with 2 Axes>"
      ]
     },
     "metadata": {
      "needs_background": "light"
     },
     "output_type": "display_data"
    }
   ],
   "source": [
    "ConfusionMatrixDisplay(cm_test).plot()"
   ]
  },
  {
   "cell_type": "code",
   "execution_count": 1670,
   "id": "648f4259",
   "metadata": {},
   "outputs": [],
   "source": [
    "X = test_df.drop(columns=['source','Loan_ID','Loan_Status'])"
   ]
  },
  {
   "cell_type": "code",
   "execution_count": 1671,
   "id": "922a3796",
   "metadata": {},
   "outputs": [],
   "source": [
    "y_pred = model.predict(X)"
   ]
  },
  {
   "cell_type": "code",
   "execution_count": 1672,
   "id": "19aca1e7",
   "metadata": {},
   "outputs": [
    {
     "data": {
      "text/plain": [
       "1.0    269\n",
       "0.0     98\n",
       "dtype: int64"
      ]
     },
     "execution_count": 1672,
     "metadata": {},
     "output_type": "execute_result"
    }
   ],
   "source": [
    "pd.Series(y_pred).value_counts(dropna=False)"
   ]
  },
  {
   "cell_type": "code",
   "execution_count": 1673,
   "id": "d3f3755a",
   "metadata": {},
   "outputs": [
    {
     "data": {
      "text/html": [
       "<div>\n",
       "<style scoped>\n",
       "    .dataframe tbody tr th:only-of-type {\n",
       "        vertical-align: middle;\n",
       "    }\n",
       "\n",
       "    .dataframe tbody tr th {\n",
       "        vertical-align: top;\n",
       "    }\n",
       "\n",
       "    .dataframe thead th {\n",
       "        text-align: right;\n",
       "    }\n",
       "</style>\n",
       "<table border=\"1\" class=\"dataframe\">\n",
       "  <thead>\n",
       "    <tr style=\"text-align: right;\">\n",
       "      <th></th>\n",
       "      <th>Loan_ID</th>\n",
       "      <th>Loan_Status</th>\n",
       "    </tr>\n",
       "  </thead>\n",
       "  <tbody>\n",
       "    <tr>\n",
       "      <th>0</th>\n",
       "      <td>LP001015</td>\n",
       "      <td>N</td>\n",
       "    </tr>\n",
       "    <tr>\n",
       "      <th>1</th>\n",
       "      <td>LP001022</td>\n",
       "      <td>N</td>\n",
       "    </tr>\n",
       "    <tr>\n",
       "      <th>2</th>\n",
       "      <td>LP001031</td>\n",
       "      <td>N</td>\n",
       "    </tr>\n",
       "    <tr>\n",
       "      <th>3</th>\n",
       "      <td>LP001035</td>\n",
       "      <td>N</td>\n",
       "    </tr>\n",
       "    <tr>\n",
       "      <th>4</th>\n",
       "      <td>LP001051</td>\n",
       "      <td>N</td>\n",
       "    </tr>\n",
       "  </tbody>\n",
       "</table>\n",
       "</div>"
      ],
      "text/plain": [
       "    Loan_ID Loan_Status\n",
       "0  LP001015           N\n",
       "1  LP001022           N\n",
       "2  LP001031           N\n",
       "3  LP001035           N\n",
       "4  LP001051           N"
      ]
     },
     "execution_count": 1673,
     "metadata": {},
     "output_type": "execute_result"
    }
   ],
   "source": [
    "submission_df.head() "
   ]
  },
  {
   "cell_type": "code",
   "execution_count": 1678,
   "id": "33d37ddb",
   "metadata": {},
   "outputs": [
    {
     "data": {
      "text/html": [
       "<div>\n",
       "<style scoped>\n",
       "    .dataframe tbody tr th:only-of-type {\n",
       "        vertical-align: middle;\n",
       "    }\n",
       "\n",
       "    .dataframe tbody tr th {\n",
       "        vertical-align: top;\n",
       "    }\n",
       "\n",
       "    .dataframe thead th {\n",
       "        text-align: right;\n",
       "    }\n",
       "</style>\n",
       "<table border=\"1\" class=\"dataframe\">\n",
       "  <thead>\n",
       "    <tr style=\"text-align: right;\">\n",
       "      <th></th>\n",
       "      <th>0</th>\n",
       "      <th>1</th>\n",
       "      <th>2</th>\n",
       "      <th>3</th>\n",
       "      <th>4</th>\n",
       "    </tr>\n",
       "  </thead>\n",
       "  <tbody>\n",
       "    <tr>\n",
       "      <th>Gender</th>\n",
       "      <td>1.000000</td>\n",
       "      <td>1.000000</td>\n",
       "      <td>1.000000</td>\n",
       "      <td>1.000000</td>\n",
       "      <td>1.000000</td>\n",
       "    </tr>\n",
       "    <tr>\n",
       "      <th>Married</th>\n",
       "      <td>1.000000</td>\n",
       "      <td>1.000000</td>\n",
       "      <td>1.000000</td>\n",
       "      <td>1.000000</td>\n",
       "      <td>0.000000</td>\n",
       "    </tr>\n",
       "    <tr>\n",
       "      <th>Dependents</th>\n",
       "      <td>0.000000</td>\n",
       "      <td>1.000000</td>\n",
       "      <td>2.000000</td>\n",
       "      <td>2.000000</td>\n",
       "      <td>0.000000</td>\n",
       "    </tr>\n",
       "    <tr>\n",
       "      <th>Education</th>\n",
       "      <td>1.000000</td>\n",
       "      <td>1.000000</td>\n",
       "      <td>1.000000</td>\n",
       "      <td>1.000000</td>\n",
       "      <td>0.000000</td>\n",
       "    </tr>\n",
       "    <tr>\n",
       "      <th>Self_Employed</th>\n",
       "      <td>0.000000</td>\n",
       "      <td>0.000000</td>\n",
       "      <td>0.000000</td>\n",
       "      <td>0.000000</td>\n",
       "      <td>0.000000</td>\n",
       "    </tr>\n",
       "    <tr>\n",
       "      <th>ApplicantIncome</th>\n",
       "      <td>0.094903</td>\n",
       "      <td>-0.369593</td>\n",
       "      <td>-0.031586</td>\n",
       "      <td>-0.498892</td>\n",
       "      <td>-0.334457</td>\n",
       "    </tr>\n",
       "    <tr>\n",
       "      <th>CoapplicantIncome</th>\n",
       "      <td>-0.589506</td>\n",
       "      <td>-0.037505</td>\n",
       "      <td>0.072895</td>\n",
       "      <td>0.347423</td>\n",
       "      <td>-0.589506</td>\n",
       "    </tr>\n",
       "    <tr>\n",
       "      <th>Loan_Amount_Term</th>\n",
       "      <td>0.270528</td>\n",
       "      <td>0.270528</td>\n",
       "      <td>0.270528</td>\n",
       "      <td>0.270528</td>\n",
       "      <td>0.270528</td>\n",
       "    </tr>\n",
       "    <tr>\n",
       "      <th>Credit_History</th>\n",
       "      <td>1.000000</td>\n",
       "      <td>1.000000</td>\n",
       "      <td>1.000000</td>\n",
       "      <td>1.000000</td>\n",
       "      <td>1.000000</td>\n",
       "    </tr>\n",
       "    <tr>\n",
       "      <th>LoanAmount_log</th>\n",
       "      <td>-0.310470</td>\n",
       "      <td>-0.019991</td>\n",
       "      <td>1.052196</td>\n",
       "      <td>-0.514339</td>\n",
       "      <td>-1.045797</td>\n",
       "    </tr>\n",
       "    <tr>\n",
       "      <th>Property_Area_Rural</th>\n",
       "      <td>0.000000</td>\n",
       "      <td>0.000000</td>\n",
       "      <td>0.000000</td>\n",
       "      <td>0.000000</td>\n",
       "      <td>0.000000</td>\n",
       "    </tr>\n",
       "    <tr>\n",
       "      <th>Property_Area_Semiurban</th>\n",
       "      <td>0.000000</td>\n",
       "      <td>0.000000</td>\n",
       "      <td>0.000000</td>\n",
       "      <td>0.000000</td>\n",
       "      <td>0.000000</td>\n",
       "    </tr>\n",
       "    <tr>\n",
       "      <th>Property_Area_Urban</th>\n",
       "      <td>1.000000</td>\n",
       "      <td>1.000000</td>\n",
       "      <td>1.000000</td>\n",
       "      <td>1.000000</td>\n",
       "      <td>1.000000</td>\n",
       "    </tr>\n",
       "  </tbody>\n",
       "</table>\n",
       "</div>"
      ],
      "text/plain": [
       "                                0         1         2         3         4\n",
       "Gender                   1.000000  1.000000  1.000000  1.000000  1.000000\n",
       "Married                  1.000000  1.000000  1.000000  1.000000  0.000000\n",
       "Dependents               0.000000  1.000000  2.000000  2.000000  0.000000\n",
       "Education                1.000000  1.000000  1.000000  1.000000  0.000000\n",
       "Self_Employed            0.000000  0.000000  0.000000  0.000000  0.000000\n",
       "ApplicantIncome          0.094903 -0.369593 -0.031586 -0.498892 -0.334457\n",
       "CoapplicantIncome       -0.589506 -0.037505  0.072895  0.347423 -0.589506\n",
       "Loan_Amount_Term         0.270528  0.270528  0.270528  0.270528  0.270528\n",
       "Credit_History           1.000000  1.000000  1.000000  1.000000  1.000000\n",
       "LoanAmount_log          -0.310470 -0.019991  1.052196 -0.514339 -1.045797\n",
       "Property_Area_Rural      0.000000  0.000000  0.000000  0.000000  0.000000\n",
       "Property_Area_Semiurban  0.000000  0.000000  0.000000  0.000000  0.000000\n",
       "Property_Area_Urban      1.000000  1.000000  1.000000  1.000000  1.000000"
      ]
     },
     "execution_count": 1678,
     "metadata": {},
     "output_type": "execute_result"
    }
   ],
   "source": [
    "X.head().T"
   ]
  },
  {
   "cell_type": "code",
   "execution_count": 1674,
   "id": "c924e3a0",
   "metadata": {},
   "outputs": [],
   "source": [
    "output = pd.DataFrame()\n",
    "output['Loan_ID'] = test_df['Loan_ID']\n",
    "output['Loan_Status'] = pd.Series((y_pred)).map({0:'N',1:'Y'})"
   ]
  },
  {
   "cell_type": "code",
   "execution_count": 1675,
   "id": "2096d445",
   "metadata": {},
   "outputs": [
    {
     "data": {
      "text/html": [
       "<div>\n",
       "<style scoped>\n",
       "    .dataframe tbody tr th:only-of-type {\n",
       "        vertical-align: middle;\n",
       "    }\n",
       "\n",
       "    .dataframe tbody tr th {\n",
       "        vertical-align: top;\n",
       "    }\n",
       "\n",
       "    .dataframe thead th {\n",
       "        text-align: right;\n",
       "    }\n",
       "</style>\n",
       "<table border=\"1\" class=\"dataframe\">\n",
       "  <thead>\n",
       "    <tr style=\"text-align: right;\">\n",
       "      <th></th>\n",
       "      <th>Loan_ID</th>\n",
       "      <th>Loan_Status</th>\n",
       "    </tr>\n",
       "  </thead>\n",
       "  <tbody>\n",
       "    <tr>\n",
       "      <th>0</th>\n",
       "      <td>LP001015</td>\n",
       "      <td>Y</td>\n",
       "    </tr>\n",
       "    <tr>\n",
       "      <th>1</th>\n",
       "      <td>LP001022</td>\n",
       "      <td>Y</td>\n",
       "    </tr>\n",
       "    <tr>\n",
       "      <th>2</th>\n",
       "      <td>LP001031</td>\n",
       "      <td>Y</td>\n",
       "    </tr>\n",
       "    <tr>\n",
       "      <th>3</th>\n",
       "      <td>LP001035</td>\n",
       "      <td>Y</td>\n",
       "    </tr>\n",
       "    <tr>\n",
       "      <th>4</th>\n",
       "      <td>LP001051</td>\n",
       "      <td>N</td>\n",
       "    </tr>\n",
       "  </tbody>\n",
       "</table>\n",
       "</div>"
      ],
      "text/plain": [
       "    Loan_ID Loan_Status\n",
       "0  LP001015           Y\n",
       "1  LP001022           Y\n",
       "2  LP001031           Y\n",
       "3  LP001035           Y\n",
       "4  LP001051           N"
      ]
     },
     "execution_count": 1675,
     "metadata": {},
     "output_type": "execute_result"
    }
   ],
   "source": [
    "output.head()"
   ]
  },
  {
   "cell_type": "code",
   "execution_count": null,
   "id": "f5b5e7e0",
   "metadata": {},
   "outputs": [],
   "source": []
  },
  {
   "cell_type": "code",
   "execution_count": 1676,
   "id": "566e899e",
   "metadata": {},
   "outputs": [],
   "source": [
    "output.to_csv(\"LogisticRegression_LoanPrediction-output/LoanPrediction.csv\", index=False)"
   ]
  }
 ],
 "metadata": {
  "kernelspec": {
   "display_name": "Python 3 (ipykernel)",
   "language": "python",
   "name": "python3"
  },
  "language_info": {
   "codemirror_mode": {
    "name": "ipython",
    "version": 3
   },
   "file_extension": ".py",
   "mimetype": "text/x-python",
   "name": "python",
   "nbconvert_exporter": "python",
   "pygments_lexer": "ipython3",
   "version": "3.9.12"
  }
 },
 "nbformat": 4,
 "nbformat_minor": 5
}
