{
 "cells": [
  {
   "cell_type": "raw",
   "id": "23a9a873",
   "metadata": {},
   "source": [
    "\n",
    "\n",
    "\n",
    "Please follow the below instructions for the assignment and upload the answers in your Github profile using the Jupyter notebook (Feel free to exploit the internet for learning and solving below tasks)\n",
    "Good luck! 😊"
   ]
  },
  {
   "cell_type": "markdown",
   "id": "0075c896",
   "metadata": {},
   "source": [
    "\n",
    "    1. Create a file calc.py which has following functions\n",
    "        a. Function to find the factorial of a number\n",
    "        b. Function to convert degree to Fahrenheit\n",
    "Write a new program in file “maths.py” such that you import functions of the file calc.py to your new program. Use from <module> import <functions> statement to import the functions from the calc module"
   ]
  },
  {
   "cell_type": "markdown",
   "id": "5abe3b93",
   "metadata": {},
   "source": [
    "Answer : Find the calc.py and math.ipynb files in the Assignment-3 folder"
   ]
  },
  {
   "cell_type": "markdown",
   "id": "c4202c13",
   "metadata": {},
   "source": [
    "2. Implement a simple generator for Fibonacci series"
   ]
  },
  {
   "cell_type": "code",
   "execution_count": 14,
   "id": "1ab46fb7",
   "metadata": {},
   "outputs": [],
   "source": [
    "def fibgen(num):\n",
    "    first = 0\n",
    "    second = 1\n",
    "    count = 0\n",
    "    if num == 0:\n",
    "        print(\"Print number > 0\")\n",
    "    elif num == 1:\n",
    "        return first\n",
    "    else:\n",
    "        while count < num:\n",
    "            print(first)\n",
    "            nxt = first + second\n",
    "            first = second\n",
    "            second = nxt\n",
    "            count = count + 1\n",
    "    return\n",
    "        \n",
    "    \n",
    "    "
   ]
  },
  {
   "cell_type": "code",
   "execution_count": 17,
   "id": "45ff4245",
   "metadata": {},
   "outputs": [
    {
     "name": "stdout",
     "output_type": "stream",
     "text": [
      "0\n",
      "1\n",
      "1\n",
      "2\n",
      "3\n",
      "5\n",
      "8\n",
      "13\n",
      "21\n",
      "34\n"
     ]
    }
   ],
   "source": [
    "fibgen(10)"
   ]
  },
  {
   "cell_type": "markdown",
   "id": "dac88280",
   "metadata": {},
   "source": [
    "3. Write an iterator class to iterate over a sequence of values in the reverse direction"
   ]
  },
  {
   "cell_type": "code",
   "execution_count": 127,
   "id": "2d65ed84",
   "metadata": {},
   "outputs": [],
   "source": [
    "class MyIterator:\n",
    "    def __init__(self, iterable):\n",
    "        self.iterable = iterable\n",
    "        self.index = len(iterable)\n",
    "    def __itr(self):\n",
    "        return self\n",
    "    def __next__(self):\n",
    "        if self.index == 0:\n",
    "            raise StopIteration()\n",
    "        while self.index > 0:\n",
    "            print(self.index-1)\n",
    "            self.index = self.index - 1\n",
    "            return self.iterable[self.index]\n",
    "    \n"
   ]
  },
  {
   "cell_type": "code",
   "execution_count": 128,
   "id": "0ffe8641",
   "metadata": {},
   "outputs": [],
   "source": [
    "l = ['a',10,'m']\n",
    "i = MyIterator(l)"
   ]
  },
  {
   "cell_type": "code",
   "execution_count": 132,
   "id": "ab392647",
   "metadata": {},
   "outputs": [
    {
     "ename": "StopIteration",
     "evalue": "",
     "output_type": "error",
     "traceback": [
      "\u001b[0;31m---------------------------------------------------------------------------\u001b[0m",
      "\u001b[0;31mStopIteration\u001b[0m                             Traceback (most recent call last)",
      "\u001b[0;32m/tmp/ipykernel_4347/3021917106.py\u001b[0m in \u001b[0;36m<module>\u001b[0;34m\u001b[0m\n\u001b[0;32m----> 1\u001b[0;31m \u001b[0mprint\u001b[0m\u001b[0;34m(\u001b[0m\u001b[0mnext\u001b[0m\u001b[0;34m(\u001b[0m\u001b[0mi\u001b[0m\u001b[0;34m)\u001b[0m\u001b[0;34m)\u001b[0m\u001b[0;34m\u001b[0m\u001b[0;34m\u001b[0m\u001b[0m\n\u001b[0m",
      "\u001b[0;32m/tmp/ipykernel_4347/1751561019.py\u001b[0m in \u001b[0;36m__next__\u001b[0;34m(self)\u001b[0m\n\u001b[1;32m      7\u001b[0m     \u001b[0;32mdef\u001b[0m \u001b[0m__next__\u001b[0m\u001b[0;34m(\u001b[0m\u001b[0mself\u001b[0m\u001b[0;34m)\u001b[0m\u001b[0;34m:\u001b[0m\u001b[0;34m\u001b[0m\u001b[0;34m\u001b[0m\u001b[0m\n\u001b[1;32m      8\u001b[0m         \u001b[0;32mif\u001b[0m \u001b[0mself\u001b[0m\u001b[0;34m.\u001b[0m\u001b[0mindex\u001b[0m \u001b[0;34m==\u001b[0m \u001b[0;36m0\u001b[0m\u001b[0;34m:\u001b[0m\u001b[0;34m\u001b[0m\u001b[0;34m\u001b[0m\u001b[0m\n\u001b[0;32m----> 9\u001b[0;31m             \u001b[0;32mraise\u001b[0m \u001b[0mStopIteration\u001b[0m\u001b[0;34m(\u001b[0m\u001b[0;34m)\u001b[0m\u001b[0;34m\u001b[0m\u001b[0;34m\u001b[0m\u001b[0m\n\u001b[0m\u001b[1;32m     10\u001b[0m         \u001b[0;32mwhile\u001b[0m \u001b[0mself\u001b[0m\u001b[0;34m.\u001b[0m\u001b[0mindex\u001b[0m \u001b[0;34m>\u001b[0m \u001b[0;36m0\u001b[0m\u001b[0;34m:\u001b[0m\u001b[0;34m\u001b[0m\u001b[0;34m\u001b[0m\u001b[0m\n\u001b[1;32m     11\u001b[0m             \u001b[0mprint\u001b[0m\u001b[0;34m(\u001b[0m\u001b[0mself\u001b[0m\u001b[0;34m.\u001b[0m\u001b[0mindex\u001b[0m\u001b[0;34m-\u001b[0m\u001b[0;36m1\u001b[0m\u001b[0;34m)\u001b[0m\u001b[0;34m\u001b[0m\u001b[0;34m\u001b[0m\u001b[0m\n",
      "\u001b[0;31mStopIteration\u001b[0m: "
     ]
    }
   ],
   "source": [
    "print(next(i))"
   ]
  },
  {
   "cell_type": "markdown",
   "id": "01ef4d4e",
   "metadata": {},
   "source": [
    "4. Write a function “salary” that takes in base pay, HRA and special allowance as arguments and returns the sum of all the 3 salary elements. Then create a decorator function to add an additional element “Tax” (30% of base pay) and assign it back to base pay variable, and return the function (i.e., the final calculation of salary also includes tax)"
   ]
  },
  {
   "cell_type": "code",
   "execution_count": null,
   "id": "82963a76",
   "metadata": {},
   "outputs": [],
   "source": []
  },
  {
   "cell_type": "code",
   "execution_count": 27,
   "id": "0b39c6b7",
   "metadata": {},
   "outputs": [
    {
     "name": "stdout",
     "output_type": "stream",
     "text": [
      "outside inner\n"
     ]
    }
   ],
   "source": [
    "def final_salary(func):\n",
    "    print(\"outside inner\")\n",
    "    tax_factor = 0.3\n",
    "    def inner(*args, **kwargs):\n",
    "        print(\"inside inner\")\n",
    "        type(args)\n",
    "        return func(args[0] * (1-tax_factor),args[1],args[2])\n",
    "    return inner\n",
    "    \n",
    "@final_salary\n",
    "def salary(basic, hra, splallow):\n",
    "        return basic + hra + splallow\n"
   ]
  },
  {
   "cell_type": "code",
   "execution_count": 28,
   "id": "61d36bae",
   "metadata": {},
   "outputs": [
    {
     "name": "stdout",
     "output_type": "stream",
     "text": [
      "inside inner\n"
     ]
    },
    {
     "data": {
      "text/plain": [
       "270.0"
      ]
     },
     "execution_count": 28,
     "metadata": {},
     "output_type": "execute_result"
    }
   ],
   "source": [
    "salary(100,100,100)"
   ]
  },
  {
   "cell_type": "markdown",
   "id": "cfe83ad8",
   "metadata": {},
   "source": [
    "5. Write 3 examples on possible methods to changing a tuple"
   ]
  },
  {
   "cell_type": "code",
   "execution_count": 49,
   "id": "a0e5eec4",
   "metadata": {},
   "outputs": [],
   "source": [
    "a = (10,3,1,0)"
   ]
  },
  {
   "cell_type": "markdown",
   "id": "0dadb8fc",
   "metadata": {},
   "source": [
    "#### Method 1 : converting to list and modify and then convert back to Tuple"
   ]
  },
  {
   "cell_type": "code",
   "execution_count": 50,
   "id": "83eed420",
   "metadata": {},
   "outputs": [],
   "source": [
    "a = tuple(list(a) + [20])"
   ]
  },
  {
   "cell_type": "code",
   "execution_count": 51,
   "id": "4be0e4f3",
   "metadata": {},
   "outputs": [
    {
     "data": {
      "text/plain": [
       "(10, 3, 1, 0, 20)"
      ]
     },
     "execution_count": 51,
     "metadata": {},
     "output_type": "execute_result"
    }
   ],
   "source": [
    "a"
   ]
  },
  {
   "cell_type": "markdown",
   "id": "ba14734b",
   "metadata": {},
   "source": [
    "#### Method 2 : by joining with another tupel"
   ]
  },
  {
   "cell_type": "code",
   "execution_count": 52,
   "id": "d7e95fd8",
   "metadata": {},
   "outputs": [],
   "source": [
    "a = a + (30,)"
   ]
  },
  {
   "cell_type": "code",
   "execution_count": 53,
   "id": "2a3c220e",
   "metadata": {},
   "outputs": [
    {
     "data": {
      "text/plain": [
       "(10, 3, 1, 0, 20, 30)"
      ]
     },
     "execution_count": 53,
     "metadata": {},
     "output_type": "execute_result"
    }
   ],
   "source": [
    "a"
   ]
  },
  {
   "cell_type": "code",
   "execution_count": null,
   "id": "9e5c34fd",
   "metadata": {},
   "outputs": [],
   "source": [
    "#### Method 3 : "
   ]
  },
  {
   "cell_type": "markdown",
   "id": "8801700c",
   "metadata": {},
   "source": [
    "Method 3 : By iterating over tuple do required manipulation and then save it as list and then assign to tuple back"
   ]
  },
  {
   "cell_type": "code",
   "execution_count": 56,
   "id": "fddb16cf",
   "metadata": {},
   "outputs": [
    {
     "data": {
      "text/plain": [
       "(10, 3, 1, 0, 20, 30)"
      ]
     },
     "execution_count": 56,
     "metadata": {},
     "output_type": "execute_result"
    }
   ],
   "source": [
    "a"
   ]
  },
  {
   "cell_type": "code",
   "execution_count": 63,
   "id": "8e165a07",
   "metadata": {},
   "outputs": [],
   "source": [
    "b = []\n",
    "for i in a:\n",
    "    if i == 3:\n",
    "        continue\n",
    "    else:\n",
    "        b = b + [i]\n",
    "a = b"
   ]
  },
  {
   "cell_type": "code",
   "execution_count": 64,
   "id": "fa06dc8a",
   "metadata": {},
   "outputs": [
    {
     "data": {
      "text/plain": [
       "[10, 1, 0, 20, 30]"
      ]
     },
     "execution_count": 64,
     "metadata": {},
     "output_type": "execute_result"
    }
   ],
   "source": [
    "a"
   ]
  },
  {
   "cell_type": "code",
   "execution_count": null,
   "id": "4724f516",
   "metadata": {},
   "outputs": [],
   "source": []
  }
 ],
 "metadata": {
  "kernelspec": {
   "display_name": "Python 3",
   "language": "python",
   "name": "python3"
  },
  "language_info": {
   "codemirror_mode": {
    "name": "ipython",
    "version": 3
   },
   "file_extension": ".py",
   "mimetype": "text/x-python",
   "name": "python",
   "nbconvert_exporter": "python",
   "pygments_lexer": "ipython3",
   "version": "3.9.7"
  }
 },
 "nbformat": 4,
 "nbformat_minor": 5
}
