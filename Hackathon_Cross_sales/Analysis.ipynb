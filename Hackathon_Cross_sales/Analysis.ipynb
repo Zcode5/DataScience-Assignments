{
 "cells": [
  {
   "cell_type": "code",
   "execution_count": 328,
   "id": "03fd1efd",
   "metadata": {},
   "outputs": [],
   "source": [
    "import pandas as pd\n",
    "import numpy as np\n",
    "import matplotlib.pyplot as plt\n",
    "import seaborn as sns\n",
    "import time as time\n",
    "from sklearn.model_selection import train_test_split\n",
    "from sklearn.preprocessing import StandardScaler\n",
    "from sklearn.linear_model import LogisticRegression\n",
    "from sklearn.tree import DecisionTreeClassifier\n",
    "from sklearn.ensemble import RandomForestClassifier\n",
    "from lightgbm import LGBMClassifier\n",
    "from sklearn.metrics import confusion_matrix,classification_report, ConfusionMatrixDisplay\n",
    "from sklearn.metrics import accuracy_score, roc_auc_score, plot_roc_curve"
   ]
  },
  {
   "cell_type": "code",
   "execution_count": 329,
   "id": "8c6c9e82",
   "metadata": {},
   "outputs": [],
   "source": [
    "df_train = pd.read_csv(\"/DataWorld/Data_Science/datasets/CrossSelling/train.csv/train.csv\")\n",
    "df_test = pd.read_csv(\"/DataWorld/Data_Science/datasets/CrossSelling/test.csv/test.csv\")\n",
    "submission_df = pd.read_csv(\"/DataWorld/Data_Science/datasets/CrossSelling/sample_submission_iA3afxn.csv\")"
   ]
  },
  {
   "cell_type": "markdown",
   "id": "59be43cd",
   "metadata": {},
   "source": [
    "## Check the look and feel of the data"
   ]
  },
  {
   "cell_type": "code",
   "execution_count": 330,
   "id": "3c6e69e6",
   "metadata": {},
   "outputs": [
    {
     "data": {
      "text/html": [
       "<div>\n",
       "<style scoped>\n",
       "    .dataframe tbody tr th:only-of-type {\n",
       "        vertical-align: middle;\n",
       "    }\n",
       "\n",
       "    .dataframe tbody tr th {\n",
       "        vertical-align: top;\n",
       "    }\n",
       "\n",
       "    .dataframe thead th {\n",
       "        text-align: right;\n",
       "    }\n",
       "</style>\n",
       "<table border=\"1\" class=\"dataframe\">\n",
       "  <thead>\n",
       "    <tr style=\"text-align: right;\">\n",
       "      <th></th>\n",
       "      <th>id</th>\n",
       "      <th>Gender</th>\n",
       "      <th>Age</th>\n",
       "      <th>Driving_License</th>\n",
       "      <th>Region_Code</th>\n",
       "      <th>Previously_Insured</th>\n",
       "      <th>Vehicle_Age</th>\n",
       "      <th>Vehicle_Damage</th>\n",
       "      <th>Annual_Premium</th>\n",
       "      <th>Policy_Sales_Channel</th>\n",
       "      <th>Vintage</th>\n",
       "      <th>Response</th>\n",
       "    </tr>\n",
       "  </thead>\n",
       "  <tbody>\n",
       "    <tr>\n",
       "      <th>0</th>\n",
       "      <td>1</td>\n",
       "      <td>Male</td>\n",
       "      <td>44</td>\n",
       "      <td>1</td>\n",
       "      <td>28.0</td>\n",
       "      <td>0</td>\n",
       "      <td>&gt; 2 Years</td>\n",
       "      <td>Yes</td>\n",
       "      <td>40454.0</td>\n",
       "      <td>26.0</td>\n",
       "      <td>217</td>\n",
       "      <td>1</td>\n",
       "    </tr>\n",
       "    <tr>\n",
       "      <th>1</th>\n",
       "      <td>2</td>\n",
       "      <td>Male</td>\n",
       "      <td>76</td>\n",
       "      <td>1</td>\n",
       "      <td>3.0</td>\n",
       "      <td>0</td>\n",
       "      <td>1-2 Year</td>\n",
       "      <td>No</td>\n",
       "      <td>33536.0</td>\n",
       "      <td>26.0</td>\n",
       "      <td>183</td>\n",
       "      <td>0</td>\n",
       "    </tr>\n",
       "    <tr>\n",
       "      <th>2</th>\n",
       "      <td>3</td>\n",
       "      <td>Male</td>\n",
       "      <td>47</td>\n",
       "      <td>1</td>\n",
       "      <td>28.0</td>\n",
       "      <td>0</td>\n",
       "      <td>&gt; 2 Years</td>\n",
       "      <td>Yes</td>\n",
       "      <td>38294.0</td>\n",
       "      <td>26.0</td>\n",
       "      <td>27</td>\n",
       "      <td>1</td>\n",
       "    </tr>\n",
       "    <tr>\n",
       "      <th>3</th>\n",
       "      <td>4</td>\n",
       "      <td>Male</td>\n",
       "      <td>21</td>\n",
       "      <td>1</td>\n",
       "      <td>11.0</td>\n",
       "      <td>1</td>\n",
       "      <td>&lt; 1 Year</td>\n",
       "      <td>No</td>\n",
       "      <td>28619.0</td>\n",
       "      <td>152.0</td>\n",
       "      <td>203</td>\n",
       "      <td>0</td>\n",
       "    </tr>\n",
       "    <tr>\n",
       "      <th>4</th>\n",
       "      <td>5</td>\n",
       "      <td>Female</td>\n",
       "      <td>29</td>\n",
       "      <td>1</td>\n",
       "      <td>41.0</td>\n",
       "      <td>1</td>\n",
       "      <td>&lt; 1 Year</td>\n",
       "      <td>No</td>\n",
       "      <td>27496.0</td>\n",
       "      <td>152.0</td>\n",
       "      <td>39</td>\n",
       "      <td>0</td>\n",
       "    </tr>\n",
       "  </tbody>\n",
       "</table>\n",
       "</div>"
      ],
      "text/plain": [
       "   id  Gender  Age  Driving_License  Region_Code  Previously_Insured  \\\n",
       "0   1    Male   44                1         28.0                   0   \n",
       "1   2    Male   76                1          3.0                   0   \n",
       "2   3    Male   47                1         28.0                   0   \n",
       "3   4    Male   21                1         11.0                   1   \n",
       "4   5  Female   29                1         41.0                   1   \n",
       "\n",
       "  Vehicle_Age Vehicle_Damage  Annual_Premium  Policy_Sales_Channel  Vintage  \\\n",
       "0   > 2 Years            Yes         40454.0                  26.0      217   \n",
       "1    1-2 Year             No         33536.0                  26.0      183   \n",
       "2   > 2 Years            Yes         38294.0                  26.0       27   \n",
       "3    < 1 Year             No         28619.0                 152.0      203   \n",
       "4    < 1 Year             No         27496.0                 152.0       39   \n",
       "\n",
       "   Response  \n",
       "0         1  \n",
       "1         0  \n",
       "2         1  \n",
       "3         0  \n",
       "4         0  "
      ]
     },
     "execution_count": 330,
     "metadata": {},
     "output_type": "execute_result"
    }
   ],
   "source": [
    "df_train.head()"
   ]
  },
  {
   "cell_type": "code",
   "execution_count": 331,
   "id": "5380dc6f",
   "metadata": {},
   "outputs": [
    {
     "data": {
      "text/html": [
       "<div>\n",
       "<style scoped>\n",
       "    .dataframe tbody tr th:only-of-type {\n",
       "        vertical-align: middle;\n",
       "    }\n",
       "\n",
       "    .dataframe tbody tr th {\n",
       "        vertical-align: top;\n",
       "    }\n",
       "\n",
       "    .dataframe thead th {\n",
       "        text-align: right;\n",
       "    }\n",
       "</style>\n",
       "<table border=\"1\" class=\"dataframe\">\n",
       "  <thead>\n",
       "    <tr style=\"text-align: right;\">\n",
       "      <th></th>\n",
       "      <th>id</th>\n",
       "      <th>Gender</th>\n",
       "      <th>Age</th>\n",
       "      <th>Driving_License</th>\n",
       "      <th>Region_Code</th>\n",
       "      <th>Previously_Insured</th>\n",
       "      <th>Vehicle_Age</th>\n",
       "      <th>Vehicle_Damage</th>\n",
       "      <th>Annual_Premium</th>\n",
       "      <th>Policy_Sales_Channel</th>\n",
       "      <th>Vintage</th>\n",
       "    </tr>\n",
       "  </thead>\n",
       "  <tbody>\n",
       "    <tr>\n",
       "      <th>0</th>\n",
       "      <td>381110</td>\n",
       "      <td>Male</td>\n",
       "      <td>25</td>\n",
       "      <td>1</td>\n",
       "      <td>11.0</td>\n",
       "      <td>1</td>\n",
       "      <td>&lt; 1 Year</td>\n",
       "      <td>No</td>\n",
       "      <td>35786.0</td>\n",
       "      <td>152.0</td>\n",
       "      <td>53</td>\n",
       "    </tr>\n",
       "    <tr>\n",
       "      <th>1</th>\n",
       "      <td>381111</td>\n",
       "      <td>Male</td>\n",
       "      <td>40</td>\n",
       "      <td>1</td>\n",
       "      <td>28.0</td>\n",
       "      <td>0</td>\n",
       "      <td>1-2 Year</td>\n",
       "      <td>Yes</td>\n",
       "      <td>33762.0</td>\n",
       "      <td>7.0</td>\n",
       "      <td>111</td>\n",
       "    </tr>\n",
       "    <tr>\n",
       "      <th>2</th>\n",
       "      <td>381112</td>\n",
       "      <td>Male</td>\n",
       "      <td>47</td>\n",
       "      <td>1</td>\n",
       "      <td>28.0</td>\n",
       "      <td>0</td>\n",
       "      <td>1-2 Year</td>\n",
       "      <td>Yes</td>\n",
       "      <td>40050.0</td>\n",
       "      <td>124.0</td>\n",
       "      <td>199</td>\n",
       "    </tr>\n",
       "    <tr>\n",
       "      <th>3</th>\n",
       "      <td>381113</td>\n",
       "      <td>Male</td>\n",
       "      <td>24</td>\n",
       "      <td>1</td>\n",
       "      <td>27.0</td>\n",
       "      <td>1</td>\n",
       "      <td>&lt; 1 Year</td>\n",
       "      <td>Yes</td>\n",
       "      <td>37356.0</td>\n",
       "      <td>152.0</td>\n",
       "      <td>187</td>\n",
       "    </tr>\n",
       "    <tr>\n",
       "      <th>4</th>\n",
       "      <td>381114</td>\n",
       "      <td>Male</td>\n",
       "      <td>27</td>\n",
       "      <td>1</td>\n",
       "      <td>28.0</td>\n",
       "      <td>1</td>\n",
       "      <td>&lt; 1 Year</td>\n",
       "      <td>No</td>\n",
       "      <td>59097.0</td>\n",
       "      <td>152.0</td>\n",
       "      <td>297</td>\n",
       "    </tr>\n",
       "  </tbody>\n",
       "</table>\n",
       "</div>"
      ],
      "text/plain": [
       "       id Gender  Age  Driving_License  Region_Code  Previously_Insured  \\\n",
       "0  381110   Male   25                1         11.0                   1   \n",
       "1  381111   Male   40                1         28.0                   0   \n",
       "2  381112   Male   47                1         28.0                   0   \n",
       "3  381113   Male   24                1         27.0                   1   \n",
       "4  381114   Male   27                1         28.0                   1   \n",
       "\n",
       "  Vehicle_Age Vehicle_Damage  Annual_Premium  Policy_Sales_Channel  Vintage  \n",
       "0    < 1 Year             No         35786.0                 152.0       53  \n",
       "1    1-2 Year            Yes         33762.0                   7.0      111  \n",
       "2    1-2 Year            Yes         40050.0                 124.0      199  \n",
       "3    < 1 Year            Yes         37356.0                 152.0      187  \n",
       "4    < 1 Year             No         59097.0                 152.0      297  "
      ]
     },
     "execution_count": 331,
     "metadata": {},
     "output_type": "execute_result"
    }
   ],
   "source": [
    "df_test.head()"
   ]
  },
  {
   "cell_type": "code",
   "execution_count": 332,
   "id": "449260df",
   "metadata": {},
   "outputs": [
    {
     "data": {
      "text/html": [
       "<div>\n",
       "<style scoped>\n",
       "    .dataframe tbody tr th:only-of-type {\n",
       "        vertical-align: middle;\n",
       "    }\n",
       "\n",
       "    .dataframe tbody tr th {\n",
       "        vertical-align: top;\n",
       "    }\n",
       "\n",
       "    .dataframe thead th {\n",
       "        text-align: right;\n",
       "    }\n",
       "</style>\n",
       "<table border=\"1\" class=\"dataframe\">\n",
       "  <thead>\n",
       "    <tr style=\"text-align: right;\">\n",
       "      <th></th>\n",
       "      <th>id</th>\n",
       "      <th>Response</th>\n",
       "    </tr>\n",
       "  </thead>\n",
       "  <tbody>\n",
       "    <tr>\n",
       "      <th>0</th>\n",
       "      <td>381110</td>\n",
       "      <td>0</td>\n",
       "    </tr>\n",
       "    <tr>\n",
       "      <th>1</th>\n",
       "      <td>381111</td>\n",
       "      <td>0</td>\n",
       "    </tr>\n",
       "    <tr>\n",
       "      <th>2</th>\n",
       "      <td>381112</td>\n",
       "      <td>0</td>\n",
       "    </tr>\n",
       "    <tr>\n",
       "      <th>3</th>\n",
       "      <td>381113</td>\n",
       "      <td>0</td>\n",
       "    </tr>\n",
       "    <tr>\n",
       "      <th>4</th>\n",
       "      <td>381114</td>\n",
       "      <td>0</td>\n",
       "    </tr>\n",
       "  </tbody>\n",
       "</table>\n",
       "</div>"
      ],
      "text/plain": [
       "       id  Response\n",
       "0  381110         0\n",
       "1  381111         0\n",
       "2  381112         0\n",
       "3  381113         0\n",
       "4  381114         0"
      ]
     },
     "execution_count": 332,
     "metadata": {},
     "output_type": "execute_result"
    }
   ],
   "source": [
    "submission_df.head()"
   ]
  },
  {
   "cell_type": "markdown",
   "id": "fcb31439",
   "metadata": {},
   "source": [
    "## Combine train and test data for unification/cleaning/wragling/normalizing"
   ]
  },
  {
   "cell_type": "code",
   "execution_count": 333,
   "id": "360f46f1",
   "metadata": {},
   "outputs": [
    {
     "data": {
      "text/html": [
       "<div>\n",
       "<style scoped>\n",
       "    .dataframe tbody tr th:only-of-type {\n",
       "        vertical-align: middle;\n",
       "    }\n",
       "\n",
       "    .dataframe tbody tr th {\n",
       "        vertical-align: top;\n",
       "    }\n",
       "\n",
       "    .dataframe thead th {\n",
       "        text-align: right;\n",
       "    }\n",
       "</style>\n",
       "<table border=\"1\" class=\"dataframe\">\n",
       "  <thead>\n",
       "    <tr style=\"text-align: right;\">\n",
       "      <th></th>\n",
       "      <th>id</th>\n",
       "      <th>Gender</th>\n",
       "      <th>Age</th>\n",
       "      <th>Driving_License</th>\n",
       "      <th>Region_Code</th>\n",
       "      <th>Previously_Insured</th>\n",
       "      <th>Vehicle_Age</th>\n",
       "      <th>Vehicle_Damage</th>\n",
       "      <th>Annual_Premium</th>\n",
       "      <th>Policy_Sales_Channel</th>\n",
       "      <th>Vintage</th>\n",
       "      <th>Response</th>\n",
       "      <th>source</th>\n",
       "    </tr>\n",
       "  </thead>\n",
       "  <tbody>\n",
       "    <tr>\n",
       "      <th>0</th>\n",
       "      <td>1</td>\n",
       "      <td>Male</td>\n",
       "      <td>44</td>\n",
       "      <td>1</td>\n",
       "      <td>28.0</td>\n",
       "      <td>0</td>\n",
       "      <td>&gt; 2 Years</td>\n",
       "      <td>Yes</td>\n",
       "      <td>40454.0</td>\n",
       "      <td>26.0</td>\n",
       "      <td>217</td>\n",
       "      <td>1.0</td>\n",
       "      <td>train</td>\n",
       "    </tr>\n",
       "    <tr>\n",
       "      <th>1</th>\n",
       "      <td>2</td>\n",
       "      <td>Male</td>\n",
       "      <td>76</td>\n",
       "      <td>1</td>\n",
       "      <td>3.0</td>\n",
       "      <td>0</td>\n",
       "      <td>1-2 Year</td>\n",
       "      <td>No</td>\n",
       "      <td>33536.0</td>\n",
       "      <td>26.0</td>\n",
       "      <td>183</td>\n",
       "      <td>0.0</td>\n",
       "      <td>train</td>\n",
       "    </tr>\n",
       "    <tr>\n",
       "      <th>2</th>\n",
       "      <td>3</td>\n",
       "      <td>Male</td>\n",
       "      <td>47</td>\n",
       "      <td>1</td>\n",
       "      <td>28.0</td>\n",
       "      <td>0</td>\n",
       "      <td>&gt; 2 Years</td>\n",
       "      <td>Yes</td>\n",
       "      <td>38294.0</td>\n",
       "      <td>26.0</td>\n",
       "      <td>27</td>\n",
       "      <td>1.0</td>\n",
       "      <td>train</td>\n",
       "    </tr>\n",
       "  </tbody>\n",
       "</table>\n",
       "</div>"
      ],
      "text/plain": [
       "   id Gender  Age  Driving_License  Region_Code  Previously_Insured  \\\n",
       "0   1   Male   44                1         28.0                   0   \n",
       "1   2   Male   76                1          3.0                   0   \n",
       "2   3   Male   47                1         28.0                   0   \n",
       "\n",
       "  Vehicle_Age Vehicle_Damage  Annual_Premium  Policy_Sales_Channel  Vintage  \\\n",
       "0   > 2 Years            Yes         40454.0                  26.0      217   \n",
       "1    1-2 Year             No         33536.0                  26.0      183   \n",
       "2   > 2 Years            Yes         38294.0                  26.0       27   \n",
       "\n",
       "   Response source  \n",
       "0       1.0  train  \n",
       "1       0.0  train  \n",
       "2       1.0  train  "
      ]
     },
     "execution_count": 333,
     "metadata": {},
     "output_type": "execute_result"
    }
   ],
   "source": [
    "df_train['source'] = 'train'\n",
    "df_test['source'] = 'test'\n",
    "df = pd.concat([df_train,df_test])\n",
    "df.reset_index(inplace=True,drop=True)\n",
    "df.head(3)"
   ]
  },
  {
   "cell_type": "code",
   "execution_count": 334,
   "id": "708d4fd9",
   "metadata": {},
   "outputs": [
    {
     "data": {
      "text/html": [
       "<div>\n",
       "<style scoped>\n",
       "    .dataframe tbody tr th:only-of-type {\n",
       "        vertical-align: middle;\n",
       "    }\n",
       "\n",
       "    .dataframe tbody tr th {\n",
       "        vertical-align: top;\n",
       "    }\n",
       "\n",
       "    .dataframe thead th {\n",
       "        text-align: right;\n",
       "    }\n",
       "</style>\n",
       "<table border=\"1\" class=\"dataframe\">\n",
       "  <thead>\n",
       "    <tr style=\"text-align: right;\">\n",
       "      <th></th>\n",
       "      <th>id</th>\n",
       "      <th>Gender</th>\n",
       "      <th>Age</th>\n",
       "      <th>Driving_License</th>\n",
       "      <th>Region_Code</th>\n",
       "      <th>Previously_Insured</th>\n",
       "      <th>Vehicle_Age</th>\n",
       "      <th>Vehicle_Damage</th>\n",
       "      <th>Annual_Premium</th>\n",
       "      <th>Policy_Sales_Channel</th>\n",
       "      <th>Vintage</th>\n",
       "      <th>Response</th>\n",
       "      <th>source</th>\n",
       "    </tr>\n",
       "  </thead>\n",
       "  <tbody>\n",
       "    <tr>\n",
       "      <th>508143</th>\n",
       "      <td>508144</td>\n",
       "      <td>Male</td>\n",
       "      <td>21</td>\n",
       "      <td>1</td>\n",
       "      <td>46.0</td>\n",
       "      <td>1</td>\n",
       "      <td>&lt; 1 Year</td>\n",
       "      <td>No</td>\n",
       "      <td>29802.0</td>\n",
       "      <td>152.0</td>\n",
       "      <td>74</td>\n",
       "      <td>NaN</td>\n",
       "      <td>test</td>\n",
       "    </tr>\n",
       "    <tr>\n",
       "      <th>508144</th>\n",
       "      <td>508145</td>\n",
       "      <td>Male</td>\n",
       "      <td>71</td>\n",
       "      <td>1</td>\n",
       "      <td>28.0</td>\n",
       "      <td>1</td>\n",
       "      <td>1-2 Year</td>\n",
       "      <td>No</td>\n",
       "      <td>62875.0</td>\n",
       "      <td>26.0</td>\n",
       "      <td>265</td>\n",
       "      <td>NaN</td>\n",
       "      <td>test</td>\n",
       "    </tr>\n",
       "    <tr>\n",
       "      <th>508145</th>\n",
       "      <td>508146</td>\n",
       "      <td>Male</td>\n",
       "      <td>41</td>\n",
       "      <td>1</td>\n",
       "      <td>29.0</td>\n",
       "      <td>1</td>\n",
       "      <td>1-2 Year</td>\n",
       "      <td>No</td>\n",
       "      <td>27927.0</td>\n",
       "      <td>124.0</td>\n",
       "      <td>231</td>\n",
       "      <td>NaN</td>\n",
       "      <td>test</td>\n",
       "    </tr>\n",
       "  </tbody>\n",
       "</table>\n",
       "</div>"
      ],
      "text/plain": [
       "            id Gender  Age  Driving_License  Region_Code  Previously_Insured  \\\n",
       "508143  508144   Male   21                1         46.0                   1   \n",
       "508144  508145   Male   71                1         28.0                   1   \n",
       "508145  508146   Male   41                1         29.0                   1   \n",
       "\n",
       "       Vehicle_Age Vehicle_Damage  Annual_Premium  Policy_Sales_Channel  \\\n",
       "508143    < 1 Year             No         29802.0                 152.0   \n",
       "508144    1-2 Year             No         62875.0                  26.0   \n",
       "508145    1-2 Year             No         27927.0                 124.0   \n",
       "\n",
       "        Vintage  Response source  \n",
       "508143       74       NaN   test  \n",
       "508144      265       NaN   test  \n",
       "508145      231       NaN   test  "
      ]
     },
     "execution_count": 334,
     "metadata": {},
     "output_type": "execute_result"
    }
   ],
   "source": [
    "df.tail(3)"
   ]
  },
  {
   "cell_type": "code",
   "execution_count": 335,
   "id": "7149d026",
   "metadata": {},
   "outputs": [
    {
     "data": {
      "text/plain": [
       "train    381109\n",
       "test     127037\n",
       "Name: source, dtype: int64"
      ]
     },
     "execution_count": 335,
     "metadata": {},
     "output_type": "execute_result"
    }
   ],
   "source": [
    "df['source'].value_counts()"
   ]
  },
  {
   "cell_type": "markdown",
   "id": "113b111f",
   "metadata": {},
   "source": [
    "## Check Shapes of Train and Test data"
   ]
  },
  {
   "cell_type": "code",
   "execution_count": 336,
   "id": "80b758f7",
   "metadata": {},
   "outputs": [
    {
     "data": {
      "text/plain": [
       "(381109, 13)"
      ]
     },
     "execution_count": 336,
     "metadata": {},
     "output_type": "execute_result"
    }
   ],
   "source": [
    "df_train.shape"
   ]
  },
  {
   "cell_type": "code",
   "execution_count": 337,
   "id": "4d71eb45",
   "metadata": {},
   "outputs": [
    {
     "data": {
      "text/plain": [
       "(127037, 12)"
      ]
     },
     "execution_count": 337,
     "metadata": {},
     "output_type": "execute_result"
    }
   ],
   "source": [
    "df_test.shape"
   ]
  },
  {
   "cell_type": "code",
   "execution_count": 338,
   "id": "48e1b3e9",
   "metadata": {},
   "outputs": [
    {
     "data": {
      "text/plain": [
       "(508146, 13)"
      ]
     },
     "execution_count": 338,
     "metadata": {},
     "output_type": "execute_result"
    }
   ],
   "source": [
    "df.shape"
   ]
  },
  {
   "cell_type": "markdown",
   "id": "4aa90e3e",
   "metadata": {},
   "source": [
    "## Check for duplicates of data"
   ]
  },
  {
   "cell_type": "code",
   "execution_count": 339,
   "id": "312d5aa9",
   "metadata": {},
   "outputs": [
    {
     "data": {
      "text/plain": [
       "0"
      ]
     },
     "execution_count": 339,
     "metadata": {},
     "output_type": "execute_result"
    }
   ],
   "source": [
    "df_train.duplicated().sum()"
   ]
  },
  {
   "cell_type": "code",
   "execution_count": 340,
   "id": "d5ef94f6",
   "metadata": {},
   "outputs": [
    {
     "data": {
      "text/plain": [
       "0"
      ]
     },
     "execution_count": 340,
     "metadata": {},
     "output_type": "execute_result"
    }
   ],
   "source": [
    "df_test.duplicated().sum()"
   ]
  },
  {
   "cell_type": "code",
   "execution_count": 341,
   "id": "c18ec188",
   "metadata": {},
   "outputs": [
    {
     "data": {
      "text/plain": [
       "0"
      ]
     },
     "execution_count": 341,
     "metadata": {},
     "output_type": "execute_result"
    }
   ],
   "source": [
    "df.drop(columns=['source','Response']).duplicated().sum()"
   ]
  },
  {
   "cell_type": "markdown",
   "id": "b4fe6b39",
   "metadata": {},
   "source": [
    "## Understanding of Target variable"
   ]
  },
  {
   "cell_type": "markdown",
   "id": "b5ea9bab",
   "metadata": {},
   "source": [
    "## Summary\n",
    "1. 12% are only the right targetted customers among all. hence percentage is small"
   ]
  },
  {
   "cell_type": "code",
   "execution_count": 342,
   "id": "6a1410bf",
   "metadata": {},
   "outputs": [
    {
     "data": {
      "text/plain": [
       "0    334399\n",
       "1     46710\n",
       "Name: Response, dtype: int64"
      ]
     },
     "execution_count": 342,
     "metadata": {},
     "output_type": "execute_result"
    }
   ],
   "source": [
    "df_train['Response'].value_counts(dropna=False)"
   ]
  },
  {
   "cell_type": "code",
   "execution_count": 343,
   "id": "1fe75c25",
   "metadata": {},
   "outputs": [
    {
     "data": {
      "text/plain": [
       "<AxesSubplot:ylabel='Response'>"
      ]
     },
     "execution_count": 343,
     "metadata": {},
     "output_type": "execute_result"
    },
    {
     "data": {
      "image/png": "[encoded data removed]",
      "text/plain": [
       "<Figure size 432x288 with 1 Axes>"
      ]
     },
     "metadata": {},
     "output_type": "display_data"
    }
   ],
   "source": [
    "df_train['Response'].value_counts(normalize=True,dropna=False).plot(kind='pie',legend=True,autopct= '%1.1f%%')"
   ]
  },
  {
   "cell_type": "markdown",
   "id": "be683027",
   "metadata": {},
   "source": [
    "## Understanding the data and summary of observations.\n",
    "1. Data is free of Null values. Good to have.\n",
    "    ### Column specific understandings: \n",
    "        Numerical continuous : Age,Vintage,Annual_Premium,\n",
    "        Numerical discrete   :\n",
    "        Categorical ordinal  : Vehicle_Age\n",
    "        Categorical nominal  : Gender,Driving_License,Previously_Insured,Vehicle_Damage,Policy_Sales_Channel\n",
    "        \n",
    "2. <b>id</b> : needs to be dropped during training.\n",
    "3. <b>Gender</b> : \n",
    "       univariate : Data set has approximately same percentage of men and women presence\n",
    "       bivariate  : Both have same probability to get response\n",
    "4. <b>Driving_License</b> : \n",
    "       univariate : Data set has people who has driving license mostly.\n",
    "       bivariate  : We have more response from the people who has driving license\n",
    "5. <b>Previously_Insured</b> : \n",
    "       univariate : Data set has approximately same percentage of already having and not having the vehicle insurance\n",
    "       bivariate  : We have good respones from the People who don't have the vehicle insurance already \n",
    "6. <b>Vehicle_Damage</b> : \n",
    "       univariate : Data set has approximately same percentage of history of damage and non damage.\n",
    "       bivariate  : We have more responses from the people with history of damage \n",
    "7. <b>Policy_Sales_Channel</b> : \n",
    "       univariate : Data set has approximately same percentage of men and women presence\n",
    "       bivariate  : Both have same probability to get response.\n",
    "8. <b>Vehicle_Age</b> : \n",
    "       univariate : Given data consist of 95% customers whose vehicle age is 0 to 2 years. only 5% are having more than 2 years.\n",
    "       bivariate  : We have good responses from the customers with vehicle age > 2 years and least reponses from the customers with vehicle age <1\n",
    "9. <b>Age</b> : \n",
    "       univariate : we have customers across the age slabs\n",
    "       bivariate  : not much difference among age groups\n",
    "10. <b>Vintage</b> : \n",
    "        univariate : We have given the data with max 300 days which is around 10 months of data\n",
    "        bivariate  : Responses are independent of vingage as it has response ratio even across the vintage. Starting month and last ( 10 months) vintage customers given less response when compare to other categories\n",
    "11. <b>Annual_Premium</b> :\n",
    "        univariate : Data set has more medium level pay customers and very less of 'very high' amount of premiums\n",
    "        bivariate  : not much difference among premiums slabs."
   ]
  },
  {
   "cell_type": "code",
   "execution_count": 344,
   "id": "d8d2ce8c",
   "metadata": {},
   "outputs": [
    {
     "name": "stdout",
     "output_type": "stream",
     "text": [
      "<class 'pandas.core.frame.DataFrame'>\n",
      "RangeIndex: 508146 entries, 0 to 508145\n",
      "Data columns (total 13 columns):\n",
      " #   Column                Non-Null Count   Dtype  \n",
      "---  ------                --------------   -----  \n",
      " 0   id                    508146 non-null  int64  \n",
      " 1   Gender                508146 non-null  object \n",
      " 2   Age                   508146 non-null  int64  \n",
      " 3   Driving_License       508146 non-null  int64  \n",
      " 4   Region_Code           508146 non-null  float64\n",
      " 5   Previously_Insured    508146 non-null  int64  \n",
      " 6   Vehicle_Age           508146 non-null  object \n",
      " 7   Vehicle_Damage        508146 non-null  object \n",
      " 8   Annual_Premium        508146 non-null  float64\n",
      " 9   Policy_Sales_Channel  508146 non-null  float64\n",
      " 10  Vintage               508146 non-null  int64  \n",
      " 11  Response              381109 non-null  float64\n",
      " 12  source                508146 non-null  object \n",
      "dtypes: float64(4), int64(5), object(4)\n",
      "memory usage: 50.4+ MB\n"
     ]
    }
   ],
   "source": [
    "df.info()"
   ]
  },
  {
   "cell_type": "code",
   "execution_count": 345,
   "id": "c32975a2",
   "metadata": {},
   "outputs": [
    {
     "data": {
      "text/html": [
       "<div>\n",
       "<style scoped>\n",
       "    .dataframe tbody tr th:only-of-type {\n",
       "        vertical-align: middle;\n",
       "    }\n",
       "\n",
       "    .dataframe tbody tr th {\n",
       "        vertical-align: top;\n",
       "    }\n",
       "\n",
       "    .dataframe thead th {\n",
       "        text-align: right;\n",
       "    }\n",
       "</style>\n",
       "<table border=\"1\" class=\"dataframe\">\n",
       "  <thead>\n",
       "    <tr style=\"text-align: right;\">\n",
       "      <th></th>\n",
       "      <th>id</th>\n",
       "      <th>Age</th>\n",
       "      <th>Driving_License</th>\n",
       "      <th>Region_Code</th>\n",
       "      <th>Previously_Insured</th>\n",
       "      <th>Annual_Premium</th>\n",
       "      <th>Policy_Sales_Channel</th>\n",
       "      <th>Vintage</th>\n",
       "      <th>Response</th>\n",
       "    </tr>\n",
       "  </thead>\n",
       "  <tbody>\n",
       "    <tr>\n",
       "      <th>count</th>\n",
       "      <td>508146.000000</td>\n",
       "      <td>508146.000000</td>\n",
       "      <td>508146.000000</td>\n",
       "      <td>508146.000000</td>\n",
       "      <td>508146.000000</td>\n",
       "      <td>508146.000000</td>\n",
       "      <td>508146.000000</td>\n",
       "      <td>508146.000000</td>\n",
       "      <td>381109.000000</td>\n",
       "    </tr>\n",
       "    <tr>\n",
       "      <th>mean</th>\n",
       "      <td>254073.500000</td>\n",
       "      <td>38.808413</td>\n",
       "      <td>0.997936</td>\n",
       "      <td>26.406572</td>\n",
       "      <td>0.458667</td>\n",
       "      <td>30554.453041</td>\n",
       "      <td>111.975838</td>\n",
       "      <td>154.340123</td>\n",
       "      <td>0.122563</td>\n",
       "    </tr>\n",
       "    <tr>\n",
       "      <th>std</th>\n",
       "      <td>146689.259281</td>\n",
       "      <td>15.500179</td>\n",
       "      <td>0.045388</td>\n",
       "      <td>13.224921</td>\n",
       "      <td>0.498289</td>\n",
       "      <td>17146.574625</td>\n",
       "      <td>54.246027</td>\n",
       "      <td>83.668793</td>\n",
       "      <td>0.327936</td>\n",
       "    </tr>\n",
       "    <tr>\n",
       "      <th>min</th>\n",
       "      <td>1.000000</td>\n",
       "      <td>20.000000</td>\n",
       "      <td>0.000000</td>\n",
       "      <td>0.000000</td>\n",
       "      <td>0.000000</td>\n",
       "      <td>2630.000000</td>\n",
       "      <td>1.000000</td>\n",
       "      <td>10.000000</td>\n",
       "      <td>0.000000</td>\n",
       "    </tr>\n",
       "    <tr>\n",
       "      <th>25%</th>\n",
       "      <td>127037.250000</td>\n",
       "      <td>25.000000</td>\n",
       "      <td>1.000000</td>\n",
       "      <td>15.000000</td>\n",
       "      <td>0.000000</td>\n",
       "      <td>24381.000000</td>\n",
       "      <td>26.000000</td>\n",
       "      <td>82.000000</td>\n",
       "      <td>0.000000</td>\n",
       "    </tr>\n",
       "    <tr>\n",
       "      <th>50%</th>\n",
       "      <td>254073.500000</td>\n",
       "      <td>36.000000</td>\n",
       "      <td>1.000000</td>\n",
       "      <td>28.000000</td>\n",
       "      <td>0.000000</td>\n",
       "      <td>31661.000000</td>\n",
       "      <td>133.000000</td>\n",
       "      <td>154.000000</td>\n",
       "      <td>0.000000</td>\n",
       "    </tr>\n",
       "    <tr>\n",
       "      <th>75%</th>\n",
       "      <td>381109.750000</td>\n",
       "      <td>49.000000</td>\n",
       "      <td>1.000000</td>\n",
       "      <td>35.000000</td>\n",
       "      <td>1.000000</td>\n",
       "      <td>39403.750000</td>\n",
       "      <td>152.000000</td>\n",
       "      <td>227.000000</td>\n",
       "      <td>0.000000</td>\n",
       "    </tr>\n",
       "    <tr>\n",
       "      <th>max</th>\n",
       "      <td>508146.000000</td>\n",
       "      <td>85.000000</td>\n",
       "      <td>1.000000</td>\n",
       "      <td>52.000000</td>\n",
       "      <td>1.000000</td>\n",
       "      <td>540165.000000</td>\n",
       "      <td>163.000000</td>\n",
       "      <td>299.000000</td>\n",
       "      <td>1.000000</td>\n",
       "    </tr>\n",
       "  </tbody>\n",
       "</table>\n",
       "</div>"
      ],
      "text/plain": [
       "                  id            Age  Driving_License    Region_Code  \\\n",
       "count  508146.000000  508146.000000    508146.000000  508146.000000   \n",
       "mean   254073.500000      38.808413         0.997936      26.406572   \n",
       "std    146689.259281      15.500179         0.045388      13.224921   \n",
       "min         1.000000      20.000000         0.000000       0.000000   \n",
       "25%    127037.250000      25.000000         1.000000      15.000000   \n",
       "50%    254073.500000      36.000000         1.000000      28.000000   \n",
       "75%    381109.750000      49.000000         1.000000      35.000000   \n",
       "max    508146.000000      85.000000         1.000000      52.000000   \n",
       "\n",
       "       Previously_Insured  Annual_Premium  Policy_Sales_Channel  \\\n",
       "count       508146.000000   508146.000000         508146.000000   \n",
       "mean             0.458667    30554.453041            111.975838   \n",
       "std              0.498289    17146.574625             54.246027   \n",
       "min              0.000000     2630.000000              1.000000   \n",
       "25%              0.000000    24381.000000             26.000000   \n",
       "50%              0.000000    31661.000000            133.000000   \n",
       "75%              1.000000    39403.750000            152.000000   \n",
       "max              1.000000   540165.000000            163.000000   \n",
       "\n",
       "             Vintage       Response  \n",
       "count  508146.000000  381109.000000  \n",
       "mean      154.340123       0.122563  \n",
       "std        83.668793       0.327936  \n",
       "min        10.000000       0.000000  \n",
       "25%        82.000000       0.000000  \n",
       "50%       154.000000       0.000000  \n",
       "75%       227.000000       0.000000  \n",
       "max       299.000000       1.000000  "
      ]
     },
     "execution_count": 345,
     "metadata": {},
     "output_type": "execute_result"
    }
   ],
   "source": [
    "df.describe()"
   ]
  },
  {
   "cell_type": "code",
   "execution_count": 346,
   "id": "0fc13b93",
   "metadata": {},
   "outputs": [
    {
     "name": "stderr",
     "output_type": "stream",
     "text": [
      "/tmp/ipykernel_96781/3211851552.py:1: DeprecationWarning: `np.object` is a deprecated alias for the builtin `object`. To silence this warning, use `object` by itself. Doing this will not modify any behavior and is safe. \n",
      "Deprecated in NumPy 1.20; for more details and guidance: https://numpy.org/devdocs/release/1.20.0-notes.html#deprecations\n",
      "  df.describe(include=np.object)\n"
     ]
    },
    {
     "data": {
      "text/html": [
       "<div>\n",
       "<style scoped>\n",
       "    .dataframe tbody tr th:only-of-type {\n",
       "        vertical-align: middle;\n",
       "    }\n",
       "\n",
       "    .dataframe tbody tr th {\n",
       "        vertical-align: top;\n",
       "    }\n",
       "\n",
       "    .dataframe thead th {\n",
       "        text-align: right;\n",
       "    }\n",
       "</style>\n",
       "<table border=\"1\" class=\"dataframe\">\n",
       "  <thead>\n",
       "    <tr style=\"text-align: right;\">\n",
       "      <th></th>\n",
       "      <th>Gender</th>\n",
       "      <th>Vehicle_Age</th>\n",
       "      <th>Vehicle_Damage</th>\n",
       "      <th>source</th>\n",
       "    </tr>\n",
       "  </thead>\n",
       "  <tbody>\n",
       "    <tr>\n",
       "      <th>count</th>\n",
       "      <td>508146</td>\n",
       "      <td>508146</td>\n",
       "      <td>508146</td>\n",
       "      <td>508146</td>\n",
       "    </tr>\n",
       "    <tr>\n",
       "      <th>unique</th>\n",
       "      <td>2</td>\n",
       "      <td>3</td>\n",
       "      <td>2</td>\n",
       "      <td>2</td>\n",
       "    </tr>\n",
       "    <tr>\n",
       "      <th>top</th>\n",
       "      <td>Male</td>\n",
       "      <td>1-2 Year</td>\n",
       "      <td>Yes</td>\n",
       "      <td>train</td>\n",
       "    </tr>\n",
       "    <tr>\n",
       "      <th>freq</th>\n",
       "      <td>274325</td>\n",
       "      <td>267015</td>\n",
       "      <td>256248</td>\n",
       "      <td>381109</td>\n",
       "    </tr>\n",
       "  </tbody>\n",
       "</table>\n",
       "</div>"
      ],
      "text/plain": [
       "        Gender Vehicle_Age Vehicle_Damage  source\n",
       "count   508146      508146         508146  508146\n",
       "unique       2           3              2       2\n",
       "top       Male    1-2 Year            Yes   train\n",
       "freq    274325      267015         256248  381109"
      ]
     },
     "execution_count": 346,
     "metadata": {},
     "output_type": "execute_result"
    }
   ],
   "source": [
    "df.describe(include=np.object)"
   ]
  },
  {
   "cell_type": "code",
   "execution_count": 347,
   "id": "71d38aad",
   "metadata": {},
   "outputs": [
    {
     "data": {
      "text/plain": [
       "id                           0\n",
       "Gender                       0\n",
       "Age                          0\n",
       "Driving_License              0\n",
       "Region_Code                  0\n",
       "Previously_Insured           0\n",
       "Vehicle_Age                  0\n",
       "Vehicle_Damage               0\n",
       "Annual_Premium               0\n",
       "Policy_Sales_Channel         0\n",
       "Vintage                      0\n",
       "Response                127037\n",
       "source                       0\n",
       "dtype: int64"
      ]
     },
     "execution_count": 347,
     "metadata": {},
     "output_type": "execute_result"
    }
   ],
   "source": [
    "# Observation : Good that no null values present\n",
    "df.isna().sum()"
   ]
  },
  {
   "cell_type": "markdown",
   "id": "bd9ec4dd",
   "metadata": {},
   "source": [
    "#### Univariate analysis of Gender column"
   ]
  },
  {
   "cell_type": "code",
   "execution_count": 348,
   "id": "b18a5328",
   "metadata": {},
   "outputs": [
    {
     "data": {
      "text/plain": [
       "Male      274325\n",
       "Female    233821\n",
       "Name: Gender, dtype: int64"
      ]
     },
     "execution_count": 348,
     "metadata": {},
     "output_type": "execute_result"
    }
   ],
   "source": [
    "df['Gender'].value_counts(dropna=False)"
   ]
  },
  {
   "cell_type": "code",
   "execution_count": 349,
   "id": "c656c381",
   "metadata": {},
   "outputs": [
    {
     "data": {
      "text/plain": [
       "<AxesSubplot:ylabel='Gender'>"
      ]
     },
     "execution_count": 349,
     "metadata": {},
     "output_type": "execute_result"
    },
    {
     "data": {
      "image/png": "[encoded data removed]",
      "text/plain": [
       "<Figure size 432x288 with 1 Axes>"
      ]
     },
     "metadata": {},
     "output_type": "display_data"
    }
   ],
   "source": [
    "df['Gender'].value_counts(normalize=True,dropna=False).plot(kind='pie',legend=True,autopct= '%1.1f%%')"
   ]
  },
  {
   "cell_type": "markdown",
   "id": "1468a944",
   "metadata": {},
   "source": [
    "\n",
    "#### Bivariate analysis of Gendor column"
   ]
  },
  {
   "cell_type": "code",
   "execution_count": 350,
   "id": "ff210c5f",
   "metadata": {},
   "outputs": [
    {
     "data": {
      "text/plain": [
       "<AxesSubplot:xlabel='Gender'>"
      ]
     },
     "execution_count": 350,
     "metadata": {},
     "output_type": "execute_result"
    },
    {
     "data": {
      "image/png": "[encoded data removed]",
      "text/plain": [
       "<Figure size 432x288 with 1 Axes>"
      ]
     },
     "metadata": {
      "needs_background": "light"
     },
     "output_type": "display_data"
    }
   ],
   "source": [
    "Gender = pd.crosstab(df['Gender'],df['Response'])\n",
    "Gender.div(Gender.sum(1).astype('float'),axis=0).plot(kind='bar', stacked=True)"
   ]
  },
  {
   "cell_type": "markdown",
   "id": "7cdf7174",
   "metadata": {},
   "source": [
    "#### Univariate analysis of Driving_License column"
   ]
  },
  {
   "cell_type": "code",
   "execution_count": 351,
   "id": "ef687a2e",
   "metadata": {},
   "outputs": [
    {
     "data": {
      "text/plain": [
       "1    507097\n",
       "0      1049\n",
       "Name: Driving_License, dtype: int64"
      ]
     },
     "execution_count": 351,
     "metadata": {},
     "output_type": "execute_result"
    }
   ],
   "source": [
    "df['Driving_License'].value_counts(dropna=False)"
   ]
  },
  {
   "cell_type": "code",
   "execution_count": 352,
   "id": "8f9247a8",
   "metadata": {},
   "outputs": [
    {
     "data": {
      "text/plain": [
       "<AxesSubplot:ylabel='Driving_License'>"
      ]
     },
     "execution_count": 352,
     "metadata": {},
     "output_type": "execute_result"
    },
    {
     "data": {
      "image/png": "[encoded data removed]",
      "text/plain": [
       "<Figure size 432x288 with 1 Axes>"
      ]
     },
     "metadata": {},
     "output_type": "display_data"
    }
   ],
   "source": [
    "df['Driving_License'].value_counts(normalize=True,dropna=False).plot(kind='pie',legend=True,autopct= '%1.1f%%')"
   ]
  },
  {
   "cell_type": "markdown",
   "id": "4b11bb67",
   "metadata": {},
   "source": [
    "\n",
    "#### Bivariate analysis of Driving_License column"
   ]
  },
  {
   "cell_type": "code",
   "execution_count": 353,
   "id": "14e86d14",
   "metadata": {},
   "outputs": [
    {
     "data": {
      "text/plain": [
       "<AxesSubplot:xlabel='Driving_License'>"
      ]
     },
     "execution_count": 353,
     "metadata": {},
     "output_type": "execute_result"
    },
    {
     "data": {
      "image/png": "[encoded data removed]",
      "text/plain": [
       "<Figure size 432x288 with 1 Axes>"
      ]
     },
     "metadata": {
      "needs_background": "light"
     },
     "output_type": "display_data"
    }
   ],
   "source": [
    "Driving_License = pd.crosstab(df['Driving_License'],df['Response'])\n",
    "Driving_License.div(Driving_License.sum(1).astype('float'),axis=0).plot(kind='bar', stacked=True)"
   ]
  },
  {
   "cell_type": "markdown",
   "id": "559949c2",
   "metadata": {},
   "source": [
    "#### Univariate analysis of Previously_Insured column"
   ]
  },
  {
   "cell_type": "markdown",
   "id": "bb31c6f0",
   "metadata": {},
   "source": [
    "#### Univariate analysis of Gender column"
   ]
  },
  {
   "cell_type": "code",
   "execution_count": 354,
   "id": "901443e0",
   "metadata": {},
   "outputs": [
    {
     "data": {
      "text/plain": [
       "0    275076\n",
       "1    233070\n",
       "Name: Previously_Insured, dtype: int64"
      ]
     },
     "execution_count": 354,
     "metadata": {},
     "output_type": "execute_result"
    }
   ],
   "source": [
    "df['Previously_Insured'].value_counts(dropna=False)"
   ]
  },
  {
   "cell_type": "code",
   "execution_count": 355,
   "id": "66a86583",
   "metadata": {},
   "outputs": [
    {
     "data": {
      "text/plain": [
       "<AxesSubplot:ylabel='Previously_Insured'>"
      ]
     },
     "execution_count": 355,
     "metadata": {},
     "output_type": "execute_result"
    },
    {
     "data": {
      "image/png": "[encoded data removed]",
      "text/plain": [
       "<Figure size 432x288 with 1 Axes>"
      ]
     },
     "metadata": {},
     "output_type": "display_data"
    }
   ],
   "source": [
    "df['Previously_Insured'].value_counts(normalize=True,dropna=False).plot(kind='pie',legend=True,autopct= '%1.1f%%')"
   ]
  },
  {
   "cell_type": "markdown",
   "id": "e1c994d9",
   "metadata": {},
   "source": [
    "\n",
    "#### Bivariate analysis of Previously_Insured column"
   ]
  },
  {
   "cell_type": "code",
   "execution_count": 356,
   "id": "ad600296",
   "metadata": {},
   "outputs": [
    {
     "data": {
      "text/plain": [
       "<AxesSubplot:xlabel='Previously_Insured'>"
      ]
     },
     "execution_count": 356,
     "metadata": {},
     "output_type": "execute_result"
    },
    {
     "data": {
      "image/png": "[encoded data removed]",
      "text/plain": [
       "<Figure size 432x288 with 1 Axes>"
      ]
     },
     "metadata": {
      "needs_background": "light"
     },
     "output_type": "display_data"
    }
   ],
   "source": [
    "Previously_Insured = pd.crosstab(df['Previously_Insured'],df['Response'])\n",
    "Previously_Insured.div(Previously_Insured.sum(1).astype('float'),axis=0).plot(kind='bar', stacked=True)"
   ]
  },
  {
   "cell_type": "markdown",
   "id": "0999d1ba",
   "metadata": {},
   "source": [
    "#### Univariate analysis of Driving license column"
   ]
  },
  {
   "cell_type": "code",
   "execution_count": 357,
   "id": "a2601e65",
   "metadata": {},
   "outputs": [
    {
     "data": {
      "text/plain": [
       "Yes    256248\n",
       "No     251898\n",
       "Name: Vehicle_Damage, dtype: int64"
      ]
     },
     "execution_count": 357,
     "metadata": {},
     "output_type": "execute_result"
    }
   ],
   "source": [
    "df['Vehicle_Damage'].value_counts(dropna=False)"
   ]
  },
  {
   "cell_type": "code",
   "execution_count": 358,
   "id": "2bdb5675",
   "metadata": {},
   "outputs": [
    {
     "data": {
      "text/plain": [
       "<AxesSubplot:ylabel='Vehicle_Damage'>"
      ]
     },
     "execution_count": 358,
     "metadata": {},
     "output_type": "execute_result"
    },
    {
     "data": {
      "image/png": "[encoded data removed]",
      "text/plain": [
       "<Figure size 432x288 with 1 Axes>"
      ]
     },
     "metadata": {},
     "output_type": "display_data"
    }
   ],
   "source": [
    "df['Vehicle_Damage'].value_counts(normalize=True,dropna=False).plot(kind='pie',legend=True,autopct= '%1.1f%%')"
   ]
  },
  {
   "cell_type": "markdown",
   "id": "fb957d83",
   "metadata": {},
   "source": [
    "\n",
    "#### Bivariate analysis of Driving license column"
   ]
  },
  {
   "cell_type": "code",
   "execution_count": 359,
   "id": "be63afad",
   "metadata": {},
   "outputs": [
    {
     "data": {
      "text/plain": [
       "<AxesSubplot:xlabel='Vehicle_Damage'>"
      ]
     },
     "execution_count": 359,
     "metadata": {},
     "output_type": "execute_result"
    },
    {
     "data": {
      "image/png": "[encoded data removed]",
      "text/plain": [
       "<Figure size 432x288 with 1 Axes>"
      ]
     },
     "metadata": {
      "needs_background": "light"
     },
     "output_type": "display_data"
    }
   ],
   "source": [
    "Vehicle_Damage = pd.crosstab(df['Vehicle_Damage'],df['Response'])\n",
    "Vehicle_Damage.div(Vehicle_Damage.sum(1).astype('float'),axis=0).plot(kind='bar', stacked=True)"
   ]
  },
  {
   "cell_type": "markdown",
   "id": "2d17939b",
   "metadata": {},
   "source": [
    "#### Univariate analysis of Policy_Sales_Channel column"
   ]
  },
  {
   "cell_type": "code",
   "execution_count": 360,
   "id": "7e8f84d6",
   "metadata": {},
   "outputs": [
    {
     "data": {
      "text/plain": [
       "152.0    179523\n",
       "26.0     106594\n",
       "124.0     98299\n",
       "160.0     29090\n",
       "156.0     14313\n",
       "122.0     13239\n",
       "157.0      8958\n",
       "154.0      7988\n",
       "151.0      5271\n",
       "163.0      3850\n",
       "13.0       2498\n",
       "25.0       2407\n",
       "7.0        2157\n",
       "8.0        2027\n",
       "30.0       1897\n",
       "55.0       1679\n",
       "11.0       1601\n",
       "155.0      1592\n",
       "1.0        1460\n",
       "52.0       1447\n",
       "125.0      1332\n",
       "15.0       1201\n",
       "29.0       1153\n",
       "120.0      1012\n",
       "12.0       1010\n",
       "24.0        994\n",
       "31.0        875\n",
       "153.0       819\n",
       "14.0        812\n",
       "61.0        767\n",
       "Name: Policy_Sales_Channel, dtype: int64"
      ]
     },
     "execution_count": 360,
     "metadata": {},
     "output_type": "execute_result"
    }
   ],
   "source": [
    "df['Policy_Sales_Channel'].value_counts(dropna=False).head(30)"
   ]
  },
  {
   "cell_type": "code",
   "execution_count": 361,
   "id": "dab9d106",
   "metadata": {},
   "outputs": [
    {
     "data": {
      "text/plain": [
       "<AxesSubplot:ylabel='Policy_Sales_Channel'>"
      ]
     },
     "execution_count": 361,
     "metadata": {},
     "output_type": "execute_result"
    },
    {
     "data": {
      "image/png": "[encoded data removed]",
      "text/plain": [
       "<Figure size 432x288 with 1 Axes>"
      ]
     },
     "metadata": {},
     "output_type": "display_data"
    }
   ],
   "source": [
    "df['Policy_Sales_Channel'].value_counts(normalize=True,dropna=False).plot(kind='pie',legend=True,autopct= '%1.1f%%')"
   ]
  },
  {
   "cell_type": "markdown",
   "id": "47d4c2e9",
   "metadata": {},
   "source": [
    "\n",
    "#### Bivariate analysis of Policy_Sales_Channel column"
   ]
  },
  {
   "cell_type": "code",
   "execution_count": 362,
   "id": "bab1a727",
   "metadata": {},
   "outputs": [
    {
     "data": {
      "text/plain": [
       "<AxesSubplot:xlabel='Policy_Sales_Channel'>"
      ]
     },
     "execution_count": 362,
     "metadata": {},
     "output_type": "execute_result"
    },
    {
     "data": {
      "image/png": "[encoded data removed]",
      "text/plain": [
       "<Figure size 432x288 with 1 Axes>"
      ]
     },
     "metadata": {
      "needs_background": "light"
     },
     "output_type": "display_data"
    }
   ],
   "source": [
    "Policy_Sales_Channel = pd.crosstab(df['Policy_Sales_Channel'],df['Response'])\n",
    "Policy_Sales_Channel.div(Policy_Sales_Channel.sum(1).astype('float'),axis=0).plot(kind='bar', stacked=True)"
   ]
  },
  {
   "cell_type": "markdown",
   "id": "48fcb0bb",
   "metadata": {},
   "source": [
    "#### Univariate analysis of Vehicle_Age column"
   ]
  },
  {
   "cell_type": "code",
   "execution_count": 363,
   "id": "e192d143",
   "metadata": {},
   "outputs": [
    {
     "data": {
      "text/plain": [
       "1-2 Year     267015\n",
       "< 1 Year     219805\n",
       "> 2 Years     21326\n",
       "Name: Vehicle_Age, dtype: int64"
      ]
     },
     "execution_count": 363,
     "metadata": {},
     "output_type": "execute_result"
    }
   ],
   "source": [
    "df['Vehicle_Age'].value_counts(dropna=False)"
   ]
  },
  {
   "cell_type": "code",
   "execution_count": 364,
   "id": "178a1e49",
   "metadata": {},
   "outputs": [
    {
     "data": {
      "text/plain": [
       "<AxesSubplot:ylabel='Vehicle_Age'>"
      ]
     },
     "execution_count": 364,
     "metadata": {},
     "output_type": "execute_result"
    },
    {
     "data": {
      "image/png": "[encoded data removed]",
      "text/plain": [
       "<Figure size 432x288 with 1 Axes>"
      ]
     },
     "metadata": {},
     "output_type": "display_data"
    }
   ],
   "source": [
    "df['Vehicle_Age'].value_counts(normalize=True,dropna=False).plot(kind='pie',legend=True,autopct= '%1.1f%%')"
   ]
  },
  {
   "cell_type": "markdown",
   "id": "93236dcd",
   "metadata": {},
   "source": [
    "\n",
    "#### Bivariate analysis of Vehicle_Age column"
   ]
  },
  {
   "cell_type": "code",
   "execution_count": 365,
   "id": "c447846e",
   "metadata": {},
   "outputs": [
    {
     "data": {
      "text/plain": [
       "<AxesSubplot:xlabel='Vehicle_Age'>"
      ]
     },
     "execution_count": 365,
     "metadata": {},
     "output_type": "execute_result"
    },
    {
     "data": {
      "image/png": "[encoded data removed]",
      "text/plain": [
       "<Figure size 432x288 with 1 Axes>"
      ]
     },
     "metadata": {
      "needs_background": "light"
     },
     "output_type": "display_data"
    }
   ],
   "source": [
    "Vehicle_Age = pd.crosstab(df['Vehicle_Age'],df['Response'])\n",
    "Vehicle_Age.div(Vehicle_Age.sum(1).astype('float'),axis=0).plot(kind='bar', stacked=True)"
   ]
  },
  {
   "cell_type": "markdown",
   "id": "65de9f15",
   "metadata": {},
   "source": [
    "#### Univariate analysis of Age column"
   ]
  },
  {
   "cell_type": "code",
   "execution_count": 366,
   "id": "6a16c355",
   "metadata": {},
   "outputs": [
    {
     "data": {
      "text/plain": [
       "Text(0.5, 1.0, 'Age')"
      ]
     },
     "execution_count": 366,
     "metadata": {},
     "output_type": "execute_result"
    },
    {
     "data": {
      "image/png": "[encoded data removed]",
      "text/plain": [
       "<Figure size 1800x360 with 1 Axes>"
      ]
     },
     "metadata": {
      "needs_background": "light"
     },
     "output_type": "display_data"
    }
   ],
   "source": [
    "df[\"Age\"].value_counts().plot.bar(figsize=(25,5))\n",
    "plt.title(\"Age\")"
   ]
  },
  {
   "cell_type": "code",
   "execution_count": 367,
   "id": "611856dd",
   "metadata": {},
   "outputs": [
    {
     "name": "stderr",
     "output_type": "stream",
     "text": [
      "/home/kiran/anaconda3/lib/python3.9/site-packages/seaborn/distributions.py:2619: FutureWarning: `distplot` is a deprecated function and will be removed in a future version. Please adapt your code to use either `displot` (a figure-level function with similar flexibility) or `histplot` (an axes-level function for histograms).\n",
      "  warnings.warn(msg, FutureWarning)\n"
     ]
    },
    {
     "data": {
      "text/plain": [
       "Text(0.5, 1.0, 'Age')"
      ]
     },
     "execution_count": 367,
     "metadata": {},
     "output_type": "execute_result"
    },
    {
     "data": {
      "image/png": "[encoded data removed]",
      "text/plain": [
       "<Figure size 432x288 with 1 Axes>"
      ]
     },
     "metadata": {
      "needs_background": "light"
     },
     "output_type": "display_data"
    }
   ],
   "source": [
    "sns.distplot(df['Age'])\n",
    "df['Age'].plot\n",
    "plt.title(\"Age\")"
   ]
  },
  {
   "cell_type": "markdown",
   "id": "1f6ff245",
   "metadata": {},
   "source": [
    "\n",
    "#### Bivariate analysis of Age column"
   ]
  },
  {
   "cell_type": "code",
   "execution_count": 368,
   "id": "2e3435c7",
   "metadata": {},
   "outputs": [
    {
     "data": {
      "image/png": "[encoded data removed]",
      "text/plain": [
       "<Figure size 2160x720 with 1 Axes>"
      ]
     },
     "metadata": {
      "needs_background": "light"
     },
     "output_type": "display_data"
    }
   ],
   "source": [
    "DL = pd.crosstab(df['Age'], df['Response'])\n",
    "DL.plot(kind=\"bar\", figsize=(30, 10))\n",
    "plt.title(\"Age and Response crosstab\")\n",
    "plt.show()"
   ]
  },
  {
   "cell_type": "markdown",
   "id": "739a39ba",
   "metadata": {},
   "source": [
    "#### Univariate analysis of Vintage column"
   ]
  },
  {
   "cell_type": "code",
   "execution_count": 369,
   "id": "c9d1e489",
   "metadata": {},
   "outputs": [],
   "source": [
    "#converting vitange in days to months and rounding off"
   ]
  },
  {
   "cell_type": "code",
   "execution_count": 370,
   "id": "8018f68b",
   "metadata": {},
   "outputs": [],
   "source": [
    "df['Vintage'] = df['Vintage']/31\n",
    "df['Vintage'] = df['Vintage'].astype(int)"
   ]
  },
  {
   "cell_type": "code",
   "execution_count": 371,
   "id": "6c18cac9",
   "metadata": {},
   "outputs": [
    {
     "data": {
      "text/plain": [
       "4    54618\n",
       "2    54611\n",
       "6    54424\n",
       "3    54387\n",
       "1    54379\n",
       "7    54342\n",
       "8    54293\n",
       "5    53770\n",
       "0    36771\n",
       "9    36551\n",
       "Name: Vintage, dtype: int64"
      ]
     },
     "execution_count": 371,
     "metadata": {},
     "output_type": "execute_result"
    }
   ],
   "source": [
    "df['Vintage'].value_counts(dropna=False)"
   ]
  },
  {
   "cell_type": "code",
   "execution_count": 372,
   "id": "e7b3002c",
   "metadata": {},
   "outputs": [
    {
     "data": {
      "text/plain": [
       "<AxesSubplot:ylabel='Vintage'>"
      ]
     },
     "execution_count": 372,
     "metadata": {},
     "output_type": "execute_result"
    },
    {
     "data": {
      "image/png": "[encoded data removed]",
      "text/plain": [
       "<Figure size 432x288 with 1 Axes>"
      ]
     },
     "metadata": {},
     "output_type": "display_data"
    }
   ],
   "source": [
    "df['Vintage'].value_counts(normalize=True,dropna=False).plot(kind='pie',legend=False,autopct= '%1.1f%%')"
   ]
  },
  {
   "cell_type": "markdown",
   "id": "6e3a287a",
   "metadata": {},
   "source": [
    "\n",
    "#### Bivariate analysis of Vintage column"
   ]
  },
  {
   "cell_type": "code",
   "execution_count": 373,
   "id": "71d1ebd2",
   "metadata": {},
   "outputs": [
    {
     "data": {
      "text/plain": [
       "<AxesSubplot:xlabel='Vintage'>"
      ]
     },
     "execution_count": 373,
     "metadata": {},
     "output_type": "execute_result"
    },
    {
     "data": {
      "image/png": "[encoded data removed]",
      "text/plain": [
       "<Figure size 432x288 with 1 Axes>"
      ]
     },
     "metadata": {
      "needs_background": "light"
     },
     "output_type": "display_data"
    }
   ],
   "source": [
    "Vintage = pd.crosstab(df['Vintage'],df['Response'])\n",
    "Vintage.div(Vintage.sum(1).astype('float'),axis=0).plot(kind='bar', stacked=True)"
   ]
  },
  {
   "cell_type": "markdown",
   "id": "82a8e01b",
   "metadata": {},
   "source": [
    "#### Univariate analysis of Annual_Premium column"
   ]
  },
  {
   "cell_type": "code",
   "execution_count": 374,
   "id": "c1993cff",
   "metadata": {},
   "outputs": [
    {
     "name": "stderr",
     "output_type": "stream",
     "text": [
      "/home/kiran/anaconda3/lib/python3.9/site-packages/seaborn/distributions.py:2619: FutureWarning: `distplot` is a deprecated function and will be removed in a future version. Please adapt your code to use either `displot` (a figure-level function with similar flexibility) or `histplot` (an axes-level function for histograms).\n",
      "  warnings.warn(msg, FutureWarning)\n"
     ]
    },
    {
     "data": {
      "text/plain": [
       "Text(0.5, 1.0, 'Annual_Premium')"
      ]
     },
     "execution_count": 374,
     "metadata": {},
     "output_type": "execute_result"
    },
    {
     "data": {
      "image/png": "[encoded data removed]",
      "text/plain": [
       "<Figure size 432x288 with 1 Axes>"
      ]
     },
     "metadata": {
      "needs_background": "light"
     },
     "output_type": "display_data"
    }
   ],
   "source": [
    "sns.distplot(df['Annual_Premium'])\n",
    "df['Annual_Premium'].plot\n",
    "plt.title(\"Annual_Premium\")"
   ]
  },
  {
   "cell_type": "markdown",
   "id": "9193b883",
   "metadata": {},
   "source": [
    "## Encoding of categorical variables"
   ]
  },
  {
   "cell_type": "code",
   "execution_count": 375,
   "id": "a253afaf",
   "metadata": {},
   "outputs": [
    {
     "data": {
      "text/html": [
       "<div>\n",
       "<style scoped>\n",
       "    .dataframe tbody tr th:only-of-type {\n",
       "        vertical-align: middle;\n",
       "    }\n",
       "\n",
       "    .dataframe tbody tr th {\n",
       "        vertical-align: top;\n",
       "    }\n",
       "\n",
       "    .dataframe thead th {\n",
       "        text-align: right;\n",
       "    }\n",
       "</style>\n",
       "<table border=\"1\" class=\"dataframe\">\n",
       "  <thead>\n",
       "    <tr style=\"text-align: right;\">\n",
       "      <th></th>\n",
       "      <th>id</th>\n",
       "      <th>Gender</th>\n",
       "      <th>Age</th>\n",
       "      <th>Driving_License</th>\n",
       "      <th>Region_Code</th>\n",
       "      <th>Previously_Insured</th>\n",
       "      <th>Vehicle_Age</th>\n",
       "      <th>Vehicle_Damage</th>\n",
       "      <th>Annual_Premium</th>\n",
       "      <th>Policy_Sales_Channel</th>\n",
       "      <th>Vintage</th>\n",
       "      <th>Response</th>\n",
       "      <th>source</th>\n",
       "    </tr>\n",
       "  </thead>\n",
       "  <tbody>\n",
       "    <tr>\n",
       "      <th>0</th>\n",
       "      <td>1</td>\n",
       "      <td>Male</td>\n",
       "      <td>44</td>\n",
       "      <td>1</td>\n",
       "      <td>28.0</td>\n",
       "      <td>0</td>\n",
       "      <td>&gt; 2 Years</td>\n",
       "      <td>Yes</td>\n",
       "      <td>40454.0</td>\n",
       "      <td>26.0</td>\n",
       "      <td>7</td>\n",
       "      <td>1.0</td>\n",
       "      <td>train</td>\n",
       "    </tr>\n",
       "    <tr>\n",
       "      <th>1</th>\n",
       "      <td>2</td>\n",
       "      <td>Male</td>\n",
       "      <td>76</td>\n",
       "      <td>1</td>\n",
       "      <td>3.0</td>\n",
       "      <td>0</td>\n",
       "      <td>1-2 Year</td>\n",
       "      <td>No</td>\n",
       "      <td>33536.0</td>\n",
       "      <td>26.0</td>\n",
       "      <td>5</td>\n",
       "      <td>0.0</td>\n",
       "      <td>train</td>\n",
       "    </tr>\n",
       "    <tr>\n",
       "      <th>2</th>\n",
       "      <td>3</td>\n",
       "      <td>Male</td>\n",
       "      <td>47</td>\n",
       "      <td>1</td>\n",
       "      <td>28.0</td>\n",
       "      <td>0</td>\n",
       "      <td>&gt; 2 Years</td>\n",
       "      <td>Yes</td>\n",
       "      <td>38294.0</td>\n",
       "      <td>26.0</td>\n",
       "      <td>0</td>\n",
       "      <td>1.0</td>\n",
       "      <td>train</td>\n",
       "    </tr>\n",
       "    <tr>\n",
       "      <th>3</th>\n",
       "      <td>4</td>\n",
       "      <td>Male</td>\n",
       "      <td>21</td>\n",
       "      <td>1</td>\n",
       "      <td>11.0</td>\n",
       "      <td>1</td>\n",
       "      <td>&lt; 1 Year</td>\n",
       "      <td>No</td>\n",
       "      <td>28619.0</td>\n",
       "      <td>152.0</td>\n",
       "      <td>6</td>\n",
       "      <td>0.0</td>\n",
       "      <td>train</td>\n",
       "    </tr>\n",
       "    <tr>\n",
       "      <th>4</th>\n",
       "      <td>5</td>\n",
       "      <td>Female</td>\n",
       "      <td>29</td>\n",
       "      <td>1</td>\n",
       "      <td>41.0</td>\n",
       "      <td>1</td>\n",
       "      <td>&lt; 1 Year</td>\n",
       "      <td>No</td>\n",
       "      <td>27496.0</td>\n",
       "      <td>152.0</td>\n",
       "      <td>1</td>\n",
       "      <td>0.0</td>\n",
       "      <td>train</td>\n",
       "    </tr>\n",
       "  </tbody>\n",
       "</table>\n",
       "</div>"
      ],
      "text/plain": [
       "   id  Gender  Age  Driving_License  Region_Code  Previously_Insured  \\\n",
       "0   1    Male   44                1         28.0                   0   \n",
       "1   2    Male   76                1          3.0                   0   \n",
       "2   3    Male   47                1         28.0                   0   \n",
       "3   4    Male   21                1         11.0                   1   \n",
       "4   5  Female   29                1         41.0                   1   \n",
       "\n",
       "  Vehicle_Age Vehicle_Damage  Annual_Premium  Policy_Sales_Channel  Vintage  \\\n",
       "0   > 2 Years            Yes         40454.0                  26.0        7   \n",
       "1    1-2 Year             No         33536.0                  26.0        5   \n",
       "2   > 2 Years            Yes         38294.0                  26.0        0   \n",
       "3    < 1 Year             No         28619.0                 152.0        6   \n",
       "4    < 1 Year             No         27496.0                 152.0        1   \n",
       "\n",
       "   Response source  \n",
       "0       1.0  train  \n",
       "1       0.0  train  \n",
       "2       1.0  train  \n",
       "3       0.0  train  \n",
       "4       0.0  train  "
      ]
     },
     "execution_count": 375,
     "metadata": {},
     "output_type": "execute_result"
    }
   ],
   "source": [
    "df.head()"
   ]
  },
  {
   "cell_type": "code",
   "execution_count": 376,
   "id": "32f91733",
   "metadata": {},
   "outputs": [],
   "source": [
    "df['Gender'] = df['Gender'].map({'Male':0,'Female':1})"
   ]
  },
  {
   "cell_type": "code",
   "execution_count": 377,
   "id": "0db4fe10",
   "metadata": {},
   "outputs": [],
   "source": [
    "df['Vehicle_Damage'] = df['Vehicle_Damage'].map({'Yes':1,'No':0})"
   ]
  },
  {
   "cell_type": "code",
   "execution_count": 378,
   "id": "bcb3615a",
   "metadata": {},
   "outputs": [],
   "source": [
    "df['Vehicle_Age'] = df['Vehicle_Age'].map({'< 1 Year':0,'1-2 Year':1,'> 2 Years':2})"
   ]
  },
  {
   "cell_type": "code",
   "execution_count": 379,
   "id": "70ff1084",
   "metadata": {},
   "outputs": [],
   "source": [
    "df['Annual_Premium'] = np.log(df['Annual_Premium'])\n",
    "df['Annual_Premium'] = df['Annual_Premium'].astype(\"int\")"
   ]
  },
  {
   "cell_type": "code",
   "execution_count": 380,
   "id": "9a5944cc",
   "metadata": {},
   "outputs": [],
   "source": [
    "df['Policy_Sales_Channel'] = df['Policy_Sales_Channel'].astype(\"int\")\n",
    "df['Region_Code'] = df['Region_Code'].astype(\"int\")"
   ]
  },
  {
   "cell_type": "code",
   "execution_count": 381,
   "id": "63280f12",
   "metadata": {},
   "outputs": [],
   "source": [
    "# tobescaled_df = df[['Age','Region_Code','Annual_Premium','Policy_Sales_Channel','Vintage']]\n",
    "# sc = StandardScaler()\n",
    "# #sc = MinMaxScaler()\n",
    "# scaled_df = sc.fit_transform(tobescaled_df)\n",
    "# df[['Age','Region_Code','Annual_Premium','Policy_Sales_Channel','Vintage']] = scaled_df"
   ]
  },
  {
   "cell_type": "code",
   "execution_count": 382,
   "id": "f0c574c9",
   "metadata": {},
   "outputs": [
    {
     "data": {
      "text/html": [
       "<div>\n",
       "<style scoped>\n",
       "    .dataframe tbody tr th:only-of-type {\n",
       "        vertical-align: middle;\n",
       "    }\n",
       "\n",
       "    .dataframe tbody tr th {\n",
       "        vertical-align: top;\n",
       "    }\n",
       "\n",
       "    .dataframe thead th {\n",
       "        text-align: right;\n",
       "    }\n",
       "</style>\n",
       "<table border=\"1\" class=\"dataframe\">\n",
       "  <thead>\n",
       "    <tr style=\"text-align: right;\">\n",
       "      <th></th>\n",
       "      <th>id</th>\n",
       "      <th>Gender</th>\n",
       "      <th>Age</th>\n",
       "      <th>Driving_License</th>\n",
       "      <th>Region_Code</th>\n",
       "      <th>Previously_Insured</th>\n",
       "      <th>Vehicle_Age</th>\n",
       "      <th>Vehicle_Damage</th>\n",
       "      <th>Annual_Premium</th>\n",
       "      <th>Policy_Sales_Channel</th>\n",
       "      <th>Vintage</th>\n",
       "      <th>Response</th>\n",
       "      <th>source</th>\n",
       "    </tr>\n",
       "  </thead>\n",
       "  <tbody>\n",
       "    <tr>\n",
       "      <th>0</th>\n",
       "      <td>1</td>\n",
       "      <td>0</td>\n",
       "      <td>44</td>\n",
       "      <td>1</td>\n",
       "      <td>28</td>\n",
       "      <td>0</td>\n",
       "      <td>2</td>\n",
       "      <td>1</td>\n",
       "      <td>10</td>\n",
       "      <td>26</td>\n",
       "      <td>7</td>\n",
       "      <td>1.0</td>\n",
       "      <td>train</td>\n",
       "    </tr>\n",
       "    <tr>\n",
       "      <th>1</th>\n",
       "      <td>2</td>\n",
       "      <td>0</td>\n",
       "      <td>76</td>\n",
       "      <td>1</td>\n",
       "      <td>3</td>\n",
       "      <td>0</td>\n",
       "      <td>1</td>\n",
       "      <td>0</td>\n",
       "      <td>10</td>\n",
       "      <td>26</td>\n",
       "      <td>5</td>\n",
       "      <td>0.0</td>\n",
       "      <td>train</td>\n",
       "    </tr>\n",
       "    <tr>\n",
       "      <th>2</th>\n",
       "      <td>3</td>\n",
       "      <td>0</td>\n",
       "      <td>47</td>\n",
       "      <td>1</td>\n",
       "      <td>28</td>\n",
       "      <td>0</td>\n",
       "      <td>2</td>\n",
       "      <td>1</td>\n",
       "      <td>10</td>\n",
       "      <td>26</td>\n",
       "      <td>0</td>\n",
       "      <td>1.0</td>\n",
       "      <td>train</td>\n",
       "    </tr>\n",
       "    <tr>\n",
       "      <th>3</th>\n",
       "      <td>4</td>\n",
       "      <td>0</td>\n",
       "      <td>21</td>\n",
       "      <td>1</td>\n",
       "      <td>11</td>\n",
       "      <td>1</td>\n",
       "      <td>0</td>\n",
       "      <td>0</td>\n",
       "      <td>10</td>\n",
       "      <td>152</td>\n",
       "      <td>6</td>\n",
       "      <td>0.0</td>\n",
       "      <td>train</td>\n",
       "    </tr>\n",
       "    <tr>\n",
       "      <th>4</th>\n",
       "      <td>5</td>\n",
       "      <td>1</td>\n",
       "      <td>29</td>\n",
       "      <td>1</td>\n",
       "      <td>41</td>\n",
       "      <td>1</td>\n",
       "      <td>0</td>\n",
       "      <td>0</td>\n",
       "      <td>10</td>\n",
       "      <td>152</td>\n",
       "      <td>1</td>\n",
       "      <td>0.0</td>\n",
       "      <td>train</td>\n",
       "    </tr>\n",
       "  </tbody>\n",
       "</table>\n",
       "</div>"
      ],
      "text/plain": [
       "   id  Gender  Age  Driving_License  Region_Code  Previously_Insured  \\\n",
       "0   1       0   44                1           28                   0   \n",
       "1   2       0   76                1            3                   0   \n",
       "2   3       0   47                1           28                   0   \n",
       "3   4       0   21                1           11                   1   \n",
       "4   5       1   29                1           41                   1   \n",
       "\n",
       "   Vehicle_Age  Vehicle_Damage  Annual_Premium  Policy_Sales_Channel  Vintage  \\\n",
       "0            2               1              10                    26        7   \n",
       "1            1               0              10                    26        5   \n",
       "2            2               1              10                    26        0   \n",
       "3            0               0              10                   152        6   \n",
       "4            0               0              10                   152        1   \n",
       "\n",
       "   Response source  \n",
       "0       1.0  train  \n",
       "1       0.0  train  \n",
       "2       1.0  train  \n",
       "3       0.0  train  \n",
       "4       0.0  train  "
      ]
     },
     "execution_count": 382,
     "metadata": {},
     "output_type": "execute_result"
    }
   ],
   "source": [
    "df.head()"
   ]
  },
  {
   "cell_type": "markdown",
   "id": "32016fc9",
   "metadata": {},
   "source": [
    "## Modelling"
   ]
  },
  {
   "cell_type": "code",
   "execution_count": 383,
   "id": "2bb82f94",
   "metadata": {},
   "outputs": [
    {
     "data": {
      "text/plain": [
       "id                      508146\n",
       "Gender                       2\n",
       "Age                         66\n",
       "Driving_License              2\n",
       "Region_Code                 53\n",
       "Previously_Insured           2\n",
       "Vehicle_Age                  3\n",
       "Vehicle_Damage               2\n",
       "Annual_Premium               7\n",
       "Policy_Sales_Channel       157\n",
       "Vintage                     10\n",
       "Response                     2\n",
       "source                       2\n",
       "dtype: int64"
      ]
     },
     "execution_count": 383,
     "metadata": {},
     "output_type": "execute_result"
    }
   ],
   "source": [
    "df.nunique()"
   ]
  },
  {
   "cell_type": "code",
   "execution_count": 384,
   "id": "917ef906",
   "metadata": {},
   "outputs": [],
   "source": [
    "train_df = df[df['source']=='train']\n",
    "test_df = df[df['source']=='test']\n",
    "test_df.reset_index(inplace=True, drop=True)\n",
    "train_df.reset_index(inplace=True, drop=True)"
   ]
  },
  {
   "cell_type": "code",
   "execution_count": 385,
   "id": "c2e002cb",
   "metadata": {},
   "outputs": [
    {
     "name": "stderr",
     "output_type": "stream",
     "text": [
      "/tmp/ipykernel_96781/2745771578.py:1: SettingWithCopyWarning: \n",
      "A value is trying to be set on a copy of a slice from a DataFrame.\n",
      "Try using .loc[row_indexer,col_indexer] = value instead\n",
      "\n",
      "See the caveats in the documentation: https://pandas.pydata.org/pandas-docs/stable/user_guide/indexing.html#returning-a-view-versus-a-copy\n",
      "  train_df['Response'] = train_df['Response'].astype(np.int64, errors='ignore')\n"
     ]
    }
   ],
   "source": [
    "train_df['Response'] = train_df['Response'].astype(np.int64, errors='ignore')"
   ]
  },
  {
   "cell_type": "code",
   "execution_count": 386,
   "id": "dc7b905e",
   "metadata": {},
   "outputs": [
    {
     "name": "stdout",
     "output_type": "stream",
     "text": [
      "<class 'pandas.core.frame.DataFrame'>\n",
      "RangeIndex: 381109 entries, 0 to 381108\n",
      "Data columns (total 13 columns):\n",
      " #   Column                Non-Null Count   Dtype \n",
      "---  ------                --------------   ----- \n",
      " 0   id                    381109 non-null  int64 \n",
      " 1   Gender                381109 non-null  int64 \n",
      " 2   Age                   381109 non-null  int64 \n",
      " 3   Driving_License       381109 non-null  int64 \n",
      " 4   Region_Code           381109 non-null  int64 \n",
      " 5   Previously_Insured    381109 non-null  int64 \n",
      " 6   Vehicle_Age           381109 non-null  int64 \n",
      " 7   Vehicle_Damage        381109 non-null  int64 \n",
      " 8   Annual_Premium        381109 non-null  int64 \n",
      " 9   Policy_Sales_Channel  381109 non-null  int64 \n",
      " 10  Vintage               381109 non-null  int64 \n",
      " 11  Response              381109 non-null  int64 \n",
      " 12  source                381109 non-null  object\n",
      "dtypes: int64(12), object(1)\n",
      "memory usage: 37.8+ MB\n"
     ]
    }
   ],
   "source": [
    "train_df.info()"
   ]
  },
  {
   "cell_type": "code",
   "execution_count": 387,
   "id": "f78c7241",
   "metadata": {},
   "outputs": [],
   "source": [
    "X = train_df.drop(columns=['id','Response','source'])\n",
    "y = train_df['Response']"
   ]
  },
  {
   "cell_type": "code",
   "execution_count": 388,
   "id": "dcf4daac",
   "metadata": {},
   "outputs": [],
   "source": [
    "X_train, X_test, y_train, y_test = train_test_split(X, y, test_size=0.02, random_state=20)"
   ]
  },
  {
   "cell_type": "code",
   "execution_count": 389,
   "id": "a40acbec",
   "metadata": {},
   "outputs": [],
   "source": [
    "def evaluate_models(model,X,y):\n",
    "    y_pred = model.predict(X)\n",
    "    cm = confusion_matrix(y, y_pred)\n",
    "    print(cm)\n",
    "    report = classification_report(y, y_pred)\n",
    "    print(report)\n",
    "    accuracyscore = accuracy_score(y, y_pred)\n",
    "    print(accuracyscore)\n",
    "    ConfusionMatrixDisplay(cm).plot()\n",
    "    roc_score = roc_auc_score(y, y_pred)\n",
    "    print(roc_score)\n",
    "    \n"
   ]
  },
  {
   "cell_type": "code",
   "execution_count": 390,
   "id": "49b75016",
   "metadata": {},
   "outputs": [
    {
     "name": "stdout",
     "output_type": "stream",
     "text": [
      "[[327588    175]\n",
      " [ 45610    113]]\n",
      "              precision    recall  f1-score   support\n",
      "\n",
      "           0       0.88      1.00      0.93    327763\n",
      "           1       0.39      0.00      0.00     45723\n",
      "\n",
      "    accuracy                           0.88    373486\n",
      "   macro avg       0.64      0.50      0.47    373486\n",
      "weighted avg       0.82      0.88      0.82    373486\n",
      "\n",
      "0.8774117369861253\n",
      "0.5009687407558971\n"
     ]
    },
    {
     "data": {
      "image/png": "[encoded data removed]",
      "text/plain": [
       "<Figure size 432x288 with 2 Axes>"
      ]
     },
     "metadata": {
      "needs_background": "light"
     },
     "output_type": "display_data"
    }
   ],
   "source": [
    "model = LogisticRegression(max_iter=10000)\n",
    "model.fit(X_train,y_train)\n",
    "evaluate_models(model,X_train,y_train)"
   ]
  },
  {
   "cell_type": "code",
   "execution_count": 391,
   "id": "07b11421",
   "metadata": {},
   "outputs": [
    {
     "name": "stdout",
     "output_type": "stream",
     "text": [
      "[[6632    4]\n",
      " [ 986    1]]\n",
      "              precision    recall  f1-score   support\n",
      "\n",
      "           0       0.87      1.00      0.93      6636\n",
      "           1       0.20      0.00      0.00       987\n",
      "\n",
      "    accuracy                           0.87      7623\n",
      "   macro avg       0.54      0.50      0.47      7623\n",
      "weighted avg       0.78      0.87      0.81      7623\n",
      "\n",
      "0.8701298701298701\n",
      "0.5002051992356328\n"
     ]
    },
    {
     "data": {
      "image/png": "[encoded data removed]",
      "text/plain": [
       "<Figure size 432x288 with 2 Axes>"
      ]
     },
     "metadata": {
      "needs_background": "light"
     },
     "output_type": "display_data"
    }
   ],
   "source": [
    "evaluate_models(model,X_test,y_test)"
   ]
  },
  {
   "cell_type": "code",
   "execution_count": 392,
   "id": "565e34a5",
   "metadata": {},
   "outputs": [
    {
     "name": "stdout",
     "output_type": "stream",
     "text": [
      "[[325983   1780]\n",
      " [ 19624  26099]]\n",
      "              precision    recall  f1-score   support\n",
      "\n",
      "           0       0.94      0.99      0.97    327763\n",
      "           1       0.94      0.57      0.71     45723\n",
      "\n",
      "    accuracy                           0.94    373486\n",
      "   macro avg       0.94      0.78      0.84    373486\n",
      "weighted avg       0.94      0.94      0.94    373486\n",
      "\n",
      "0.9426912923108229\n",
      "0.7826880308160956\n"
     ]
    },
    {
     "data": {
      "image/png": "[encoded data removed]",
      "text/plain": [
       "<Figure size 432x288 with 2 Axes>"
      ]
     },
     "metadata": {
      "needs_background": "light"
     },
     "output_type": "display_data"
    }
   ],
   "source": [
    "model = DecisionTreeClassifier()\n",
    "model.fit(X_train,y_train)\n",
    "evaluate_models(model,X_train,y_train)"
   ]
  },
  {
   "cell_type": "code",
   "execution_count": 393,
   "id": "70d9357a",
   "metadata": {},
   "outputs": [
    {
     "name": "stdout",
     "output_type": "stream",
     "text": [
      "[[6190  446]\n",
      " [ 782  205]]\n",
      "              precision    recall  f1-score   support\n",
      "\n",
      "           0       0.89      0.93      0.91      6636\n",
      "           1       0.31      0.21      0.25       987\n",
      "\n",
      "    accuracy                           0.84      7623\n",
      "   macro avg       0.60      0.57      0.58      7623\n",
      "weighted avg       0.81      0.84      0.82      7623\n",
      "\n",
      "0.8389085661812935\n",
      "0.5702454695856258\n"
     ]
    },
    {
     "data": {
      "image/png": "[encoded data removed]",
      "text/plain": [
       "<Figure size 432x288 with 2 Axes>"
      ]
     },
     "metadata": {
      "needs_background": "light"
     },
     "output_type": "display_data"
    }
   ],
   "source": [
    "evaluate_models(model,X_test,y_test)"
   ]
  },
  {
   "cell_type": "code",
   "execution_count": 394,
   "id": "7b3ec144",
   "metadata": {},
   "outputs": [
    {
     "name": "stdout",
     "output_type": "stream",
     "text": [
      "[[324132   3631]\n",
      " [ 17780  27943]]\n",
      "              precision    recall  f1-score   support\n",
      "\n",
      "           0       0.95      0.99      0.97    327763\n",
      "           1       0.89      0.61      0.72     45723\n",
      "\n",
      "    accuracy                           0.94    373486\n",
      "   macro avg       0.92      0.80      0.85    373486\n",
      "weighted avg       0.94      0.94      0.94    373486\n",
      "\n",
      "0.9426725499750994\n",
      "0.8000292502536493\n"
     ]
    },
    {
     "data": {
      "image/png": "[encoded data removed]",
      "text/plain": [
       "<Figure size 432x288 with 2 Axes>"
      ]
     },
     "metadata": {
      "needs_background": "light"
     },
     "output_type": "display_data"
    }
   ],
   "source": [
    "model = RandomForestClassifier()\n",
    "model.fit(X_train,y_train)\n",
    "evaluate_models(model,X_train,y_train)"
   ]
  },
  {
   "cell_type": "code",
   "execution_count": 404,
   "id": "10755b03",
   "metadata": {},
   "outputs": [
    {
     "data": {
      "text/html": [
       "<div>\n",
       "<style scoped>\n",
       "    .dataframe tbody tr th:only-of-type {\n",
       "        vertical-align: middle;\n",
       "    }\n",
       "\n",
       "    .dataframe tbody tr th {\n",
       "        vertical-align: top;\n",
       "    }\n",
       "\n",
       "    .dataframe thead th {\n",
       "        text-align: right;\n",
       "    }\n",
       "</style>\n",
       "<table border=\"1\" class=\"dataframe\">\n",
       "  <thead>\n",
       "    <tr style=\"text-align: right;\">\n",
       "      <th></th>\n",
       "      <th>id</th>\n",
       "      <th>Gender</th>\n",
       "      <th>Age</th>\n",
       "      <th>Driving_License</th>\n",
       "      <th>Region_Code</th>\n",
       "      <th>Previously_Insured</th>\n",
       "      <th>Vehicle_Age</th>\n",
       "      <th>Vehicle_Damage</th>\n",
       "      <th>Annual_Premium</th>\n",
       "      <th>Policy_Sales_Channel</th>\n",
       "      <th>Vintage</th>\n",
       "      <th>Response</th>\n",
       "      <th>source</th>\n",
       "    </tr>\n",
       "  </thead>\n",
       "  <tbody>\n",
       "    <tr>\n",
       "      <th>0</th>\n",
       "      <td>1</td>\n",
       "      <td>0</td>\n",
       "      <td>44</td>\n",
       "      <td>1</td>\n",
       "      <td>28</td>\n",
       "      <td>0</td>\n",
       "      <td>2</td>\n",
       "      <td>1</td>\n",
       "      <td>10</td>\n",
       "      <td>26</td>\n",
       "      <td>7</td>\n",
       "      <td>1.0</td>\n",
       "      <td>train</td>\n",
       "    </tr>\n",
       "    <tr>\n",
       "      <th>1</th>\n",
       "      <td>2</td>\n",
       "      <td>0</td>\n",
       "      <td>76</td>\n",
       "      <td>1</td>\n",
       "      <td>3</td>\n",
       "      <td>0</td>\n",
       "      <td>1</td>\n",
       "      <td>0</td>\n",
       "      <td>10</td>\n",
       "      <td>26</td>\n",
       "      <td>5</td>\n",
       "      <td>0.0</td>\n",
       "      <td>train</td>\n",
       "    </tr>\n",
       "    <tr>\n",
       "      <th>2</th>\n",
       "      <td>3</td>\n",
       "      <td>0</td>\n",
       "      <td>47</td>\n",
       "      <td>1</td>\n",
       "      <td>28</td>\n",
       "      <td>0</td>\n",
       "      <td>2</td>\n",
       "      <td>1</td>\n",
       "      <td>10</td>\n",
       "      <td>26</td>\n",
       "      <td>0</td>\n",
       "      <td>1.0</td>\n",
       "      <td>train</td>\n",
       "    </tr>\n",
       "    <tr>\n",
       "      <th>3</th>\n",
       "      <td>4</td>\n",
       "      <td>0</td>\n",
       "      <td>21</td>\n",
       "      <td>1</td>\n",
       "      <td>11</td>\n",
       "      <td>1</td>\n",
       "      <td>0</td>\n",
       "      <td>0</td>\n",
       "      <td>10</td>\n",
       "      <td>152</td>\n",
       "      <td>6</td>\n",
       "      <td>0.0</td>\n",
       "      <td>train</td>\n",
       "    </tr>\n",
       "    <tr>\n",
       "      <th>4</th>\n",
       "      <td>5</td>\n",
       "      <td>1</td>\n",
       "      <td>29</td>\n",
       "      <td>1</td>\n",
       "      <td>41</td>\n",
       "      <td>1</td>\n",
       "      <td>0</td>\n",
       "      <td>0</td>\n",
       "      <td>10</td>\n",
       "      <td>152</td>\n",
       "      <td>1</td>\n",
       "      <td>0.0</td>\n",
       "      <td>train</td>\n",
       "    </tr>\n",
       "  </tbody>\n",
       "</table>\n",
       "</div>"
      ],
      "text/plain": [
       "   id  Gender  Age  Driving_License  Region_Code  Previously_Insured  \\\n",
       "0   1       0   44                1           28                   0   \n",
       "1   2       0   76                1            3                   0   \n",
       "2   3       0   47                1           28                   0   \n",
       "3   4       0   21                1           11                   1   \n",
       "4   5       1   29                1           41                   1   \n",
       "\n",
       "   Vehicle_Age  Vehicle_Damage  Annual_Premium  Policy_Sales_Channel  Vintage  \\\n",
       "0            2               1              10                    26        7   \n",
       "1            1               0              10                    26        5   \n",
       "2            2               1              10                    26        0   \n",
       "3            0               0              10                   152        6   \n",
       "4            0               0              10                   152        1   \n",
       "\n",
       "   Response source  \n",
       "0       1.0  train  \n",
       "1       0.0  train  \n",
       "2       1.0  train  \n",
       "3       0.0  train  \n",
       "4       0.0  train  "
      ]
     },
     "execution_count": 404,
     "metadata": {},
     "output_type": "execute_result"
    }
   ],
   "source": [
    "df.columnsns()"
   ]
  },
  {
   "cell_type": "code",
   "execution_count": 395,
   "id": "d0948efc",
   "metadata": {},
   "outputs": [
    {
     "name": "stdout",
     "output_type": "stream",
     "text": [
      "[[6327  309]\n",
      " [ 829  158]]\n",
      "              precision    recall  f1-score   support\n",
      "\n",
      "           0       0.88      0.95      0.92      6636\n",
      "           1       0.34      0.16      0.22       987\n",
      "\n",
      "    accuracy                           0.85      7623\n",
      "   macro avg       0.61      0.56      0.57      7623\n",
      "weighted avg       0.81      0.85      0.83      7623\n",
      "\n",
      "0.8507149416240325\n",
      "0.5567584291998512\n"
     ]
    },
    {
     "data": {
      "image/png": "[encoded data removed]",
      "text/plain": [
       "<Figure size 432x288 with 2 Axes>"
      ]
     },
     "metadata": {
      "needs_background": "light"
     },
     "output_type": "display_data"
    }
   ],
   "source": [
    "evaluate_models(model,X_test,y_test)"
   ]
  },
  {
   "cell_type": "code",
   "execution_count": 406,
   "id": "4a053f51",
   "metadata": {},
   "outputs": [],
   "source": [
    "cat_features = ['Gender','Driving_License','Region_Code','Vehicle_Damage','Policy_Sales_Channel']"
   ]
  },
  {
   "cell_type": "code",
   "execution_count": 405,
   "id": "ba5b7c70",
   "metadata": {},
   "outputs": [
    {
     "data": {
      "text/html": [
       "<div>\n",
       "<style scoped>\n",
       "    .dataframe tbody tr th:only-of-type {\n",
       "        vertical-align: middle;\n",
       "    }\n",
       "\n",
       "    .dataframe tbody tr th {\n",
       "        vertical-align: top;\n",
       "    }\n",
       "\n",
       "    .dataframe thead th {\n",
       "        text-align: right;\n",
       "    }\n",
       "</style>\n",
       "<table border=\"1\" class=\"dataframe\">\n",
       "  <thead>\n",
       "    <tr style=\"text-align: right;\">\n",
       "      <th></th>\n",
       "      <th>id</th>\n",
       "      <th>Gender</th>\n",
       "      <th>Age</th>\n",
       "      <th>Driving_License</th>\n",
       "      <th>Region_Code</th>\n",
       "      <th>Previously_Insured</th>\n",
       "      <th>Vehicle_Age</th>\n",
       "      <th>Vehicle_Damage</th>\n",
       "      <th>Annual_Premium</th>\n",
       "      <th>Policy_Sales_Channel</th>\n",
       "      <th>Vintage</th>\n",
       "      <th>Response</th>\n",
       "      <th>source</th>\n",
       "    </tr>\n",
       "  </thead>\n",
       "  <tbody>\n",
       "    <tr>\n",
       "      <th>0</th>\n",
       "      <td>1</td>\n",
       "      <td>0</td>\n",
       "      <td>44</td>\n",
       "      <td>1</td>\n",
       "      <td>28</td>\n",
       "      <td>0</td>\n",
       "      <td>2</td>\n",
       "      <td>1</td>\n",
       "      <td>10</td>\n",
       "      <td>26</td>\n",
       "      <td>7</td>\n",
       "      <td>1.0</td>\n",
       "      <td>train</td>\n",
       "    </tr>\n",
       "    <tr>\n",
       "      <th>1</th>\n",
       "      <td>2</td>\n",
       "      <td>0</td>\n",
       "      <td>76</td>\n",
       "      <td>1</td>\n",
       "      <td>3</td>\n",
       "      <td>0</td>\n",
       "      <td>1</td>\n",
       "      <td>0</td>\n",
       "      <td>10</td>\n",
       "      <td>26</td>\n",
       "      <td>5</td>\n",
       "      <td>0.0</td>\n",
       "      <td>train</td>\n",
       "    </tr>\n",
       "    <tr>\n",
       "      <th>2</th>\n",
       "      <td>3</td>\n",
       "      <td>0</td>\n",
       "      <td>47</td>\n",
       "      <td>1</td>\n",
       "      <td>28</td>\n",
       "      <td>0</td>\n",
       "      <td>2</td>\n",
       "      <td>1</td>\n",
       "      <td>10</td>\n",
       "      <td>26</td>\n",
       "      <td>0</td>\n",
       "      <td>1.0</td>\n",
       "      <td>train</td>\n",
       "    </tr>\n",
       "    <tr>\n",
       "      <th>3</th>\n",
       "      <td>4</td>\n",
       "      <td>0</td>\n",
       "      <td>21</td>\n",
       "      <td>1</td>\n",
       "      <td>11</td>\n",
       "      <td>1</td>\n",
       "      <td>0</td>\n",
       "      <td>0</td>\n",
       "      <td>10</td>\n",
       "      <td>152</td>\n",
       "      <td>6</td>\n",
       "      <td>0.0</td>\n",
       "      <td>train</td>\n",
       "    </tr>\n",
       "    <tr>\n",
       "      <th>4</th>\n",
       "      <td>5</td>\n",
       "      <td>1</td>\n",
       "      <td>29</td>\n",
       "      <td>1</td>\n",
       "      <td>41</td>\n",
       "      <td>1</td>\n",
       "      <td>0</td>\n",
       "      <td>0</td>\n",
       "      <td>10</td>\n",
       "      <td>152</td>\n",
       "      <td>1</td>\n",
       "      <td>0.0</td>\n",
       "      <td>train</td>\n",
       "    </tr>\n",
       "  </tbody>\n",
       "</table>\n",
       "</div>"
      ],
      "text/plain": [
       "   id  Gender  Age  Driving_License  Region_Code  Previously_Insured  \\\n",
       "0   1       0   44                1           28                   0   \n",
       "1   2       0   76                1            3                   0   \n",
       "2   3       0   47                1           28                   0   \n",
       "3   4       0   21                1           11                   1   \n",
       "4   5       1   29                1           41                   1   \n",
       "\n",
       "   Vehicle_Age  Vehicle_Damage  Annual_Premium  Policy_Sales_Channel  Vintage  \\\n",
       "0            2               1              10                    26        7   \n",
       "1            1               0              10                    26        5   \n",
       "2            2               1              10                    26        0   \n",
       "3            0               0              10                   152        6   \n",
       "4            0               0              10                   152        1   \n",
       "\n",
       "   Response source  \n",
       "0       1.0  train  \n",
       "1       0.0  train  \n",
       "2       1.0  train  \n",
       "3       0.0  train  \n",
       "4       0.0  train  "
      ]
     },
     "execution_count": 405,
     "metadata": {},
     "output_type": "execute_result"
    }
   ],
   "source": [
    "df.head()"
   ]
  },
  {
   "cell_type": "code",
   "execution_count": 414,
   "id": "ee903771",
   "metadata": {},
   "outputs": [
    {
     "name": "stdout",
     "output_type": "stream",
     "text": [
      "[[222386 105377]\n",
      " [  2975  42748]]\n",
      "              precision    recall  f1-score   support\n",
      "\n",
      "           0       0.99      0.68      0.80    327763\n",
      "           1       0.29      0.93      0.44     45723\n",
      "\n",
      "    accuracy                           0.71    373486\n",
      "   macro avg       0.64      0.81      0.62    373486\n",
      "weighted avg       0.90      0.71      0.76    373486\n",
      "\n",
      "0.7098900628135995\n",
      "0.8067153153503235\n"
     ]
    },
    {
     "data": {
      "image/png": "[encoded data removed]",
      "text/plain": [
       "<Figure size 432x288 with 2 Axes>"
      ]
     },
     "metadata": {
      "needs_background": "light"
     },
     "output_type": "display_data"
    }
   ],
   "source": [
    "model=LGBMClassifier(boosting_type='gbdt',num_leaves=41,n_estimators=500,max_depth=10,learning_rate=0.04,objective='binary',metric='auc',is_unbalance=True,colsample_bytree=0.5,reg_lambda=2,reg_alpha=2,random_state=294,n_jobs=-1)\n",
    "## Note : Inspired and Used LGBM Classifer from Gowthami's notebook\n",
    "\n",
    "# lgb.fit(x_train,y_train,categorical_feature=cat_features)\n",
    "# print(lgb.score(x_train,y_train))\n",
    "# y_pred_lgb=lgb.predict_proba(x_test)\n",
    "#model = LGBMClassifier()\n",
    "\n",
    "model.fit(X_train,y_train)\n",
    "evaluate_models(model,X_train,y_train)\n"
   ]
  },
  {
   "cell_type": "code",
   "execution_count": 408,
   "id": "74366ed4",
   "metadata": {},
   "outputs": [
    {
     "name": "stdout",
     "output_type": "stream",
     "text": [
      "[[4446 2190]\n",
      " [  77  910]]\n",
      "              precision    recall  f1-score   support\n",
      "\n",
      "           0       0.98      0.67      0.80      6636\n",
      "           1       0.29      0.92      0.45       987\n",
      "\n",
      "    accuracy                           0.70      7623\n",
      "   macro avg       0.64      0.80      0.62      7623\n",
      "weighted avg       0.89      0.70      0.75      7623\n",
      "\n",
      "0.702610520792339\n",
      "0.7959838662100983\n"
     ]
    },
    {
     "data": {
      "image/png": "[encoded data removed]",
      "text/plain": [
       "<Figure size 432x288 with 2 Axes>"
      ]
     },
     "metadata": {
      "needs_background": "light"
     },
     "output_type": "display_data"
    }
   ],
   "source": [
    "evaluate_models(model,X_test,y_test)"
   ]
  },
  {
   "cell_type": "code",
   "execution_count": 409,
   "id": "23e094db",
   "metadata": {},
   "outputs": [],
   "source": [
    "y_pred = model.predict(test_df.drop(columns=['id','source','Response']))"
   ]
  },
  {
   "cell_type": "code",
   "execution_count": null,
   "id": "9c56d1ca",
   "metadata": {},
   "outputs": [],
   "source": []
  },
  {
   "cell_type": "code",
   "execution_count": 410,
   "id": "1ce9545e",
   "metadata": {},
   "outputs": [],
   "source": [
    "output = pd.DataFrame()\n",
    "output['id'] = test_df['id']\n",
    "output['Response'] = pd.Series((y_pred)).astype(int)"
   ]
  },
  {
   "cell_type": "code",
   "execution_count": 411,
   "id": "47d4a275",
   "metadata": {},
   "outputs": [],
   "source": [
    "output.to_csv(\"output/Response.csv\", index=False)"
   ]
  },
  {
   "cell_type": "code",
   "execution_count": 412,
   "id": "9a36510e",
   "metadata": {},
   "outputs": [
    {
     "data": {
      "text/html": [
       "<div>\n",
       "<style scoped>\n",
       "    .dataframe tbody tr th:only-of-type {\n",
       "        vertical-align: middle;\n",
       "    }\n",
       "\n",
       "    .dataframe tbody tr th {\n",
       "        vertical-align: top;\n",
       "    }\n",
       "\n",
       "    .dataframe thead th {\n",
       "        text-align: right;\n",
       "    }\n",
       "</style>\n",
       "<table border=\"1\" class=\"dataframe\">\n",
       "  <thead>\n",
       "    <tr style=\"text-align: right;\">\n",
       "      <th></th>\n",
       "      <th>id</th>\n",
       "      <th>Gender</th>\n",
       "      <th>Age</th>\n",
       "      <th>Driving_License</th>\n",
       "      <th>Region_Code</th>\n",
       "      <th>Previously_Insured</th>\n",
       "      <th>Vehicle_Age</th>\n",
       "      <th>Vehicle_Damage</th>\n",
       "      <th>Annual_Premium</th>\n",
       "      <th>Policy_Sales_Channel</th>\n",
       "      <th>Vintage</th>\n",
       "      <th>Response</th>\n",
       "      <th>source</th>\n",
       "    </tr>\n",
       "  </thead>\n",
       "  <tbody>\n",
       "    <tr>\n",
       "      <th>0</th>\n",
       "      <td>1</td>\n",
       "      <td>0</td>\n",
       "      <td>44</td>\n",
       "      <td>1</td>\n",
       "      <td>28</td>\n",
       "      <td>0</td>\n",
       "      <td>2</td>\n",
       "      <td>1</td>\n",
       "      <td>10</td>\n",
       "      <td>26</td>\n",
       "      <td>7</td>\n",
       "      <td>1</td>\n",
       "      <td>train</td>\n",
       "    </tr>\n",
       "    <tr>\n",
       "      <th>1</th>\n",
       "      <td>2</td>\n",
       "      <td>0</td>\n",
       "      <td>76</td>\n",
       "      <td>1</td>\n",
       "      <td>3</td>\n",
       "      <td>0</td>\n",
       "      <td>1</td>\n",
       "      <td>0</td>\n",
       "      <td>10</td>\n",
       "      <td>26</td>\n",
       "      <td>5</td>\n",
       "      <td>0</td>\n",
       "      <td>train</td>\n",
       "    </tr>\n",
       "    <tr>\n",
       "      <th>2</th>\n",
       "      <td>3</td>\n",
       "      <td>0</td>\n",
       "      <td>47</td>\n",
       "      <td>1</td>\n",
       "      <td>28</td>\n",
       "      <td>0</td>\n",
       "      <td>2</td>\n",
       "      <td>1</td>\n",
       "      <td>10</td>\n",
       "      <td>26</td>\n",
       "      <td>0</td>\n",
       "      <td>1</td>\n",
       "      <td>train</td>\n",
       "    </tr>\n",
       "    <tr>\n",
       "      <th>3</th>\n",
       "      <td>4</td>\n",
       "      <td>0</td>\n",
       "      <td>21</td>\n",
       "      <td>1</td>\n",
       "      <td>11</td>\n",
       "      <td>1</td>\n",
       "      <td>0</td>\n",
       "      <td>0</td>\n",
       "      <td>10</td>\n",
       "      <td>152</td>\n",
       "      <td>6</td>\n",
       "      <td>0</td>\n",
       "      <td>train</td>\n",
       "    </tr>\n",
       "    <tr>\n",
       "      <th>4</th>\n",
       "      <td>5</td>\n",
       "      <td>1</td>\n",
       "      <td>29</td>\n",
       "      <td>1</td>\n",
       "      <td>41</td>\n",
       "      <td>1</td>\n",
       "      <td>0</td>\n",
       "      <td>0</td>\n",
       "      <td>10</td>\n",
       "      <td>152</td>\n",
       "      <td>1</td>\n",
       "      <td>0</td>\n",
       "      <td>train</td>\n",
       "    </tr>\n",
       "  </tbody>\n",
       "</table>\n",
       "</div>"
      ],
      "text/plain": [
       "   id  Gender  Age  Driving_License  Region_Code  Previously_Insured  \\\n",
       "0   1       0   44                1           28                   0   \n",
       "1   2       0   76                1            3                   0   \n",
       "2   3       0   47                1           28                   0   \n",
       "3   4       0   21                1           11                   1   \n",
       "4   5       1   29                1           41                   1   \n",
       "\n",
       "   Vehicle_Age  Vehicle_Damage  Annual_Premium  Policy_Sales_Channel  Vintage  \\\n",
       "0            2               1              10                    26        7   \n",
       "1            1               0              10                    26        5   \n",
       "2            2               1              10                    26        0   \n",
       "3            0               0              10                   152        6   \n",
       "4            0               0              10                   152        1   \n",
       "\n",
       "   Response source  \n",
       "0         1  train  \n",
       "1         0  train  \n",
       "2         1  train  \n",
       "3         0  train  \n",
       "4         0  train  "
      ]
     },
     "execution_count": 412,
     "metadata": {},
     "output_type": "execute_result"
    }
   ],
   "source": [
    "train_df.head()"
   ]
  }
 ],
 "metadata": {
  "kernelspec": {
   "display_name": "Python 3 (ipykernel)",
   "language": "python",
   "name": "python3"
  },
  "language_info": {
   "codemirror_mode": {
    "name": "ipython",
    "version": 3
   },
   "file_extension": ".py",
   "mimetype": "text/x-python",
   "name": "python",
   "nbconvert_exporter": "python",
   "pygments_lexer": "ipython3",
   "version": "3.9.12"
  }
 },
 "nbformat": 4,
 "nbformat_minor": 5
}
