{
 "cells": [
  {
   "cell_type": "markdown",
   "id": "d74a7f6d",
   "metadata": {},
   "source": [
    "<span style=\"color:green\">1. Import the necessary package to <span>\n",
    "<span style=\"color:green\">a. Set the current working directory<span>\n",
    "<span style=\"color:green\">b. Change the working directory<span>"
   ]
  },
  {
   "cell_type": "code",
   "execution_count": 2,
   "id": "280944ef",
   "metadata": {},
   "outputs": [],
   "source": [
    "import os"
   ]
  },
  {
   "cell_type": "code",
   "execution_count": 3,
   "id": "b9711234",
   "metadata": {},
   "outputs": [
    {
     "data": {
      "text/plain": [
       "'/home/kiran/D_Drive_backup/DataWorld/Data_Science/Python/Python_Assignments'"
      ]
     },
     "execution_count": 3,
     "metadata": {},
     "output_type": "execute_result"
    }
   ],
   "source": [
    "os.getcwd()"
   ]
  },
  {
   "cell_type": "code",
   "execution_count": 4,
   "id": "c82fc2bf",
   "metadata": {},
   "outputs": [],
   "source": [
    "os.chdir('/home/kiran/D_Drive_backup/DataWorld/Data_Science/Python/')"
   ]
  },
  {
   "cell_type": "code",
   "execution_count": 5,
   "id": "2944e41a",
   "metadata": {},
   "outputs": [
    {
     "data": {
      "text/plain": [
       "'/home/kiran/D_Drive_backup/DataWorld/Data_Science/Python'"
      ]
     },
     "execution_count": 5,
     "metadata": {},
     "output_type": "execute_result"
    }
   ],
   "source": [
    "os.getcwd()"
   ]
  },
  {
   "cell_type": "markdown",
   "id": "40b1a4a5",
   "metadata": {},
   "source": [
    "<span style=\"color:green\">2. Create the string, int and float variable and delete them all in the next cell<span>"
   ]
  },
  {
   "cell_type": "code",
   "execution_count": 6,
   "id": "6673264a",
   "metadata": {},
   "outputs": [],
   "source": [
    "s = 'kiran'\n",
    "i = 4\n",
    "f = 5.23"
   ]
  },
  {
   "cell_type": "code",
   "execution_count": 7,
   "id": "e3135d31",
   "metadata": {},
   "outputs": [],
   "source": [
    "del s,i,f"
   ]
  },
  {
   "cell_type": "markdown",
   "id": "a08973fe",
   "metadata": {},
   "source": [
    "<span style=\"color:green\">3. What’s the result of assigning a value to a ‘keyword’?<span>\n",
    "    <span style=\"color:green\">a. Please highlight the error<span>"
   ]
  },
  {
   "cell_type": "code",
   "execution_count": 14,
   "id": "ca7b9485",
   "metadata": {},
   "outputs": [
    {
     "ename": "SyntaxError",
     "evalue": "invalid syntax (3556012459.py, line 1)",
     "output_type": "error",
     "traceback": [
      "\u001b[0;36m  File \u001b[0;32m\"/tmp/ipykernel_84173/3556012459.py\"\u001b[0;36m, line \u001b[0;32m1\u001b[0m\n\u001b[0;31m    for = 23\u001b[0m\n\u001b[0m        ^\u001b[0m\n\u001b[0;31mSyntaxError\u001b[0m\u001b[0;31m:\u001b[0m invalid syntax\n"
     ]
    }
   ],
   "source": [
    "for = 23"
   ]
  },
  {
   "cell_type": "markdown",
   "id": "d9ad612a",
   "metadata": {},
   "source": [
    "<span style=\"color:green\">4. How to write a multi-line statement and assign it to a variable (Note: Without using a backslash “\\” at the end of each line)<span>"
   ]
  },
  {
   "cell_type": "code",
   "execution_count": 21,
   "id": "2cc5d16e",
   "metadata": {},
   "outputs": [
    {
     "data": {
      "text/plain": [
       "14"
      ]
     },
     "execution_count": 21,
     "metadata": {},
     "output_type": "execute_result"
    }
   ],
   "source": [
    "#Multi line number expression\n",
    "s = (2 + 3 + \n",
    "     4 + 5)\n",
    "s"
   ]
  },
  {
   "cell_type": "code",
   "execution_count": 28,
   "id": "31364598",
   "metadata": {},
   "outputs": [
    {
     "data": {
      "text/plain": [
       "'Thanks Imran for reviewing my \\ncode'"
      ]
     },
     "execution_count": 28,
     "metadata": {},
     "output_type": "execute_result"
    }
   ],
   "source": [
    "#Multi-line string expression\n",
    "Thanks = '''Thanks Imran for reviewing my \n",
    "code'''\n",
    "Thanks"
   ]
  },
  {
   "cell_type": "markdown",
   "id": "c3700438",
   "metadata": {},
   "source": [
    "<span style=\"color:green\">5. Print the list of numbers from 100 to 999 with an interval (step size) of 8 between the numbers<span>"
   ]
  },
  {
   "cell_type": "code",
   "execution_count": 29,
   "id": "9a42b5ce",
   "metadata": {},
   "outputs": [
    {
     "name": "stdout",
     "output_type": "stream",
     "text": [
      "100\n",
      "108\n",
      "116\n",
      "124\n",
      "132\n",
      "140\n",
      "148\n",
      "156\n",
      "164\n",
      "172\n",
      "180\n",
      "188\n",
      "196\n",
      "204\n",
      "212\n",
      "220\n",
      "228\n",
      "236\n",
      "244\n",
      "252\n",
      "260\n",
      "268\n",
      "276\n",
      "284\n",
      "292\n",
      "300\n",
      "308\n",
      "316\n",
      "324\n",
      "332\n",
      "340\n",
      "348\n",
      "356\n",
      "364\n",
      "372\n",
      "380\n",
      "388\n",
      "396\n",
      "404\n",
      "412\n",
      "420\n",
      "428\n",
      "436\n",
      "444\n",
      "452\n",
      "460\n",
      "468\n",
      "476\n",
      "484\n",
      "492\n",
      "500\n",
      "508\n",
      "516\n",
      "524\n",
      "532\n",
      "540\n",
      "548\n",
      "556\n",
      "564\n",
      "572\n",
      "580\n",
      "588\n",
      "596\n",
      "604\n",
      "612\n",
      "620\n",
      "628\n",
      "636\n",
      "644\n",
      "652\n",
      "660\n",
      "668\n",
      "676\n",
      "684\n",
      "692\n",
      "700\n",
      "708\n",
      "716\n",
      "724\n",
      "732\n",
      "740\n",
      "748\n",
      "756\n",
      "764\n",
      "772\n",
      "780\n",
      "788\n",
      "796\n",
      "804\n",
      "812\n",
      "820\n",
      "828\n",
      "836\n",
      "844\n",
      "852\n",
      "860\n",
      "868\n",
      "876\n",
      "884\n",
      "892\n",
      "900\n",
      "908\n",
      "916\n",
      "924\n",
      "932\n",
      "940\n",
      "948\n",
      "956\n",
      "964\n",
      "972\n",
      "980\n",
      "988\n",
      "996\n"
     ]
    }
   ],
   "source": [
    "for i in range(100,1000,8):\n",
    "    print(i)"
   ]
  },
  {
   "cell_type": "markdown",
   "id": "10873efc",
   "metadata": {},
   "source": [
    "<span style=\"color:green\">6. Write a “for” loop to print out the ‘n’ values and break out of the statement if the value is ‘n/2’<span>"
   ]
  },
  {
   "cell_type": "code",
   "execution_count": 33,
   "id": "0f42c5ac",
   "metadata": {},
   "outputs": [
    {
     "name": "stdout",
     "output_type": "stream",
     "text": [
      "0\n",
      "1\n",
      "2\n"
     ]
    }
   ],
   "source": [
    "n=6\n",
    "for i in range(n):\n",
    "    if n/2 == i:\n",
    "        break\n",
    "    else:\n",
    "        print(i)"
   ]
  },
  {
   "cell_type": "markdown",
   "id": "9854923f",
   "metadata": {},
   "source": [
    "<span style=\"color:green\">7. Write a simple function and call the docstring from outside the function<span>"
   ]
  },
  {
   "cell_type": "code",
   "execution_count": 38,
   "id": "a31a0f6d",
   "metadata": {},
   "outputs": [
    {
     "data": {
      "text/plain": [
       "'This function will add two string values and return the resulting string'"
      ]
     },
     "execution_count": 38,
     "metadata": {},
     "output_type": "execute_result"
    }
   ],
   "source": [
    "def str_sum(a,b):\n",
    "    '''This function will add two string values and return the resulting string'''\n",
    "    return a+' '+ b\n",
    "\n",
    "str_sum.__doc__"
   ]
  },
  {
   "cell_type": "markdown",
   "id": "facba2db",
   "metadata": {},
   "source": [
    "<span style=\"color:green\">8. Create a user-defined package in ‘site-packages’ with below 3 variables a, b and c. Import these variables and write a function to calculate the area of triangle for below 3 sides (a, b, c). Calculate the semi-perimeter (s) first, to calculate the area of triangle (area) at last<span>\n",
    "<span style=\"color:green\"><< Formula to calculate semi-perimeter: s = (a+b+c )/2<span>\n",
    "<span style=\"color:green\"><< Formula to calculate area = (s*(s-a) * (s-b) * (s-c)) ** 0.5 >><span>\n",
    "<span style=\"color:green\">a. 15<span>\n",
    "<span style=\"color:green\">b. 51<span>\n",
    "<span style=\"color:green\">c. 17<span>"
   ]
  },
  {
   "cell_type": "code",
   "execution_count": 44,
   "id": "2476a1c1",
   "metadata": {},
   "outputs": [
    {
     "data": {
      "text/plain": [
       "41.5"
      ]
     },
     "execution_count": 44,
     "metadata": {},
     "output_type": "execute_result"
    }
   ],
   "source": [
    "from assignment1_package.inputs import a,b,c\n",
    "s = (a+b+c)/2\n",
    "s"
   ]
  },
  {
   "cell_type": "code",
   "execution_count": 45,
   "id": "bf86af94",
   "metadata": {},
   "outputs": [
    {
     "data": {
      "text/plain": [
       "(3.097937745838546e-14+505.93162828587816j)"
      ]
     },
     "execution_count": 45,
     "metadata": {},
     "output_type": "execute_result"
    }
   ],
   "source": [
    "area = (s*(s-a) * (s-b) * (s-c)) ** 0.5\n",
    "area"
   ]
  },
  {
   "cell_type": "markdown",
   "id": "ba5f4fcb",
   "metadata": {},
   "source": [
    "<span style=\"color:green\">9. Write a list comprehension to print the odd numbers from 0 to 100<span>"
   ]
  },
  {
   "cell_type": "code",
   "execution_count": 40,
   "id": "9cc3b2cd",
   "metadata": {},
   "outputs": [
    {
     "data": {
      "text/plain": [
       "[1,\n",
       " 3,\n",
       " 5,\n",
       " 7,\n",
       " 9,\n",
       " 11,\n",
       " 13,\n",
       " 15,\n",
       " 17,\n",
       " 19,\n",
       " 21,\n",
       " 23,\n",
       " 25,\n",
       " 27,\n",
       " 29,\n",
       " 31,\n",
       " 33,\n",
       " 35,\n",
       " 37,\n",
       " 39,\n",
       " 41,\n",
       " 43,\n",
       " 45,\n",
       " 47,\n",
       " 49,\n",
       " 51,\n",
       " 53,\n",
       " 55,\n",
       " 57,\n",
       " 59,\n",
       " 61,\n",
       " 63,\n",
       " 65,\n",
       " 67,\n",
       " 69,\n",
       " 71,\n",
       " 73,\n",
       " 75,\n",
       " 77,\n",
       " 79,\n",
       " 81,\n",
       " 83,\n",
       " 85,\n",
       " 87,\n",
       " 89,\n",
       " 91,\n",
       " 93,\n",
       " 95,\n",
       " 97,\n",
       " 99]"
      ]
     },
     "execution_count": 40,
     "metadata": {},
     "output_type": "execute_result"
    }
   ],
   "source": [
    "[i for i in range(0,100) if i%2 == 1]"
   ]
  },
  {
   "cell_type": "markdown",
   "id": "00168f7a",
   "metadata": {},
   "source": [
    "\n",
    "<span style=\"color:green\">10.  Create a variable (ex: name) and store your full name in it. Then write a list comprehension to print your name excluding vowels (a, e, i, o, u)<span>\n",
    "<span style=\"color:green\">a. Ex: name = Imran<span>\n",
    "<span style=\"color:green\">b. Output = [‘m’, ‘r’, ‘n’]<span>"
   ]
  },
  {
   "cell_type": "code",
   "execution_count": 41,
   "id": "1203a17d",
   "metadata": {},
   "outputs": [
    {
     "data": {
      "text/plain": [
       "['s', 'r', 'n', 'v', 's', ' ', 'k', 'r', 'n']"
      ]
     },
     "execution_count": 41,
     "metadata": {},
     "output_type": "execute_result"
    }
   ],
   "source": [
    "name = 'srinivas kiran'\n",
    "[i for i in name if i not in ('a', 'e', 'i', 'o', 'u')]"
   ]
  },
  {
   "cell_type": "markdown",
   "id": "bc353ada",
   "metadata": {},
   "source": [
    "#### THANK YOU IMRAN"
   ]
  }
 ],
 "metadata": {
  "kernelspec": {
   "display_name": "Python 3",
   "language": "python",
   "name": "python3"
  },
  "language_info": {
   "codemirror_mode": {
    "name": "ipython",
    "version": 3
   },
   "file_extension": ".py",
   "mimetype": "text/x-python",
   "name": "python",
   "nbconvert_exporter": "python",
   "pygments_lexer": "ipython3",
   "version": "3.9.7"
  }
 },
 "nbformat": 4,
 "nbformat_minor": 5
}
