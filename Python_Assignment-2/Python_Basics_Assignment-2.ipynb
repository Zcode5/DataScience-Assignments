{
 "cells": [
  {
   "cell_type": "markdown",
   "id": "5bbca3c5",
   "metadata": {},
   "source": [
    "\n",
    "Please follow the below instructions for the assignment and upload the answers in your Github profile using the Jupyter notebook:\n",
    "\n",
    "  \n",
    " \n",
    "\n",
    "\n",
    "\n",
    "\n",
    "    \n",
    "   \n",
    "\n",
    "\n",
    "Good luck! 😊"
   ]
  },
  {
   "cell_type": "markdown",
   "id": "fe4c3aec",
   "metadata": {},
   "source": [
    "1. Get the input for 2 variables though “input” function and pass them to a function to return the addition of two variables"
   ]
  },
  {
   "cell_type": "code",
   "execution_count": 1,
   "id": "63fc112b",
   "metadata": {},
   "outputs": [],
   "source": [
    "def input(x,y):\n",
    "    return x+y\n"
   ]
  },
  {
   "cell_type": "code",
   "execution_count": 2,
   "id": "4ecf0e79",
   "metadata": {},
   "outputs": [
    {
     "data": {
      "text/plain": [
       "5"
      ]
     },
     "execution_count": 2,
     "metadata": {},
     "output_type": "execute_result"
    }
   ],
   "source": [
    "input(2,3)"
   ]
  },
  {
   "cell_type": "markdown",
   "id": "004ecfcc",
   "metadata": {},
   "source": [
    "2. What happens if we try to add an int with str and vice versa. Please print out the error"
   ]
  },
  {
   "cell_type": "code",
   "execution_count": 4,
   "id": "017340ea",
   "metadata": {},
   "outputs": [
    {
     "ename": "TypeError",
     "evalue": "unsupported operand type(s) for +: 'int' and 'str'",
     "output_type": "error",
     "traceback": [
      "\u001b[0;31m---------------------------------------------------------------------------\u001b[0m",
      "\u001b[0;31mTypeError\u001b[0m                                 Traceback (most recent call last)",
      "\u001b[0;32m/tmp/ipykernel_11695/2556979404.py\u001b[0m in \u001b[0;36m<module>\u001b[0;34m\u001b[0m\n\u001b[0;32m----> 1\u001b[0;31m \u001b[0;36m2\u001b[0m \u001b[0;34m+\u001b[0m \u001b[0;34m'hello'\u001b[0m\u001b[0;34m\u001b[0m\u001b[0;34m\u001b[0m\u001b[0m\n\u001b[0m",
      "\u001b[0;31mTypeError\u001b[0m: unsupported operand type(s) for +: 'int' and 'str'"
     ]
    }
   ],
   "source": [
    "2 + 'hello'"
   ]
  },
  {
   "cell_type": "code",
   "execution_count": 5,
   "id": "28601f9d",
   "metadata": {},
   "outputs": [
    {
     "ename": "TypeError",
     "evalue": "can only concatenate str (not \"int\") to str",
     "output_type": "error",
     "traceback": [
      "\u001b[0;31m---------------------------------------------------------------------------\u001b[0m",
      "\u001b[0;31mTypeError\u001b[0m                                 Traceback (most recent call last)",
      "\u001b[0;32m/tmp/ipykernel_11695/3247073754.py\u001b[0m in \u001b[0;36m<module>\u001b[0;34m\u001b[0m\n\u001b[0;32m----> 1\u001b[0;31m \u001b[0;34m'hello'\u001b[0m \u001b[0;34m+\u001b[0m \u001b[0;36m4\u001b[0m\u001b[0;34m\u001b[0m\u001b[0;34m\u001b[0m\u001b[0m\n\u001b[0m",
      "\u001b[0;31mTypeError\u001b[0m: can only concatenate str (not \"int\") to str"
     ]
    }
   ],
   "source": [
    "'hello' + 4"
   ]
  },
  {
   "cell_type": "markdown",
   "id": "0a0131ae",
   "metadata": {},
   "source": [
    "3. Create a string variable for the word “Data Science” and see if the letter “s” is present in it using membership operators"
   ]
  },
  {
   "cell_type": "code",
   "execution_count": 6,
   "id": "d8a5ae46",
   "metadata": {},
   "outputs": [],
   "source": [
    "s = 'Data Science'"
   ]
  },
  {
   "cell_type": "code",
   "execution_count": 23,
   "id": "9ac27fd4",
   "metadata": {},
   "outputs": [
    {
     "name": "stdout",
     "output_type": "stream",
     "text": [
      "Not present\n"
     ]
    }
   ],
   "source": [
    "if s.find('s') != -1 :\n",
    "    print('Present')\n",
    "else:\n",
    "    print('Not present')"
   ]
  },
  {
   "cell_type": "markdown",
   "id": "6fa70c95",
   "metadata": {},
   "source": [
    "   4. Write a function and pass a number list as an argument to the function. And return True if the first and last number of a given list is same. If numbers are different then return False"
   ]
  },
  {
   "cell_type": "code",
   "execution_count": 37,
   "id": "76f96329",
   "metadata": {},
   "outputs": [],
   "source": [
    "def comp(l):\n",
    "    if len(l) ==0:\n",
    "        print(\"Please pass some data in the list\")\n",
    "        return\n",
    "    if l[0] == l[len(l)-1]:\n",
    "        return True\n",
    "    else:\n",
    "        return False\n"
   ]
  },
  {
   "cell_type": "code",
   "execution_count": 25,
   "id": "7b049949",
   "metadata": {},
   "outputs": [
    {
     "data": {
      "text/plain": [
       "True"
      ]
     },
     "execution_count": 25,
     "metadata": {},
     "output_type": "execute_result"
    }
   ],
   "source": [
    "comp([2,2])"
   ]
  },
  {
   "cell_type": "code",
   "execution_count": 26,
   "id": "31a2403b",
   "metadata": {},
   "outputs": [
    {
     "data": {
      "text/plain": [
       "True"
      ]
     },
     "execution_count": 26,
     "metadata": {},
     "output_type": "execute_result"
    }
   ],
   "source": [
    "comp([2])"
   ]
  },
  {
   "cell_type": "code",
   "execution_count": 38,
   "id": "4f7fc078",
   "metadata": {},
   "outputs": [
    {
     "name": "stdout",
     "output_type": "stream",
     "text": [
      "Please pass some data in the list\n"
     ]
    }
   ],
   "source": [
    "comp([])"
   ]
  },
  {
   "cell_type": "code",
   "execution_count": 42,
   "id": "0403b6a8",
   "metadata": {},
   "outputs": [
    {
     "data": {
      "text/plain": [
       "True"
      ]
     },
     "execution_count": 42,
     "metadata": {},
     "output_type": "execute_result"
    }
   ],
   "source": [
    "comp([3,2,3])"
   ]
  },
  {
   "cell_type": "markdown",
   "id": "4251c119",
   "metadata": {},
   "source": [
    "    5. Iterate the given list of numbers (l1) and print only those numbers which are divisible by 5. (l1 = [10, 20, 33, 46, 55])M"
   ]
  },
  {
   "cell_type": "code",
   "execution_count": 44,
   "id": "b5c79383",
   "metadata": {},
   "outputs": [],
   "source": [
    "l1 = [10, 20, 33, 46, 55]"
   ]
  },
  {
   "cell_type": "code",
   "execution_count": 49,
   "id": "49a3e4ce",
   "metadata": {},
   "outputs": [
    {
     "data": {
      "text/plain": [
       "[10, 20, 55]"
      ]
     },
     "execution_count": 49,
     "metadata": {},
     "output_type": "execute_result"
    }
   ],
   "source": [
    "[i for i in l1 if i%5==0]"
   ]
  },
  {
   "cell_type": "markdown",
   "id": "10d33ebb",
   "metadata": {},
   "source": [
    "    6. Write a program to create function calculation() such that it can accept two variables and calculate addition and subtraction. Also, it must return both addition and subtraction in a single return call.\n",
    "        a. Hint: Separate return values with a comma"
   ]
  },
  {
   "cell_type": "code",
   "execution_count": 3,
   "id": "6a6cde2d",
   "metadata": {},
   "outputs": [],
   "source": [
    "def calculation(a,b):\n",
    "    return (a+b),(a-b)"
   ]
  },
  {
   "cell_type": "code",
   "execution_count": 4,
   "id": "166591b7",
   "metadata": {},
   "outputs": [
    {
     "data": {
      "text/plain": [
       "(30, -10)"
      ]
     },
     "execution_count": 4,
     "metadata": {},
     "output_type": "execute_result"
    }
   ],
   "source": [
    "calculation(10,20)"
   ]
  },
  {
   "cell_type": "markdown",
   "id": "1472347f",
   "metadata": {},
   "source": [
    "    7. Write a program to demonstrate the following Syntax error\n",
    "        a. SyntaxError: non-default argument follows default argument"
   ]
  },
  {
   "cell_type": "code",
   "execution_count": 6,
   "id": "c249fdbd",
   "metadata": {},
   "outputs": [
    {
     "ename": "SyntaxError",
     "evalue": "non-default argument follows default argument (4018145700.py, line 1)",
     "output_type": "error",
     "traceback": [
      "\u001b[0;36m  File \u001b[0;32m\"/tmp/ipykernel_19612/4018145700.py\"\u001b[0;36m, line \u001b[0;32m1\u001b[0m\n\u001b[0;31m    def def_demo(x=1,y):\u001b[0m\n\u001b[0m                      ^\u001b[0m\n\u001b[0;31mSyntaxError\u001b[0m\u001b[0;31m:\u001b[0m non-default argument follows default argument\n"
     ]
    }
   ],
   "source": [
    "def def_demo(x=1,y):\n",
    "    return x+y"
   ]
  },
  {
   "cell_type": "markdown",
   "id": "63590a63",
   "metadata": {},
   "source": [
    "    8. What’s recursion? Explain in your own words and write a program to create a recursive function to calculate the sum of numbers from 0 to 10"
   ]
  },
  {
   "cell_type": "code",
   "execution_count": 12,
   "id": "6893b91a",
   "metadata": {},
   "outputs": [],
   "source": [
    "def recursion_demo(a):\n",
    "    if a == 0:\n",
    "        return 0\n",
    "    else:\n",
    "        return a + recursion_demo(a-1)"
   ]
  },
  {
   "cell_type": "code",
   "execution_count": 13,
   "id": "6bab2fa8",
   "metadata": {},
   "outputs": [
    {
     "data": {
      "text/plain": [
       "55"
      ]
     },
     "execution_count": 13,
     "metadata": {},
     "output_type": "execute_result"
    }
   ],
   "source": [
    "recursion_demo(10)"
   ]
  },
  {
   "cell_type": "markdown",
   "id": "524a4419",
   "metadata": {},
   "source": [
    "9. Use filter and lambda function to calculate square for below numbers only if they are odd number\n",
    "        a. [12, 11, 53, 22, 21, 77, 87, 88, 98]"
   ]
  },
  {
   "cell_type": "code",
   "execution_count": 20,
   "id": "04d98339",
   "metadata": {},
   "outputs": [],
   "source": [
    "inp = [12, 11, 53, 22, 21, 77, 87, 88, 98]"
   ]
  },
  {
   "cell_type": "code",
   "execution_count": 23,
   "id": "93d774e6",
   "metadata": {},
   "outputs": [
    {
     "data": {
      "text/plain": [
       "[121, 2809, 441, 5929, 7569]"
      ]
     },
     "execution_count": 23,
     "metadata": {},
     "output_type": "execute_result"
    }
   ],
   "source": [
    "list(map(lambda x: x*x, filter(lambda x : x%2 == 1, inp)))"
   ]
  },
  {
   "cell_type": "markdown",
   "id": "700d8464",
   "metadata": {},
   "source": [
    " 10.  Write a function (not a lambda function) and use it to demonstrate an example for map function (any logical function of your choice)"
   ]
  },
  {
   "cell_type": "code",
   "execution_count": 24,
   "id": "8f69e3b4",
   "metadata": {},
   "outputs": [],
   "source": [
    "# convert heights in feet to cms\n",
    "height_feet = [5, 5.6, 6, 4.7]\n",
    "height_cms = list(map(lambda x:x*30.48, height_feet))"
   ]
  },
  {
   "cell_type": "code",
   "execution_count": 25,
   "id": "8ab74a18",
   "metadata": {},
   "outputs": [
    {
     "data": {
      "text/plain": [
       "[152.4, 170.688, 182.88, 143.256]"
      ]
     },
     "execution_count": 25,
     "metadata": {},
     "output_type": "execute_result"
    }
   ],
   "source": [
    "height_cms"
   ]
  },
  {
   "cell_type": "markdown",
   "id": "8beb524c",
   "metadata": {},
   "source": []
  }
 ],
 "metadata": {
  "kernelspec": {
   "display_name": "Python 3",
   "language": "python",
   "name": "python3"
  },
  "language_info": {
   "codemirror_mode": {
    "name": "ipython",
    "version": 3
   },
   "file_extension": ".py",
   "mimetype": "text/x-python",
   "name": "python",
   "nbconvert_exporter": "python",
   "pygments_lexer": "ipython3",
   "version": "3.9.7"
  }
 },
 "nbformat": 4,
 "nbformat_minor": 5
}
